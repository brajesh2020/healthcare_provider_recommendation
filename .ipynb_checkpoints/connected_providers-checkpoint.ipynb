{
 "cells": [
  {
   "cell_type": "code",
   "execution_count": 1,
   "id": "6a75324a-731b-440e-9771-19e4cf73b63f",
   "metadata": {},
   "outputs": [],
   "source": [
    "import dash\n",
    "from dash import dcc, html\n",
    "import networkx as nx\n",
    "import plotly.graph_objs as go\n",
    "from dash.dependencies import Input, Output\n"
   ]
  },
  {
   "cell_type": "code",
   "execution_count": null,
   "id": "d51cfbf5-01e3-41df-8db4-5cc2225aa8d6",
   "metadata": {},
   "outputs": [],
   "source": [
    "import dash\n",
    "from dash import dcc, html\n",
    "import plotly.graph_objs as go\n",
    "from dash.dependencies import Input, Output\n",
    "import pandas as pd\n",
    "\n",
    "# Sample DataFrame\n",
    "data = {\n",
    "    'Source': ['A', 'B', 'C', 'A', 'D'],\n",
    "    'Target': ['B', 'C', 'D', 'E', 'E'],\n",
    "    'Weight': [10, 15, 7, 12, 5],\n",
    "    'Label': ['Label1', 'Label2', 'Label3', 'Label4', 'Label5']\n",
    "}\n",
    "\n",
    "df = pd.DataFrame(data)\n",
    "\n",
    "# Initialize the Dash app\n",
    "app = dash.Dash(__name__)\n",
    "\n",
    "# Define the app layout\n",
    "app.layout = html.Div([\n",
    "    html.H1(\"Connected Graph Visualization\"),\n",
    "    \n",
    "    # Dropdowns for selecting source and target\n",
    "    dcc.Dropdown(\n",
    "        id='source-dropdown',\n",
    "        options=[{'label': node, 'value': node} for node in df['Source\n"
   ]
  }
 ],
 "metadata": {
  "kernelspec": {
   "display_name": "Python 3 (ipykernel)",
   "language": "python",
   "name": "python3"
  },
  "language_info": {
   "codemirror_mode": {
    "name": "ipython",
    "version": 3
   },
   "file_extension": ".py",
   "mimetype": "text/x-python",
   "name": "python",
   "nbconvert_exporter": "python",
   "pygments_lexer": "ipython3",
   "version": "3.11.5"
  }
 },
 "nbformat": 4,
 "nbformat_minor": 5
}
