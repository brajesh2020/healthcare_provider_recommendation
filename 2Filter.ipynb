{
 "cells": [
  {
   "cell_type": "code",
   "execution_count": null,
   "id": "1a0b8bc9",
   "metadata": {
    "vscode": {
     "languageId": "plaintext"
    }
   },
   "outputs": [],
   "source": [
    "# import pandas lib as pd\n",
    "import pandas as pd\n",
    "\n",
    "# read by default 1st sheet of an excel file\n",
    "# dataframe1 = pd.read_excel('E://REVA//Healthcare Providers Data For Anomaly Detection//Medicare1//2021_CA_Data.xlsx',sheet_name=\"Sheet1\",header=0)\n",
    "dataframe1 = pd.read_excel('E://GitHub//healthcare_provider_recommendation//2021_CA_Data.xlsx',sheet_name=\"data1\",header=0)"
   ]
  },
  {
   "cell_type": "code",
   "execution_count": null,
   "id": "5804e467",
   "metadata": {
    "vscode": {
     "languageId": "plaintext"
    }
   },
   "outputs": [],
   "source": [
    "df1 = dataframe1[dataframe1['Rndrng_Prvdr_Zip5'] == 90095] #user input\n",
    "df2=df1[df1[\"HCPCS_Desc\"].str.contains(\"patient\")]\n",
    "print(df2[0:2])"
   ]
  },
  {
   "cell_type": "code",
   "execution_count": null,
   "id": "6ec967af",
   "metadata": {
    "vscode": {
     "languageId": "plaintext"
    }
   },
   "outputs": [],
   "source": [
    "df3=df2"
   ]
  },
  {
   "cell_type": "code",
   "execution_count": null,
   "id": "661181c4",
   "metadata": {
    "vscode": {
     "languageId": "plaintext"
    }
   },
   "outputs": [],
   "source": [
    "df3.loc[:, 'Avg_Sbmtd_Chrg_rank_default'] = df3['Avg_Sbmtd_Chrg'].rank()\n",
    "df3.loc[:, 'Avg_Sbmtd_Chrg_rank_natop'] = df3['Avg_Sbmtd_Chrg'].rank(na_option='top')\n",
    "df3.loc[:, 'Avg_Sbmtd_Chrg_rank_nabottom'] = df3['Avg_Sbmtd_Chrg'].rank(na_option='bottom')"
   ]
  },
  {
   "cell_type": "code",
   "execution_count": null,
   "id": "482c1ebf",
   "metadata": {
    "vscode": {
     "languageId": "plaintext"
    }
   },
   "outputs": [],
   "source": [
    "df3.loc[:, 'Tot_Bene_Day_Srvcs_rank_default'] = df3['Tot_Bene_Day_Srvcs'].rank()\n",
    "df3.loc[:, 'Tot_Bene_Day_Srvcs_rank_natop'] = df3['Tot_Bene_Day_Srvcs'].rank(na_option='top')\n",
    "df3.loc[:, 'Tot_Bene_Day_Srvcs_rank_nabottom'] = df3['Tot_Bene_Day_Srvcs'].rank(na_option='bottom')"
   ]
  },
  {
   "cell_type": "code",
   "execution_count": null,
   "id": "2176622b",
   "metadata": {
    "vscode": {
     "languageId": "plaintext"
    }
   },
   "outputs": [],
   "source": [
    "df3['Avg_Sbmtd_Chrg_rank_default'] = df3['Avg_Sbmtd_Chrg'].rank()\n",
    "df3['Avg_Sbmtd_Chrg_rank_natop'] = df3['Avg_Sbmtd_Chrg'].rank(na_option='top')\n",
    "df3['Avg_Sbmtd_Chrg_rank_nabottom'] = df3['Avg_Sbmtd_Chrg'].rank(na_option='bottom')\n",
    "df3.loc[:, 'Avg_Sbmtd_Chrg_rank_default'] = df3['Avg_Sbmtd_Chrg'].rank()\n",
    "df3.loc[:, 'Avg_Sbmtd_Chrg_rank_natop'] = df3['Avg_Sbmtd_Chrg'].rank(na_option='top')\n",
    "df3.loc[:, 'Avg_Sbmtd_Chrg_rank_nabottom'] = df3['Avg_Sbmtd_Chrg'].rank(na_option='bottom')"
   ]
  },
  {
   "cell_type": "code",
   "execution_count": null,
   "id": "4dd3af08",
   "metadata": {
    "vscode": {
     "languageId": "plaintext"
    }
   },
   "outputs": [],
   "source": [
    "# Calculate the 95th percentile rank\n",
    "percentile_rank = df3['Avg_Sbmtd_Chrg_rank_natop'].quantile(0.95)\n",
    "\n",
    "# Filter the DataFrame for the top 5% based on the percentile rank\n",
    "top_5_percent_df = df3[df3['Avg_Sbmtd_Chrg_rank_natop'] >= percentile_rank]\n",
    "\n",
    "# Now, top_5_percent_df contains the rows with the top 5% of values in 'Avg_Sbmtd_Chrg_rank_natop'\n"
   ]
  },
  {
   "cell_type": "code",
   "execution_count": null,
   "id": "c08bc9d8",
   "metadata": {
    "vscode": {
     "languageId": "plaintext"
    }
   },
   "outputs": [],
   "source": [
    "# Calculate the 5th percentile rank\n",
    "percentile_rank = df3['Avg_Sbmtd_Chrg_rank_natop'].quantile(0.05)\n",
    "\n",
    "# Filter the DataFrame for the bottom 5% based on the percentile rank\n",
    "bottom_5_percent_df = df3[df3['Avg_Sbmtd_Chrg_rank_natop'] <= percentile_rank]\n",
    "\n",
    "# Now, bottom_5_percent_df contains the rows with the bottom 5% of values in 'Avg_Sbmtd_Chrg_rank_natop'\n"
   ]
  }
 ],
 "metadata": {
  "kernelspec": {
   "display_name": "Python 3 (ipykernel)",
   "language": "python",
   "name": "python3"
  },
  "language_info": {
   "codemirror_mode": {
    "name": "ipython",
    "version": 3
   },
   "file_extension": ".py",
   "mimetype": "text/x-python",
   "name": "python",
   "nbconvert_exporter": "python",
   "pygments_lexer": "ipython3",
   "version": "3.10.5"
  }
 },
 "nbformat": 4,
 "nbformat_minor": 5
}
