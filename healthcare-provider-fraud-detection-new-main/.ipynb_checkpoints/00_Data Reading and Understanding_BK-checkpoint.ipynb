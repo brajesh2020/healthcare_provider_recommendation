{
 "cells": [
  {
   "cell_type": "markdown",
   "id": "4460ceba",
   "metadata": {},
   "source": [
    "# Initial Data Reading and Analysis"
   ]
  },
  {
   "cell_type": "code",
   "execution_count": 4,
   "id": "259a1d9c",
   "metadata": {},
   "outputs": [
    {
     "name": "stdout",
     "output_type": "stream",
     "text": [
      "C:/Users/brajesh/Downloads/healthcare-provider-fraud-detection-main/archive\\Test-1542969243754.csv\n",
      "C:/Users/brajesh/Downloads/healthcare-provider-fraud-detection-main/archive\\Test_Beneficiarydata-1542969243754.csv\n",
      "C:/Users/brajesh/Downloads/healthcare-provider-fraud-detection-main/archive\\Test_Inpatientdata-1542969243754.csv\n",
      "C:/Users/brajesh/Downloads/healthcare-provider-fraud-detection-main/archive\\Test_Outpatientdata-1542969243754.csv\n",
      "C:/Users/brajesh/Downloads/healthcare-provider-fraud-detection-main/archive\\Train-1542865627584.csv\n",
      "C:/Users/brajesh/Downloads/healthcare-provider-fraud-detection-main/archive\\Train_Beneficiarydata-1542865627584.csv\n",
      "C:/Users/brajesh/Downloads/healthcare-provider-fraud-detection-main/archive\\Train_Inpatientdata-1542865627584.csv\n",
      "C:/Users/brajesh/Downloads/healthcare-provider-fraud-detection-main/archive\\Train_Outpatientdata-1542865627584.csv\n"
     ]
    }
   ],
   "source": [
    "import os\n",
    "import pandas as pd\n",
    "for dirname, _, filenames in os.walk('C:/Users/brajesh/Downloads/healthcare-provider-fraud-detection-main/archive'):\n",
    "    for filename in filenames:\n",
    "        print(os.path.join(dirname, filename))"
   ]
  },
  {
   "cell_type": "markdown",
   "id": "05e67b9d",
   "metadata": {},
   "source": [
    "# Dataset column analysis"
   ]
  },
  {
   "cell_type": "markdown",
   "id": "570f5de5",
   "metadata": {},
   "source": [
    "# Importing Training Dataset"
   ]
  },
  {
   "cell_type": "code",
   "execution_count": 5,
   "id": "e0d34ce6",
   "metadata": {},
   "outputs": [],
   "source": [
    "# Function to load the inputs dataset\n",
    "def read_data(tp = \"Train\", N = 1542865627584):\n",
    "    path1=\"C:/Users/brajesh/Downloads/healthcare-provider-fraud-detection-main/archive\"\n",
    "    target = pd.read_csv(path1 + \"/{}-{}.csv\".format(tp.title(), N))\n",
    "    pt = pd.read_csv(path1 + \"/{}_Beneficiarydata-{}.csv\".format(tp.title(), N))\n",
    "    in_pt = pd.read_csv(path1 + \"/{}_Inpatientdata-{}.csv\".format(tp.title(), N))\n",
    "    out_pt = pd.read_csv(path1 + \"/{}_Outpatientdata-{}.csv\".format(tp.title(), N))\n",
    "    return(in_pt, out_pt, pt, target)"
   ]
  },
  {
   "cell_type": "code",
   "execution_count": 6,
   "id": "7b58f35d",
   "metadata": {},
   "outputs": [],
   "source": [
    "### Load Train data\n",
    "train_in_pt, train_out_pt, train_ben, train_target = read_data()"
   ]
  },
  {
   "cell_type": "code",
   "execution_count": 7,
   "id": "6803d9e9",
   "metadata": {},
   "outputs": [
    {
     "data": {
      "text/html": [
       "<div>\n",
       "<style scoped>\n",
       "    .dataframe tbody tr th:only-of-type {\n",
       "        vertical-align: middle;\n",
       "    }\n",
       "\n",
       "    .dataframe tbody tr th {\n",
       "        vertical-align: top;\n",
       "    }\n",
       "\n",
       "    .dataframe thead th {\n",
       "        text-align: right;\n",
       "    }\n",
       "</style>\n",
       "<table border=\"1\" class=\"dataframe\">\n",
       "  <thead>\n",
       "    <tr style=\"text-align: right;\">\n",
       "      <th></th>\n",
       "      <th>Provider</th>\n",
       "      <th>PotentialFraud</th>\n",
       "    </tr>\n",
       "  </thead>\n",
       "  <tbody>\n",
       "    <tr>\n",
       "      <th>0</th>\n",
       "      <td>PRV51001</td>\n",
       "      <td>No</td>\n",
       "    </tr>\n",
       "    <tr>\n",
       "      <th>1</th>\n",
       "      <td>PRV51003</td>\n",
       "      <td>Yes</td>\n",
       "    </tr>\n",
       "    <tr>\n",
       "      <th>2</th>\n",
       "      <td>PRV51004</td>\n",
       "      <td>No</td>\n",
       "    </tr>\n",
       "    <tr>\n",
       "      <th>3</th>\n",
       "      <td>PRV51005</td>\n",
       "      <td>Yes</td>\n",
       "    </tr>\n",
       "    <tr>\n",
       "      <th>4</th>\n",
       "      <td>PRV51007</td>\n",
       "      <td>No</td>\n",
       "    </tr>\n",
       "  </tbody>\n",
       "</table>\n",
       "</div>"
      ],
      "text/plain": [
       "   Provider PotentialFraud\n",
       "0  PRV51001             No\n",
       "1  PRV51003            Yes\n",
       "2  PRV51004             No\n",
       "3  PRV51005            Yes\n",
       "4  PRV51007             No"
      ]
     },
     "execution_count": 7,
     "metadata": {},
     "output_type": "execute_result"
    }
   ],
   "source": [
    "train_target.head()"
   ]
  },
  {
   "cell_type": "markdown",
   "id": "6046ed14",
   "metadata": {},
   "source": [
    "# It consists of provider number and corresponding whether this provider is potentially fraud. Provider ID is the primary key in that table."
   ]
  },
  {
   "cell_type": "code",
   "execution_count": 8,
   "id": "1588c233",
   "metadata": {},
   "outputs": [],
   "source": [
    "# Function to load the inputs dataset\n",
    "def read_data(tp = \"Test\", N = 1542969243754):\n",
    "    path1=\"C:/Users/brajesh/Downloads/healthcare-provider-fraud-detection-main/archive\"\n",
    "    target = pd.read_csv(path1 + \"/{}-{}.csv\".format(tp.title(), N))\n",
    "    pt = pd.read_csv(path1 + \"/{}_Beneficiarydata-{}.csv\".format(tp.title(), N))\n",
    "    in_pt = pd.read_csv(path1 + \"/{}_Inpatientdata-{}.csv\".format(tp.title(), N))\n",
    "    out_pt = pd.read_csv(path1 + \"/{}_Outpatientdata-{}.csv\".format(tp.title(), N))\n",
    "    return(in_pt, out_pt, pt, target)"
   ]
  },
  {
   "cell_type": "code",
   "execution_count": 9,
   "id": "35f20c2a",
   "metadata": {},
   "outputs": [],
   "source": [
    "### Load Test data\n",
    "test_in_pt, test_out_pt, test_ben, test_target = read_data()"
   ]
  },
  {
   "cell_type": "code",
   "execution_count": 10,
   "id": "bcab5d45",
   "metadata": {},
   "outputs": [
    {
     "data": {
      "text/plain": [
       "Index(['Provider'], dtype='object')"
      ]
     },
     "execution_count": 10,
     "metadata": {},
     "output_type": "execute_result"
    }
   ],
   "source": [
    "test_target.columns"
   ]
  },
  {
   "cell_type": "markdown",
   "id": "a03b8288",
   "metadata": {},
   "source": [
    "# Test data consists of only the provider number. We need to predict whether these providers are potentially fraud or not."
   ]
  },
  {
   "cell_type": "code",
   "execution_count": 11,
   "id": "798c0a1e",
   "metadata": {},
   "outputs": [
    {
     "data": {
      "text/plain": [
       "Index(['BeneID', 'ClaimID', 'ClaimStartDt', 'ClaimEndDt', 'Provider',\n",
       "       'InscClaimAmtReimbursed', 'AttendingPhysician', 'OperatingPhysician',\n",
       "       'OtherPhysician', 'ClmDiagnosisCode_1', 'ClmDiagnosisCode_2',\n",
       "       'ClmDiagnosisCode_3', 'ClmDiagnosisCode_4', 'ClmDiagnosisCode_5',\n",
       "       'ClmDiagnosisCode_6', 'ClmDiagnosisCode_7', 'ClmDiagnosisCode_8',\n",
       "       'ClmDiagnosisCode_9', 'ClmDiagnosisCode_10', 'ClmProcedureCode_1',\n",
       "       'ClmProcedureCode_2', 'ClmProcedureCode_3', 'ClmProcedureCode_4',\n",
       "       'ClmProcedureCode_5', 'ClmProcedureCode_6', 'DeductibleAmtPaid',\n",
       "       'ClmAdmitDiagnosisCode'],\n",
       "      dtype='object')"
      ]
     },
     "execution_count": 11,
     "metadata": {},
     "output_type": "execute_result"
    }
   ],
   "source": [
    "train_out_pt.columns"
   ]
  },
  {
   "cell_type": "code",
   "execution_count": 12,
   "id": "501b0fbb",
   "metadata": {},
   "outputs": [
    {
     "data": {
      "text/plain": [
       "Index(['BeneID', 'ClaimID', 'ClaimStartDt', 'ClaimEndDt', 'Provider',\n",
       "       'InscClaimAmtReimbursed', 'AttendingPhysician', 'OperatingPhysician',\n",
       "       'OtherPhysician', 'ClmDiagnosisCode_1', 'ClmDiagnosisCode_2',\n",
       "       'ClmDiagnosisCode_3', 'ClmDiagnosisCode_4', 'ClmDiagnosisCode_5',\n",
       "       'ClmDiagnosisCode_6', 'ClmDiagnosisCode_7', 'ClmDiagnosisCode_8',\n",
       "       'ClmDiagnosisCode_9', 'ClmDiagnosisCode_10', 'ClmProcedureCode_1',\n",
       "       'ClmProcedureCode_2', 'ClmProcedureCode_3', 'ClmProcedureCode_4',\n",
       "       'ClmProcedureCode_5', 'ClmProcedureCode_6', 'DeductibleAmtPaid',\n",
       "       'ClmAdmitDiagnosisCode'],\n",
       "      dtype='object')"
      ]
     },
     "execution_count": 12,
     "metadata": {},
     "output_type": "execute_result"
    }
   ],
   "source": [
    "test_out_pt.columns"
   ]
  },
  {
   "cell_type": "markdown",
   "id": "8fcff349",
   "metadata": {},
   "source": [
    "# Outpatient Data (Train and Test):\n",
    "\n",
    "It consists of the claim details for the patients who were not admitted into hospital, who only visited there. Important columns are explained below.\n",
    "\n",
    "BeneID: It contains the unique id of each beneficiaries i.e patients.\n",
    "\n",
    "ClaimID: It contains the unique id of the claim submitted by the provider.\n",
    "\n",
    "ClaimStartDt: It contains the date when the claim started in yyyy-mm-dd format.\n",
    "\n",
    "ClaimEndDt: It contains the date when the claim ended in yyyy-mm-dd format.\n",
    "\n",
    "Provider: It contains the unique id of the provider.\n",
    "\n",
    "InscClaimAmtReimbursed: It contains the amount reimbursed for that particular claim.\n",
    "\n",
    "AttendingPhysician: It contains the id of the Physicican who attended the patient.\n",
    "\n",
    "OperatingPhysician: It contains the id of the Physicican who operated the patient.\n",
    "\n",
    "OtherPhysician: It contains the id of the Physicican other than AttendingPhysician and \n",
    "OperatingPhysician who treated the patient.\n",
    "\n",
    "ClmDiagnosisCode: It contains codes of the diagnosis performed by the provider on the patient for that claim.\n",
    "\n",
    "ClmProcedureCode: It contains the codes of the procedures of the patient for treatment for that particular claim.\n",
    "\n",
    "DeductibleAmtPaid: It consists of the amount by the patient. That is equal to Total_claim_amount - Reimbursed_amount."
   ]
  },
  {
   "cell_type": "code",
   "execution_count": 13,
   "id": "58149f33",
   "metadata": {},
   "outputs": [
    {
     "data": {
      "text/plain": [
       "Index(['BeneID', 'ClaimID', 'ClaimStartDt', 'ClaimEndDt', 'Provider',\n",
       "       'InscClaimAmtReimbursed', 'AttendingPhysician', 'OperatingPhysician',\n",
       "       'OtherPhysician', 'ClmDiagnosisCode_1', 'ClmDiagnosisCode_2',\n",
       "       'ClmDiagnosisCode_3', 'ClmDiagnosisCode_4', 'ClmDiagnosisCode_5',\n",
       "       'ClmDiagnosisCode_6', 'ClmDiagnosisCode_7', 'ClmDiagnosisCode_8',\n",
       "       'ClmDiagnosisCode_9', 'ClmDiagnosisCode_10', 'ClmProcedureCode_1',\n",
       "       'ClmProcedureCode_2', 'ClmProcedureCode_3', 'ClmProcedureCode_4',\n",
       "       'ClmProcedureCode_5', 'ClmProcedureCode_6', 'DeductibleAmtPaid',\n",
       "       'ClmAdmitDiagnosisCode'],\n",
       "      dtype='object')"
      ]
     },
     "execution_count": 13,
     "metadata": {},
     "output_type": "execute_result"
    }
   ],
   "source": [
    "train_out_pt.columns"
   ]
  },
  {
   "cell_type": "code",
   "execution_count": 14,
   "id": "877becf0",
   "metadata": {},
   "outputs": [
    {
     "data": {
      "text/plain": [
       "Index(['BeneID', 'ClaimID', 'ClaimStartDt', 'ClaimEndDt', 'Provider',\n",
       "       'InscClaimAmtReimbursed', 'AttendingPhysician', 'OperatingPhysician',\n",
       "       'OtherPhysician', 'ClmDiagnosisCode_1', 'ClmDiagnosisCode_2',\n",
       "       'ClmDiagnosisCode_3', 'ClmDiagnosisCode_4', 'ClmDiagnosisCode_5',\n",
       "       'ClmDiagnosisCode_6', 'ClmDiagnosisCode_7', 'ClmDiagnosisCode_8',\n",
       "       'ClmDiagnosisCode_9', 'ClmDiagnosisCode_10', 'ClmProcedureCode_1',\n",
       "       'ClmProcedureCode_2', 'ClmProcedureCode_3', 'ClmProcedureCode_4',\n",
       "       'ClmProcedureCode_5', 'ClmProcedureCode_6', 'DeductibleAmtPaid',\n",
       "       'ClmAdmitDiagnosisCode'],\n",
       "      dtype='object')"
      ]
     },
     "execution_count": 14,
     "metadata": {},
     "output_type": "execute_result"
    }
   ],
   "source": [
    "test_out_pt.columns"
   ]
  },
  {
   "cell_type": "markdown",
   "id": "caab66b3",
   "metadata": {},
   "source": [
    "# Inpatient Data (Train and Test):\n",
    "\n",
    "It consists of the claim details for the patients who were admitted into hospital. So, it consists 3 extra columns Admission date, Discharge date and Diagnosis Group code.\n",
    "\n",
    "AdmissionDt: It contains the date on which the patient was admitted into hospital in yyyy-mm-dd format.\n",
    "\n",
    "DischargeDt: It contains the date on which the patient was discharged from the hospital in yyyy-mm-dd format.\n",
    "\n",
    "DiagnosisGroupCode: It contains group code for the diagnosis done on the patient."
   ]
  },
  {
   "cell_type": "code",
   "execution_count": 15,
   "id": "4d9bca89",
   "metadata": {},
   "outputs": [
    {
     "data": {
      "text/plain": [
       "Index(['BeneID', 'DOB', 'DOD', 'Gender', 'Race', 'RenalDiseaseIndicator',\n",
       "       'State', 'County', 'NoOfMonths_PartACov', 'NoOfMonths_PartBCov',\n",
       "       'ChronicCond_Alzheimer', 'ChronicCond_Heartfailure',\n",
       "       'ChronicCond_KidneyDisease', 'ChronicCond_Cancer',\n",
       "       'ChronicCond_ObstrPulmonary', 'ChronicCond_Depression',\n",
       "       'ChronicCond_Diabetes', 'ChronicCond_IschemicHeart',\n",
       "       'ChronicCond_Osteoporasis', 'ChronicCond_rheumatoidarthritis',\n",
       "       'ChronicCond_stroke', 'IPAnnualReimbursementAmt',\n",
       "       'IPAnnualDeductibleAmt', 'OPAnnualReimbursementAmt',\n",
       "       'OPAnnualDeductibleAmt'],\n",
       "      dtype='object')"
      ]
     },
     "execution_count": 15,
     "metadata": {},
     "output_type": "execute_result"
    }
   ],
   "source": [
    "train_ben.columns"
   ]
  },
  {
   "cell_type": "code",
   "execution_count": 16,
   "id": "f580440e",
   "metadata": {},
   "outputs": [
    {
     "data": {
      "text/plain": [
       "Index(['BeneID', 'DOB', 'DOD', 'Gender', 'Race', 'RenalDiseaseIndicator',\n",
       "       'State', 'County', 'NoOfMonths_PartACov', 'NoOfMonths_PartBCov',\n",
       "       'ChronicCond_Alzheimer', 'ChronicCond_Heartfailure',\n",
       "       'ChronicCond_KidneyDisease', 'ChronicCond_Cancer',\n",
       "       'ChronicCond_ObstrPulmonary', 'ChronicCond_Depression',\n",
       "       'ChronicCond_Diabetes', 'ChronicCond_IschemicHeart',\n",
       "       'ChronicCond_Osteoporasis', 'ChronicCond_rheumatoidarthritis',\n",
       "       'ChronicCond_stroke', 'IPAnnualReimbursementAmt',\n",
       "       'IPAnnualDeductibleAmt', 'OPAnnualReimbursementAmt',\n",
       "       'OPAnnualDeductibleAmt'],\n",
       "      dtype='object')"
      ]
     },
     "execution_count": 16,
     "metadata": {},
     "output_type": "execute_result"
    }
   ],
   "source": [
    "test_ben.columns"
   ]
  },
  {
   "cell_type": "markdown",
   "id": "09499cdd",
   "metadata": {},
   "source": [
    "# Beneficiary Data (Train and Test): This data contains beneficiary KYC details like DOB, DOD, Gender, Race, health conditions (Chronic disease if any), State, Country they belong to etc. Columns of this dataset are explained below.\n",
    "\n",
    "BeneID: It contains the unique id of the beneficiary.\n",
    "\n",
    "DOB: It contains the Date of Birth of the beneficiary.\n",
    "\n",
    "DOD: It contains the Date of Death of the beneficiary, if the beneficiary id deal else null.\n",
    "\n",
    "Gender, Race, State, Country: It contains the Gender, Race, State, Country of the beneficiary.\n",
    "\n",
    "RenalDiseaseIndicator: It contains if the patient has existing kidney disease.\n",
    "\n",
    "ChronicCond_*: The columns started with \"ChronicCond_\" indicates if the patient has existing that particular disease. Which also indicates the risk score of that patient.\n",
    "\n",
    "IPAnnualReimbursementAmt: It consists of maximun reimbursement amount for hospitalization anually.\n",
    "\n",
    "IPAnnualDeductibleAmt: It consists of premium paid by the patient for hospitalization anually.\n",
    "\n",
    "OPAnnualReimbursementAmt: It consists of maximun reimbursement amount for outpatient visit anually.\n",
    "\n",
    "OPAnnualDeductibleAmt: It consists of premium paid by the patient for outpatient visit anually."
   ]
  },
  {
   "cell_type": "markdown",
   "id": "31027379",
   "metadata": {},
   "source": [
    "# Performance metric:\n",
    "\n",
    "As the dataset in healthcare fraud is highly imbalanced(very few fraud cases) accuracy won't be the proper metric. An important initial step will be to plot the confusion matrix. Then we need to check the misclassification i.e. FP and FN. FN means the cases predicted by the model is legitimate but actually it is fraudulent. FP means the cases detected by the model is fraudulent, but actually it is legitimate.\n",
    "\n",
    "So, the performance metrices are:\n",
    "\n",
    "1. Confusion Matrix: It is the table where TP, FP, TN, FN counts will be plotted. From this table we can visualize the performance of the model.\n",
    "\n",
    "2. F1 Score: F1 Score = 2(Precision * Recall)/(Precision + Recall) where Precision = TP/(TP+FP) and Recall = TP/(TP+FN). As F1 score consists of both Precision and Pecall it will be correct metric for this problem.\n",
    "\n",
    "3. AUC Score: AUC stands for Area Under ROC(Receiver Operating Characteristics) Curve. ROC plots TPR with respect to FPR for different thresholds. The area under the curve depends on the ranking of the predicted probability score, not on absolute values.\n",
    "\n",
    "4. FPR and FNR: As cost of misclassification is very high, we need to check the FPR and FNR separately, It should be as low as possible."
   ]
  },
  {
   "cell_type": "code",
   "execution_count": null,
   "id": "2819509e",
   "metadata": {},
   "outputs": [],
   "source": []
  }
 ],
 "metadata": {
  "kernelspec": {
   "display_name": "Python 3 (ipykernel)",
   "language": "python",
   "name": "python3"
  },
  "language_info": {
   "codemirror_mode": {
    "name": "ipython",
    "version": 3
   },
   "file_extension": ".py",
   "mimetype": "text/x-python",
   "name": "python",
   "nbconvert_exporter": "python",
   "pygments_lexer": "ipython3",
   "version": "3.10.5"
  }
 },
 "nbformat": 4,
 "nbformat_minor": 5
}
