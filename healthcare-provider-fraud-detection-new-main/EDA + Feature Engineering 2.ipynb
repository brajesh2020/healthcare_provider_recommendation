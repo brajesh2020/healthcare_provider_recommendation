{
 "cells": [
  {
   "cell_type": "code",
   "execution_count": 1,
   "id": "a761e3db",
   "metadata": {},
   "outputs": [],
   "source": [
    "import numpy as np\n",
    "import pandas as pd\n",
    "import seaborn as sns\n",
    "import matplotlib.pyplot as plt\n",
    "import os\n",
    "%matplotlib inline\n",
    "path_for_files=\"C:/Users/brajesh/Downloads/healthcare-provider-fraud-detection/archive\""
   ]
  },
  {
   "cell_type": "code",
   "execution_count": 2,
   "id": "45be7ddd",
   "metadata": {},
   "outputs": [
    {
     "name": "stdout",
     "output_type": "stream",
     "text": [
      "Test-1542969243754.csv\n",
      "Test_Beneficiarydata-1542969243754.csv\n",
      "Test_Inpatientdata-1542969243754.csv\n",
      "Test_Outpatientdata-1542969243754.csv\n",
      "Train-1542865627584.csv\n",
      "Train_Beneficiarydata-1542865627584.csv\n",
      "Train_Inpatientdata-1542865627584.csv\n",
      "Train_Outpatientdata-1542865627584.csv\n"
     ]
    }
   ],
   "source": [
    "import os\n",
    "import pandas as pd\n",
    "for dirname, _, filenames in os.walk(path_for_files):\n",
    "    for filename in filenames:\n",
    "        print(filename)"
   ]
  },
  {
   "cell_type": "code",
   "execution_count": 3,
   "id": "26575010",
   "metadata": {},
   "outputs": [],
   "source": [
    "# Function to load the inputs dataset\n",
    "def read_data(tp = \"Train\", N = 1542865627584):\n",
    "    path1=path_for_files\n",
    "    target = pd.read_csv(path1 + \"/{}-{}.csv\".format(tp.title(), N))\n",
    "    pt = pd.read_csv(path1 + \"/{}_Beneficiarydata-{}.csv\".format(tp.title(), N))\n",
    "    in_pt = pd.read_csv(path1 + \"/{}_Inpatientdata-{}.csv\".format(tp.title(), N))\n",
    "    out_pt = pd.read_csv(path1 + \"/{}_Outpatientdata-{}.csv\".format(tp.title(), N))\n",
    "    return(in_pt, out_pt, pt, target)\n",
    "\n",
    "### Load Train data\n",
    "train_in_pt, train_out_pt, train_ben, train_target = read_data()\n",
    "\n",
    "Train_Inpatient=train_in_pt\n",
    "Train_Outpatient=train_out_pt\n",
    "Train_Beneficiary=train_ben\n",
    "Train=train_target"
   ]
  },
  {
   "cell_type": "code",
   "execution_count": 4,
   "id": "78272802",
   "metadata": {},
   "outputs": [],
   "source": [
    "# Function to load the inputs dataset\n",
    "def read_data(tp = \"Test\", N = 1542969243754):\n",
    "    path1=path_for_files\n",
    "    target = pd.read_csv(path1 + \"/{}-{}.csv\".format(tp.title(), N))\n",
    "    pt = pd.read_csv(path1 + \"/{}_Beneficiarydata-{}.csv\".format(tp.title(), N))\n",
    "    in_pt = pd.read_csv(path1 + \"/{}_Inpatientdata-{}.csv\".format(tp.title(), N))\n",
    "    out_pt = pd.read_csv(path1 + \"/{}_Outpatientdata-{}.csv\".format(tp.title(), N))\n",
    "    return(in_pt, out_pt, pt, target)\n",
    "\n",
    "### Load Test data\n",
    "test_in_pt, test_out_pt, test_ben, test_target = read_data()\n",
    "\n",
    "Test_Inpatient=test_in_pt\n",
    "Test_Outpatient=test_out_pt\n",
    "Test_Beneficiary=test_ben\n",
    "Test=test_target"
   ]
  },
  {
   "cell_type": "code",
   "execution_count": 5,
   "id": "4d163f51",
   "metadata": {},
   "outputs": [],
   "source": [
    "# https://stackoverflow.com/questions/31749448/how-to-add-percentages-on-top-of-bars-in-seaborn\n",
    "def percentage_with_hue(plot, feature, Number_of_categories, hue_categories, x_pos=0, y_pos=0, fontsize = 12):\n",
    "    '''\n",
    "    This function prints percentage of a barplot when plotted with hue.\n",
    "    '''\n",
    "    # get the height of each bar\n",
    "    a = [p.get_height() for p in plot.patches]\n",
    "    patch = [p for p in plot.patches]\n",
    "    for i in range(Number_of_categories):\n",
    "        total = feature.value_counts().values[i]\n",
    "        for j in range(hue_categories):\n",
    "            # calculate percentage of the category\n",
    "            percentage = '{:.2f}%'.format(100 * a[(j*Number_of_categories + i)]/total)\n",
    "            # set the x and y position of the percentage value to look good\n",
    "            x = patch[(j*Number_of_categories + i)].get_x() + patch[(j*Number_of_categories + i)].get_width() / 2 + x_pos\n",
    "            y = patch[(j*Number_of_categories + i)].get_y() + patch[(j*Number_of_categories + i)].get_height() + y_pos\n",
    "            ax.annotate(percentage, (x, y), fontsize = fontsize)\n",
    "    plt.show()\n",
    "    \n",
    "def percentage_without_hue(ax, feature, x_pos=0, y_pos=0, fontsize = 12 ):\n",
    "    '''\n",
    "    This function prints percentage of a barplot when plotted without hue.\n",
    "    '''\n",
    "    total = len(feature)\n",
    "    for p in ax.patches:\n",
    "        # calculate percentage of the category\n",
    "        percentage = '{:.2f}%'.format(100 * p.get_height()/total)\n",
    "        x = p.get_x() + p.get_width()/2 + x_pos # To adjust the position of the percentage value\n",
    "        y = p.get_y() + p.get_height() + y_pos # To adjust the position of the percentage value\n",
    "        ax.annotate(percentage, (x, y),ha='center', size = fontsize)\n",
    "    plt.show()"
   ]
  },
  {
   "cell_type": "code",
   "execution_count": 6,
   "id": "b253a98d",
   "metadata": {},
   "outputs": [],
   "source": [
    "# display all the columns in a dataframe\n",
    "pd.set_option('display.max_columns', None)"
   ]
  },
  {
   "cell_type": "code",
   "execution_count": 7,
   "id": "ef75ecef",
   "metadata": {},
   "outputs": [],
   "source": [
    "# Replacing 2 with 0 for chronic conditions, Zero indicates chronic condition is No\n",
    "\n",
    "Train_Beneficiary = Train_Beneficiary.replace({'ChronicCond_Alzheimer': 2, 'ChronicCond_Heartfailure': 2, 'ChronicCond_KidneyDisease': 2,\n",
    "                           'ChronicCond_Cancer': 2, 'ChronicCond_ObstrPulmonary': 2, 'ChronicCond_Depression': 2, \n",
    "                           'ChronicCond_Diabetes': 2, 'ChronicCond_IschemicHeart': 2, 'ChronicCond_Osteoporasis': 2, \n",
    "                           'ChronicCond_rheumatoidarthritis': 2, 'ChronicCond_stroke': 2 }, 0)\n",
    "\n",
    "# For RenalDiseaseIndicator replacing 'Y' with 1\n",
    "Train_Beneficiary = Train_Beneficiary.replace({'RenalDiseaseIndicator': 'Y'}, 1)\n",
    "\n",
    "Test_Beneficiary = Test_Beneficiary.replace({'ChronicCond_Alzheimer': 2, 'ChronicCond_Heartfailure': 2, 'ChronicCond_KidneyDisease': 2,\n",
    "                           'ChronicCond_Cancer': 2, 'ChronicCond_ObstrPulmonary': 2, 'ChronicCond_Depression': 2, \n",
    "                           'ChronicCond_Diabetes': 2, 'ChronicCond_IschemicHeart': 2, 'ChronicCond_Osteoporasis': 2, \n",
    "                           'ChronicCond_rheumatoidarthritis': 2, 'ChronicCond_stroke': 2 }, 0)\n",
    "\n",
    "Test_Beneficiary = Test_Beneficiary.replace({'RenalDiseaseIndicator': 'Y'}, 1)"
   ]
  },
  {
   "cell_type": "code",
   "execution_count": 8,
   "id": "fc5bada7",
   "metadata": {},
   "outputs": [],
   "source": [
    "# convert all these columns datatypes to numeric\n",
    "Train_Beneficiary[[\"ChronicCond_Alzheimer\", \"ChronicCond_Heartfailure\", \"ChronicCond_KidneyDisease\", \"ChronicCond_Cancer\", \"ChronicCond_ObstrPulmonary\", \"ChronicCond_Depression\", \"ChronicCond_Diabetes\", \"ChronicCond_IschemicHeart\", \"ChronicCond_Osteoporasis\", \"ChronicCond_rheumatoidarthritis\", \"ChronicCond_stroke\", \"RenalDiseaseIndicator\"]] = Train_Beneficiary[[\"ChronicCond_Alzheimer\", \"ChronicCond_Heartfailure\", \"ChronicCond_KidneyDisease\", \"ChronicCond_Cancer\", \"ChronicCond_ObstrPulmonary\", \"ChronicCond_Depression\", \"ChronicCond_Diabetes\", \"ChronicCond_IschemicHeart\", \"ChronicCond_Osteoporasis\", \"ChronicCond_rheumatoidarthritis\", \"ChronicCond_stroke\", \"RenalDiseaseIndicator\"]].apply(pd.to_numeric)\n",
    "\n",
    "Test_Beneficiary[[\"ChronicCond_Alzheimer\", \"ChronicCond_Heartfailure\", \"ChronicCond_KidneyDisease\", \"ChronicCond_Cancer\", \"ChronicCond_ObstrPulmonary\", \"ChronicCond_Depression\", \"ChronicCond_Diabetes\", \"ChronicCond_IschemicHeart\", \"ChronicCond_Osteoporasis\", \"ChronicCond_rheumatoidarthritis\", \"ChronicCond_stroke\", \"RenalDiseaseIndicator\"]] = Test_Beneficiary[[\"ChronicCond_Alzheimer\", \"ChronicCond_Heartfailure\", \"ChronicCond_KidneyDisease\", \"ChronicCond_Cancer\", \"ChronicCond_ObstrPulmonary\", \"ChronicCond_Depression\", \"ChronicCond_Diabetes\", \"ChronicCond_IschemicHeart\", \"ChronicCond_Osteoporasis\", \"ChronicCond_rheumatoidarthritis\", \"ChronicCond_stroke\", \"RenalDiseaseIndicator\"]].apply(pd.to_numeric)"
   ]
  },
  {
   "cell_type": "code",
   "execution_count": 9,
   "id": "3ddb5761",
   "metadata": {},
   "outputs": [],
   "source": [
    "# calculate patient risk score by summing up all the chronic conditions.\n",
    "# The higher risk score indicates the health of the patient is not good\n",
    "\n",
    "Train_Beneficiary['Patient_Risk_Score'] = Train_Beneficiary['ChronicCond_Alzheimer'] + Train_Beneficiary['ChronicCond_Heartfailure'] + \\\n",
    "                                        Train_Beneficiary['ChronicCond_KidneyDisease'] + Train_Beneficiary['ChronicCond_Cancer'] +\\\n",
    "                                        Train_Beneficiary['ChronicCond_ObstrPulmonary'] + Train_Beneficiary['ChronicCond_Depression'] +\\\n",
    "                                    Train_Beneficiary['ChronicCond_Diabetes'] + Train_Beneficiary['ChronicCond_IschemicHeart'] +\\\n",
    "                                    Train_Beneficiary['ChronicCond_Osteoporasis'] + Train_Beneficiary['ChronicCond_rheumatoidarthritis'] +\\\n",
    "                                    Train_Beneficiary['ChronicCond_stroke'] + Train_Beneficiary['RenalDiseaseIndicator'] \n",
    "\n",
    "# calculate patient risk score by summing up all risk scores\n",
    "Test_Beneficiary['Patient_Risk_Score'] = Test_Beneficiary['ChronicCond_Alzheimer'] + Test_Beneficiary['ChronicCond_Heartfailure'] + \\\n",
    "                                        Test_Beneficiary['ChronicCond_KidneyDisease'] + Test_Beneficiary['ChronicCond_Cancer'] +\\\n",
    "                                        Test_Beneficiary['ChronicCond_ObstrPulmonary'] + Test_Beneficiary['ChronicCond_Depression'] +\\\n",
    "                                    Test_Beneficiary['ChronicCond_Diabetes'] + Test_Beneficiary['ChronicCond_IschemicHeart'] +\\\n",
    "                                    Test_Beneficiary['ChronicCond_Osteoporasis'] + Test_Beneficiary['ChronicCond_rheumatoidarthritis'] +\\\n",
    "                                    Test_Beneficiary['ChronicCond_stroke'] + Test_Beneficiary['RenalDiseaseIndicator'] "
   ]
  },
  {
   "cell_type": "code",
   "execution_count": 10,
   "id": "f144c28a",
   "metadata": {},
   "outputs": [],
   "source": [
    "# Replacing '2' with '0' for Gender Type\n",
    "Train_Beneficiary = Train_Beneficiary.replace({'Gender': 2}, 0)\n",
    "\n",
    "Test_Beneficiary = Test_Beneficiary.replace({'Gender': 2}, 0)"
   ]
  },
  {
   "cell_type": "code",
   "execution_count": 11,
   "id": "769c35b9",
   "metadata": {},
   "outputs": [
    {
     "data": {
      "image/png": "[encoded data removed]",
      "text/plain": [
       "<Figure size 864x432 with 1 Axes>"
      ]
     },
     "metadata": {
      "needs_background": "light"
     },
     "output_type": "display_data"
    }
   ],
   "source": [
    "# Distribition of patient risk score\n",
    "plt.figure(figsize=(12, 6))\n",
    "ax = sns.countplot(x='Patient_Risk_Score',y=None, data=Train_Beneficiary, orient =\"v\")\n",
    "plt.title('Distribution of  Patient_Risk_Score (Train_Beneficiary)', fontsize=20)\n",
    "plt.xticks(size = 10)\n",
    "plt.yticks(size = 10)\n",
    "plt.xlabel('Parient Risk Score', size = 14)\n",
    "plt.ylabel('Patient Count', size = 14)\n",
    "percentage_without_hue(ax, Train_Beneficiary['Patient_Risk_Score'], 0.01, 200,12)"
   ]
  },
  {
   "cell_type": "code",
   "execution_count": 12,
   "id": "aaf0b9b2",
   "metadata": {},
   "outputs": [
    {
     "data": {
      "image/png": "[encoded data removed]",
      "text/plain": [
       "<Figure size 720x360 with 1 Axes>"
      ]
     },
     "metadata": {
      "needs_background": "light"
     },
     "output_type": "display_data"
    }
   ],
   "source": [
    "# Plot distribution of race in beneficiaries data\n",
    "plt.figure(figsize=(10, 5))\n",
    "ax = sns.countplot(x='NoOfMonths_PartACov',y=None, data=Train_Beneficiary, orient =\"v\", order = Train_Beneficiary['NoOfMonths_PartACov'].value_counts().index)\n",
    "plt.title('Distribution of  NoOfMonths_PartACov (Train_Beneficiary)', fontsize=20)\n",
    "plt.xticks(size = 10)\n",
    "plt.yticks(size = 10)\n",
    "# plt.xlabel('Race Code', size = 14)\n",
    "# plt.ylabel('Race Count', size = 14)\n",
    "percentage_without_hue(ax, Train_Beneficiary['Race'], 0.01, 200,12)"
   ]
  },
  {
   "cell_type": "code",
   "execution_count": 13,
   "id": "264372ad",
   "metadata": {},
   "outputs": [
    {
     "data": {
      "image/png": "[encoded data removed]",
      "text/plain": [
       "<Figure size 720x360 with 1 Axes>"
      ]
     },
     "metadata": {
      "needs_background": "light"
     },
     "output_type": "display_data"
    }
   ],
   "source": [
    "# Plot distribution of race in beneficiaries data\n",
    "plt.figure(figsize=(10, 5))\n",
    "ax = sns.countplot(x='NoOfMonths_PartBCov',y=None, data=Train_Beneficiary, orient =\"v\", order = Train_Beneficiary['NoOfMonths_PartBCov'].value_counts().index)\n",
    "plt.title('Distribution of  NoOfMonths_PartBCov (Train_Beneficiary)', fontsize=20)\n",
    "plt.xticks(size = 10)\n",
    "plt.yticks(size = 10)\n",
    "# plt.xlabel('Race Code', size = 14)\n",
    "# plt.ylabel('Race Count', size = 14)\n",
    "percentage_without_hue(ax, Train_Beneficiary['Race'], 0.01, 200,12)"
   ]
  },
  {
   "cell_type": "code",
   "execution_count": 14,
   "id": "835e4d26",
   "metadata": {},
   "outputs": [
    {
     "data": {
      "image/png": "[encoded data removed]",
      "text/plain": [
       "<Figure size 720x360 with 1 Axes>"
      ]
     },
     "metadata": {},
     "output_type": "display_data"
    }
   ],
   "source": [
    "# Plot distribution of IPAnnualReimbursementAmt\n",
    "sns.set_style('whitegrid')\n",
    "plt.figure(figsize=(10, 5))\n",
    "sns.histplot(Train_Beneficiary['IPAnnualReimbursementAmt'], kde = True, color ='green', bins = 50)\n",
    "plt.show()"
   ]
  },
  {
   "cell_type": "code",
   "execution_count": 16,
   "id": "02fc25f9",
   "metadata": {},
   "outputs": [
    {
     "name": "stdout",
     "output_type": "stream",
     "text": [
      "25 , 0.0 || 50 , 0.0 || 75 , 2280.0 || 100 , 161470.0 || \n",
      "\n",
      "90 , 12000.0 || 91 , 13000.0 || 92 , 14400.0 || 93 , 16000.0 || 94 , 18000.0 || 95 , 20260.0 || 96 , 24000.0 || 97 , 28243.50000000006 || 98 , 35000.0 || 99 , 49000.0 || \n",
      "\n",
      "99.1 , 51110.0 || 99.2 , 54000.0 || 99.3 , 57000.0 || 99.4 , 57100.0 || 99.5 , 59210.0 || 99.6 , 63000.0 || 99.7 , 67333.39999999967 || 99.8 , 74000.0 || 99.9 , 87000.0 || 100 , 161470.0 || \n",
      "\n"
     ]
    },
    {
     "data": {
      "image/png": "[encoded data removed]",
      "text/plain": [
       "<Figure size 432x288 with 1 Axes>"
      ]
     },
     "metadata": {},
     "output_type": "display_data"
    }
   ],
   "source": [
    "for p in range(25,101,25):\n",
    "    print(p, \",\", np.percentile(Train_Beneficiary['IPAnnualReimbursementAmt'], p), end=\" || \")\n",
    "print('\\n')\n",
    "for p in range(90,100,1):\n",
    "    print(p, \",\", np.percentile(Train_Beneficiary['IPAnnualReimbursementAmt'], p), end=\" || \")\n",
    "print('\\n')\n",
    "for p in [99.1,99.2,99.3,99.4,99.5,99.6,99.7,99.8,99.9,100]:\n",
    "    print(p, \",\", np.percentile(Train_Beneficiary['IPAnnualReimbursementAmt'], p), end=\" || \")\n",
    "print('\\n')\n",
    "# Plot boxplot for IPAnnualReimbursementAmt\n",
    "sns.boxplot(y='IPAnnualReimbursementAmt', data=Train_Beneficiary)\n",
    "plt.show()"
   ]
  },
  {
   "cell_type": "code",
   "execution_count": 17,
   "id": "712ef3b0",
   "metadata": {},
   "outputs": [
    {
     "data": {
      "image/png": "[encoded data removed]",
      "text/plain": [
       "<Figure size 720x360 with 1 Axes>"
      ]
     },
     "metadata": {},
     "output_type": "display_data"
    }
   ],
   "source": [
    "# Plot distribution of IPAnnualDeductibleAmt\n",
    "sns.set_style('whitegrid') \n",
    "plt.figure(figsize=(10, 5))\n",
    "sns.histplot(Train_Beneficiary['IPAnnualDeductibleAmt'], kde = True, color ='green', bins = 50)\n",
    "plt.show()"
   ]
  },
  {
   "cell_type": "code",
   "execution_count": 18,
   "id": "08040983",
   "metadata": {},
   "outputs": [
    {
     "name": "stdout",
     "output_type": "stream",
     "text": [
      "25 , 0.0 || 50 , 0.0 || 75 , 1068.0 || 100 , 38272.0 || \n",
      "====================================================================================================\n",
      "90 , 1068.0 || 91 , 1068.0 || 92 , 1068.0 || 93 , 1068.0 || 94 , 2136.0 || 95 , 2136.0 || 96 , 2136.0 || 97 , 2136.0 || 98 , 2136.0 || 99 , 3204.0 || \n",
      "====================================================================================================\n",
      "99.1 , 3204.0 || 99.2 , 3204.0 || 99.3 , 4136.0 || 99.4 , 4272.0 || 99.5 , 4272.0 || 99.6 , 4272.0 || 99.7 , 5340.0 || 99.8 , 6272.0 || 99.9 , 9068.0 || 100 , 38272.0 || "
     ]
    }
   ],
   "source": [
    "# check the percentiles\n",
    "for p in range(25,101,25):\n",
    "    print(p, \",\", np.percentile(Train_Beneficiary['IPAnnualDeductibleAmt'], p), end=\" || \")\n",
    "    \n",
    "\n",
    "print('\\n'+'='*100)\n",
    "\n",
    "for p in range(90,100,1):\n",
    "    print(p, \",\", np.percentile(Train_Beneficiary['IPAnnualDeductibleAmt'], p), end=\" || \")\n",
    "    \n",
    "print('\\n'+'='*100)\n",
    "\n",
    "for p in [99.1,99.2,99.3,99.4,99.5,99.6,99.7,99.8,99.9,100]:\n",
    "    print(p, \",\", np.percentile(Train_Beneficiary['IPAnnualDeductibleAmt'], p), end=\" || \")"
   ]
  },
  {
   "cell_type": "code",
   "execution_count": 19,
   "id": "ba63e8b5",
   "metadata": {},
   "outputs": [
    {
     "data": {
      "image/png": "[encoded data removed]",
      "text/plain": [
       "<Figure size 576x576 with 1 Axes>"
      ]
     },
     "metadata": {},
     "output_type": "display_data"
    }
   ],
   "source": [
    "# Plot Scatterplot IPAnnualDeductibleAmt vs IPAnnualReimbursementAmt\n",
    "plt.figure(figsize=(8, 8))\n",
    "plt.scatter(Train_Beneficiary.IPAnnualDeductibleAmt, Train_Beneficiary.IPAnnualReimbursementAmt)\n",
    "plt.xlabel('IPAnnualDeductibleAmt')\n",
    "plt.ylabel('IPAnnualReimbursementAmt')\n",
    "plt.title('IPAnnualDeductibleAmt vs IPAnnualReimbursementAmt')\n",
    "plt.show()"
   ]
  },
  {
   "cell_type": "code",
   "execution_count": 20,
   "id": "1d201e34",
   "metadata": {},
   "outputs": [
    {
     "data": {
      "image/png": "[encoded data removed]",
      "text/plain": [
       "<Figure size 720x360 with 1 Axes>"
      ]
     },
     "metadata": {},
     "output_type": "display_data"
    }
   ],
   "source": [
    "# Plot distribution of OPAnnualReimbursementAmt\n",
    "sns.set_style('whitegrid') \n",
    "plt.figure(figsize=(10, 5))\n",
    "sns.histplot(Train_Beneficiary['OPAnnualReimbursementAmt'], kde = True, color ='green', bins = 50)\n",
    "plt.show()"
   ]
  },
  {
   "cell_type": "code",
   "execution_count": 21,
   "id": "89255765",
   "metadata": {},
   "outputs": [
    {
     "name": "stdout",
     "output_type": "stream",
     "text": [
      "25 , 170.0 || 50 , 570.0 || 75 , 1500.0 || 100 , 102960.0 || \n",
      "====================================================================================================\n",
      "90 , 3230.0 || 91 , 3380.500000000029 || 92 , 3560.0 || 93 , 3780.0 || 94 , 4030.0 || 95 , 4370.0 || 96 , 4850.0 || 97 , 5540.0 || 98 , 6850.0 || 99 , 11514.500000000116 || \n",
      "====================================================================================================\n",
      "99.1 , 12680.250000000233 || 99.2 , 13840.0 || 99.3 , 14741.149999999907 || 99.4 , 16173.400000000256 || 99.5 , 17666.750000000175 || 99.6 , 19197.79999999999 || 99.7 , 21406.699999999837 || 99.8 , 24230.0 || 99.9 , 28694.45000000007 || 100 , 102960.0 || "
     ]
    }
   ],
   "source": [
    "for p in range(25,101,25):\n",
    "    print(p, \",\", np.percentile(Train_Beneficiary['OPAnnualReimbursementAmt'], p), end=\" || \")\n",
    "    \n",
    "\n",
    "print('\\n'+'='*100)\n",
    "\n",
    "for p in range(90,100,1):\n",
    "    print(p, \",\", np.percentile(Train_Beneficiary['OPAnnualReimbursementAmt'], p), end=\" || \")\n",
    "    \n",
    "print('\\n'+'='*100)\n",
    "\n",
    "for p in [99.1,99.2,99.3,99.4,99.5,99.6,99.7,99.8,99.9,100]:\n",
    "    print(p, \",\", np.percentile(Train_Beneficiary['OPAnnualReimbursementAmt'], p), end=\" || \")"
   ]
  },
  {
   "cell_type": "code",
   "execution_count": 22,
   "id": "a6a53b81",
   "metadata": {},
   "outputs": [
    {
     "data": {
      "image/png": "[encoded data removed]",
      "text/plain": [
       "<Figure size 432x288 with 1 Axes>"
      ]
     },
     "metadata": {},
     "output_type": "display_data"
    }
   ],
   "source": [
    "# plot boxplot for OPAnnualReimbursementAmt\n",
    "sns.boxplot(y='OPAnnualReimbursementAmt', data=Train_Beneficiary)\n",
    "plt.show()"
   ]
  },
  {
   "cell_type": "code",
   "execution_count": 23,
   "id": "3ca40697",
   "metadata": {},
   "outputs": [
    {
     "data": {
      "text/plain": [
       "'1/1/1943'"
      ]
     },
     "execution_count": 23,
     "metadata": {},
     "output_type": "execute_result"
    }
   ],
   "source": [
    "Train_Beneficiary['DOB'][0]"
   ]
  },
  {
   "cell_type": "code",
   "execution_count": 24,
   "id": "3f34aff2",
   "metadata": {},
   "outputs": [],
   "source": [
    "# Convert Date of Birth and Date of Death from String to Datetime format\n",
    "Train_Beneficiary['DOB'] = pd.to_datetime(Train_Beneficiary['DOB'] , format = '%d/%m/%Y')\n",
    "Train_Beneficiary['DOD'] = pd.to_datetime(Train_Beneficiary['DOD'],format ='%d/%m/%Y')\n",
    "\n",
    "Test_Beneficiary['DOB'] = pd.to_datetime(Test_Beneficiary['DOB'] , format = '%d/%m/%Y')\n",
    "Test_Beneficiary['DOD'] = pd.to_datetime(Test_Beneficiary['DOD'],format ='%d/%m/%Y')"
   ]
  },
  {
   "cell_type": "code",
   "execution_count": 25,
   "id": "f0032785",
   "metadata": {},
   "outputs": [
    {
     "data": {
      "text/plain": [
       "Timestamp('2009-01-12 00:00:00')"
      ]
     },
     "execution_count": 25,
     "metadata": {},
     "output_type": "execute_result"
    }
   ],
   "source": [
    "# Check last date DOD\n",
    "Train_Beneficiary['DOD'].max()"
   ]
  },
  {
   "cell_type": "code",
   "execution_count": 26,
   "id": "05d3f2d2",
   "metadata": {},
   "outputs": [],
   "source": [
    "# https://stackoverflow.com/questions/25146121/extracting-just-month-and-year-separately-from-pandas-datetime-column\n",
    "# Get the birth month and Birth year for DOB and DOD\n",
    "Train_Beneficiary['Birth_Year'] = Train_Beneficiary['DOB'].dt.year\n",
    "Train_Beneficiary['Birth_Month'] = Train_Beneficiary['DOB'].dt.month\n",
    "\n",
    "Test_Beneficiary['Birth_Year'] = Test_Beneficiary['DOB'].dt.year\n",
    "Test_Beneficiary['Birth_Month'] = Test_Beneficiary['DOB'].dt.month"
   ]
  },
  {
   "cell_type": "code",
   "execution_count": 27,
   "id": "0213cd96",
   "metadata": {},
   "outputs": [],
   "source": [
    "# https://stackoverflow.com/questions/46508895/calculating-age-from-date-time-format-in-python-pandas?noredirect=1&lq=1\n",
    "Train_Beneficiary['Patient_Age'] = round(((Train_Beneficiary['DOD'] - Train_Beneficiary['DOB']).dt.days)/365)\n",
    "Train_Beneficiary.Patient_Age.fillna(round(((pd.to_datetime('2009-12-01',format ='%Y-%m-%d')-Train_Beneficiary['DOB']).dt.days)/365),inplace=True)\n",
    "\n",
    "Test_Beneficiary['Patient_Age'] = round(((Test_Beneficiary['DOD'] - Test_Beneficiary['DOB']).dt.days)/365)\n",
    "Test_Beneficiary.Patient_Age.fillna(round(((pd.to_datetime('2009-12-01',format ='%Y-%m-%d')-Test_Beneficiary['DOB']).dt.days)/365),inplace=True)"
   ]
  },
  {
   "cell_type": "code",
   "execution_count": 28,
   "id": "fd471f7d",
   "metadata": {},
   "outputs": [
    {
     "data": {
      "image/png": "[encoded data removed]",
      "text/plain": [
       "<Figure size 720x360 with 1 Axes>"
      ]
     },
     "metadata": {},
     "output_type": "display_data"
    }
   ],
   "source": [
    "# Plot distribution of age\n",
    "sns.set_style('whitegrid') \n",
    "plt.figure(figsize=(10, 5))\n",
    "sns.histplot(Train_Beneficiary['Patient_Age'], kde = False, color ='green', bins = 100)\n",
    "plt.show()"
   ]
  },
  {
   "cell_type": "code",
   "execution_count": 29,
   "id": "77fc8c5b",
   "metadata": {},
   "outputs": [
    {
     "data": {
      "image/png": "[encoded data removed]",
      "text/plain": [
       "<Figure size 720x360 with 1 Axes>"
      ]
     },
     "metadata": {},
     "output_type": "display_data"
    }
   ],
   "source": [
    "# Plot distribution of age\n",
    "sns.set_style('whitegrid')\n",
    "plt.figure(figsize=(10, 5))\n",
    "sns.histplot(Train_Beneficiary['Patient_Age'], kde = True, color ='green', bins = 20)\n",
    "plt.show()"
   ]
  },
  {
   "cell_type": "code",
   "execution_count": 30,
   "id": "1a8ba1c1",
   "metadata": {},
   "outputs": [
    {
     "data": {
      "image/png": "[encoded data removed]",
      "text/plain": [
       "<Figure size 720x360 with 1 Axes>"
      ]
     },
     "metadata": {},
     "output_type": "display_data"
    }
   ],
   "source": [
    "# Plot distribution of birth month of patients\n",
    "plt.figure(figsize=(10, 5))\n",
    "ax = sns.countplot(x='Birth_Month',y=None, data=Train_Beneficiary, orient =\"v\", order = Train_Beneficiary['Birth_Month'].value_counts().index)\n",
    "plt.title('Distribution of  Birth_Month (Train_Beneficiary)', fontsize=20)\n",
    "plt.xticks(size = 10)\n",
    "plt.yticks(size = 10)\n",
    "plt.xlabel('Birth Month', size = 14)\n",
    "plt.ylabel('Count', size = 14)\n",
    "percentage_without_hue(ax, Train_Beneficiary['Birth_Month'], 0.01, 20,12)"
   ]
  },
  {
   "cell_type": "code",
   "execution_count": 31,
   "id": "21ac28c5",
   "metadata": {},
   "outputs": [],
   "source": [
    "# Set value=1 if the patient is dead i.e DOD value is not null\n",
    "Train_Beneficiary['isDead'] = 0\n",
    "Train_Beneficiary.loc[Train_Beneficiary.DOD.notna(), 'isDead'] = 1\n",
    "Test_Beneficiary['isDead'] = 0\n",
    "Test_Beneficiary.loc[Test_Beneficiary.DOD.notna(), 'isDead'] = 1"
   ]
  },
  {
   "cell_type": "code",
   "execution_count": 32,
   "id": "b6e41a34",
   "metadata": {},
   "outputs": [],
   "source": [
    "# convert ClaimStartDt, ClaimEndDt from string to datetime format\n",
    "Train_Inpatient['ClaimStartDt'] = pd.to_datetime(Train_Inpatient['ClaimStartDt'] , format = '%Y-%m-%d')\n",
    "Train_Inpatient['ClaimEndDt'] = pd.to_datetime(Train_Inpatient['ClaimEndDt'],format = '%Y-%m-%d')\n",
    "\n",
    "Test_Inpatient['ClaimStartDt'] = pd.to_datetime(Test_Inpatient['ClaimStartDt'] , format = '%Y-%m-%d')\n",
    "Test_Inpatient['ClaimEndDt'] = pd.to_datetime(Test_Inpatient['ClaimEndDt'],format = '%Y-%m-%d')\n",
    "\n",
    "# convert AdmissionDt, DischargeDt from string to datetime format\n",
    "Train_Inpatient['AdmissionDt'] = pd.to_datetime(Train_Inpatient['AdmissionDt'] , format = '%Y-%m-%d')\n",
    "Train_Inpatient['DischargeDt'] = pd.to_datetime(Train_Inpatient['DischargeDt'],format = '%Y-%m-%d')\n",
    "\n",
    "Test_Inpatient['AdmissionDt'] = pd.to_datetime(Test_Inpatient['AdmissionDt'] , format = '%Y-%m-%d')\n",
    "Test_Inpatient['DischargeDt'] = pd.to_datetime(Test_Inpatient['DischargeDt'],format = '%Y-%m-%d')"
   ]
  },
  {
   "cell_type": "code",
   "execution_count": 33,
   "id": "6bf72b1e",
   "metadata": {},
   "outputs": [],
   "source": [
    "# Calculate Hospitalization_Duration = DischargeDt - AdmissionDt\n",
    "Train_Inpatient['Hospitalization_Duration'] = ((Train_Inpatient['DischargeDt'] - Train_Inpatient['AdmissionDt']).dt.days)+1\n",
    "# Calculate Claim_Period = ClaimEndDt - ClaimStartDt\n",
    "Train_Inpatient['Claim_Period'] = ((Train_Inpatient['ClaimEndDt'] - Train_Inpatient['ClaimStartDt']).dt.days)+1\n",
    "\n",
    "Test_Inpatient['Hospitalization_Duration'] = ((Test_Inpatient['DischargeDt'] - Test_Inpatient['AdmissionDt']).dt.days)+1\n",
    "Test_Inpatient['Claim_Period'] = ((Test_Inpatient['ClaimEndDt'] - Test_Inpatient['ClaimStartDt']).dt.days)+1"
   ]
  },
  {
   "cell_type": "code",
   "execution_count": 34,
   "id": "5a3ae032",
   "metadata": {},
   "outputs": [],
   "source": [
    "# ExtraClaimDays = Claim_Period - Hospitalization_Duration\n",
    "Train_Inpatient['ExtraClaimDays'] = np.where(Train_Inpatient['Claim_Period']>Train_Inpatient['Hospitalization_Duration'], Train_Inpatient['Claim_Period'] - Train_Inpatient['Hospitalization_Duration'], 0)\n",
    "Test_Inpatient['ExtraClaimDays'] = np.where(Test_Inpatient['Claim_Period']>Test_Inpatient['Hospitalization_Duration'], Test_Inpatient['Claim_Period'] - Test_Inpatient['Hospitalization_Duration'], 0)"
   ]
  },
  {
   "cell_type": "code",
   "execution_count": 35,
   "id": "ca912234",
   "metadata": {},
   "outputs": [],
   "source": [
    "# https://stackoverflow.com/questions/25146121/extracting-just-month-and-year-separately-from-pandas-datetime-column\n",
    "# Get the months and year of claim start and claim end\n",
    "Train_Inpatient['ClaimStart_Year'] = Train_Inpatient['ClaimStartDt'].dt.year\n",
    "Train_Inpatient['ClaimStart_Month'] = Train_Inpatient['ClaimStartDt'].dt.month\n",
    "Test_Inpatient['ClaimStart_Year'] = Test_Inpatient['ClaimStartDt'].dt.year\n",
    "Test_Inpatient['ClaimStart_Month'] = Test_Inpatient['ClaimStartDt'].dt.month\n",
    "\n",
    "Train_Inpatient['ClaimEnd_Year'] = Train_Inpatient['ClaimEndDt'].dt.year\n",
    "Train_Inpatient['ClaimEnd_Month'] = Train_Inpatient['ClaimEndDt'].dt.month\n",
    "Test_Inpatient['ClaimEnd_Year'] = Test_Inpatient['ClaimEndDt'].dt.year\n",
    "Test_Inpatient['ClaimEnd_Month'] = Test_Inpatient['ClaimEndDt'].dt.month"
   ]
  },
  {
   "cell_type": "code",
   "execution_count": 36,
   "id": "362aa5e9",
   "metadata": {},
   "outputs": [],
   "source": [
    "# Get the month and year of Admission_Year and Admission_Month\n",
    "Train_Inpatient['Admission_Year'] = Train_Inpatient['AdmissionDt'].dt.year\n",
    "Train_Inpatient['Admission_Month'] = Train_Inpatient['AdmissionDt'].dt.month\n",
    "Test_Inpatient['Admission_Year'] = Test_Inpatient['AdmissionDt'].dt.year\n",
    "Test_Inpatient['Admission_Month'] = Test_Inpatient['AdmissionDt'].dt.month\n",
    "\n",
    "Train_Inpatient['Discharge_Year'] = Train_Inpatient['DischargeDt'].dt.year\n",
    "Train_Inpatient['Discharge_Month'] = Train_Inpatient['DischargeDt'].dt.month\n",
    "Test_Inpatient['Discharge_Year'] = Test_Inpatient['DischargeDt'].dt.year\n",
    "Test_Inpatient['Discharge_Month'] = Test_Inpatient['DischargeDt'].dt.month"
   ]
  },
  {
   "cell_type": "code",
   "execution_count": 37,
   "id": "7ea2aef2",
   "metadata": {},
   "outputs": [],
   "source": [
    "# Concat all the claim precedurecodes in a single dataframe\n",
    "ClmProcedureCode_IP_df = pd.DataFrame(columns = ['ProcedureCode'])\n",
    "ClmProcedureCode_IP_df['ProcedureCode'] = pd.concat([Train_Inpatient[\"ClmProcedureCode_1\"], \n",
    "                                   Train_Inpatient[\"ClmProcedureCode_2\"],\n",
    "                                   Train_Inpatient[\"ClmProcedureCode_3\"],\n",
    "                                   Train_Inpatient[\"ClmProcedureCode_4\"], \n",
    "                                   Train_Inpatient[\"ClmProcedureCode_5\"], \n",
    "                                   Train_Inpatient[\"ClmProcedureCode_6\"]], axis=0, sort=True).dropna()"
   ]
  },
  {
   "cell_type": "code",
   "execution_count": 38,
   "id": "892d9f46",
   "metadata": {},
   "outputs": [],
   "source": [
    "# Concat all the claim DiagnosisCodes in a single dataframe\n",
    "ClmDiagnosisCode_IP_df = pd.DataFrame(columns = ['DiagnosisCode'])\n",
    "\n",
    "ClmDiagnosisCode_IP_df['DiagnosisCode'] = pd.concat([Train_Inpatient[\"ClmDiagnosisCode_1\"], \n",
    "                                           Train_Inpatient[\"ClmDiagnosisCode_2\"], \n",
    "                                           Train_Inpatient[\"ClmDiagnosisCode_3\"], \n",
    "                                           Train_Inpatient[\"ClmDiagnosisCode_4\"],\n",
    "                                           Train_Inpatient[\"ClmDiagnosisCode_5\"], \n",
    "                                           Train_Inpatient[\"ClmDiagnosisCode_6\"],\n",
    "                                           Train_Inpatient[\"ClmDiagnosisCode_7\"],\n",
    "                                           Train_Inpatient[\"ClmDiagnosisCode_8\"],\n",
    "                                           Train_Inpatient[\"ClmDiagnosisCode_9\"],\n",
    "                                           Train_Inpatient[\"ClmDiagnosisCode_10\"]], axis=0, sort=True).dropna()"
   ]
  },
  {
   "cell_type": "code",
   "execution_count": 39,
   "id": "52bb0232",
   "metadata": {},
   "outputs": [
    {
     "data": {
      "text/plain": [
       "40474"
      ]
     },
     "execution_count": 39,
     "metadata": {},
     "output_type": "execute_result"
    }
   ],
   "source": [
    "# Calculate total InscClaimAmtReimbursed for inpatient\n",
    "Train_Inpatient['InscClaimAmtReimbursed'].notna().sum()"
   ]
  },
  {
   "cell_type": "code",
   "execution_count": 40,
   "id": "b8c19715",
   "metadata": {},
   "outputs": [
    {
     "data": {
      "text/plain": [
       "Index(['BeneID', 'ClaimID', 'ClaimStartDt', 'ClaimEndDt', 'Provider',\n",
       "       'InscClaimAmtReimbursed', 'AttendingPhysician', 'OperatingPhysician',\n",
       "       'OtherPhysician', 'AdmissionDt', 'ClmAdmitDiagnosisCode',\n",
       "       'DeductibleAmtPaid', 'DischargeDt', 'DiagnosisGroupCode',\n",
       "       'ClmDiagnosisCode_1', 'ClmDiagnosisCode_2', 'ClmDiagnosisCode_3',\n",
       "       'ClmDiagnosisCode_4', 'ClmDiagnosisCode_5', 'ClmDiagnosisCode_6',\n",
       "       'ClmDiagnosisCode_7', 'ClmDiagnosisCode_8', 'ClmDiagnosisCode_9',\n",
       "       'ClmDiagnosisCode_10', 'ClmProcedureCode_1', 'ClmProcedureCode_2',\n",
       "       'ClmProcedureCode_3', 'ClmProcedureCode_4', 'ClmProcedureCode_5',\n",
       "       'ClmProcedureCode_6', 'Hospitalization_Duration', 'Claim_Period',\n",
       "       'ExtraClaimDays', 'ClaimStart_Year', 'ClaimStart_Month',\n",
       "       'ClaimEnd_Year', 'ClaimEnd_Month', 'Admission_Year', 'Admission_Month',\n",
       "       'Discharge_Year', 'Discharge_Month'],\n",
       "      dtype='object')"
      ]
     },
     "execution_count": 40,
     "metadata": {},
     "output_type": "execute_result"
    }
   ],
   "source": [
    "Train_Inpatient.columns"
   ]
  },
  {
   "cell_type": "code",
   "execution_count": 41,
   "id": "6e2045af",
   "metadata": {},
   "outputs": [],
   "source": [
    "# convert ClaimStartDt, ClaimEndDt from string to datetime format\n",
    "Train_Outpatient['ClaimStartDt'] = pd.to_datetime(Train_Outpatient['ClaimStartDt'] , format = '%Y-%m-%d')\n",
    "Train_Outpatient['ClaimEndDt'] = pd.to_datetime(Train_Outpatient['ClaimEndDt'],format = '%Y-%m-%d')\n",
    "\n",
    "Test_Outpatient['ClaimStartDt'] = pd.to_datetime(Test_Outpatient['ClaimStartDt'] , format = '%Y-%m-%d')\n",
    "Test_Outpatient['ClaimEndDt'] = pd.to_datetime(Test_Outpatient['ClaimEndDt'],format = '%Y-%m-%d')"
   ]
  },
  {
   "cell_type": "code",
   "execution_count": 42,
   "id": "dc21f339",
   "metadata": {},
   "outputs": [],
   "source": [
    "# https://stackoverflow.com/questions/25146121/extracting-just-month-and-year-separately-from-pandas-datetime-column\n",
    "# Get the months and year of claim start and claim end\n",
    "Train_Outpatient['ClaimStart_Year'] = Train_Outpatient['ClaimStartDt'].dt.year\n",
    "Train_Outpatient['ClaimStart_Month'] = Train_Outpatient['ClaimStartDt'].dt.month\n",
    "Test_Outpatient['ClaimStart_Year'] = Test_Outpatient['ClaimStartDt'].dt.year\n",
    "Test_Outpatient['ClaimStart_Month'] = Test_Outpatient['ClaimStartDt'].dt.month\n",
    "\n",
    "Train_Outpatient['ClaimEnd_Year'] = Train_Outpatient['ClaimEndDt'].dt.year\n",
    "Train_Outpatient['ClaimEnd_Month'] = Train_Outpatient['ClaimEndDt'].dt.month\n",
    "Test_Outpatient['ClaimEnd_Year'] = Test_Outpatient['ClaimEndDt'].dt.year\n",
    "Test_Outpatient['ClaimEnd_Month'] = Test_Outpatient['ClaimEndDt'].dt.month"
   ]
  },
  {
   "cell_type": "code",
   "execution_count": 43,
   "id": "1f045ae5",
   "metadata": {},
   "outputs": [],
   "source": [
    "# Calculate Claim_Period = ClaimEndDt - ClaimStartDt\n",
    "Train_Outpatient['Claim_Period'] = ((Train_Outpatient['ClaimEndDt'] - Train_Outpatient['ClaimStartDt']).dt.days)+1\n",
    "\n",
    "Test_Outpatient['Claim_Period'] = ((Test_Outpatient['ClaimEndDt'] - Test_Outpatient['ClaimStartDt']).dt.days)+1"
   ]
  },
  {
   "cell_type": "code",
   "execution_count": 44,
   "id": "c9d50ec5",
   "metadata": {},
   "outputs": [],
   "source": [
    "# Concat all the claim precedurecodes in a single dataframe\n",
    "ClmProcedureCode_OP_df = pd.DataFrame(columns = ['ProcedureCode'])\n",
    "ClmProcedureCode_OP_df['ProcedureCode'] = pd.concat([Train_Outpatient[\"ClmProcedureCode_1\"], \n",
    "                                   Train_Outpatient[\"ClmProcedureCode_2\"],\n",
    "                                   Train_Outpatient[\"ClmProcedureCode_3\"],\n",
    "                                   Train_Outpatient[\"ClmProcedureCode_4\"], \n",
    "                                   Train_Outpatient[\"ClmProcedureCode_5\"], \n",
    "                                   Train_Outpatient[\"ClmProcedureCode_6\"]], axis=0, sort=True).dropna()"
   ]
  },
  {
   "cell_type": "code",
   "execution_count": 45,
   "id": "fa15b1d7",
   "metadata": {},
   "outputs": [],
   "source": [
    "# Concat all the claim DiagnosisCodes in a single dataframe\n",
    "ClmDiagnosisCode_OP_df = pd.DataFrame(columns = ['DiagnosisCode'])\n",
    "\n",
    "ClmDiagnosisCode_OP_df['DiagnosisCode'] = pd.concat([Train_Outpatient[\"ClmDiagnosisCode_1\"], \n",
    "                                           Train_Outpatient[\"ClmDiagnosisCode_2\"], \n",
    "                                           Train_Outpatient[\"ClmDiagnosisCode_3\"], \n",
    "                                           Train_Outpatient[\"ClmDiagnosisCode_4\"],\n",
    "                                           Train_Outpatient[\"ClmDiagnosisCode_5\"], \n",
    "                                           Train_Outpatient[\"ClmDiagnosisCode_6\"],\n",
    "                                           Train_Outpatient[\"ClmDiagnosisCode_7\"],\n",
    "                                           Train_Outpatient[\"ClmDiagnosisCode_8\"],\n",
    "                                           Train_Outpatient[\"ClmDiagnosisCode_9\"],\n",
    "                                           Train_Outpatient[\"ClmDiagnosisCode_10\"]], axis=0, sort=True).dropna()"
   ]
  },
  {
   "cell_type": "code",
   "execution_count": 46,
   "id": "3d86c8bb",
   "metadata": {},
   "outputs": [
    {
     "data": {
      "text/plain": [
       "Index(['BeneID', 'ClaimID', 'ClaimStartDt', 'ClaimEndDt', 'Provider',\n",
       "       'InscClaimAmtReimbursed', 'AttendingPhysician', 'OperatingPhysician',\n",
       "       'OtherPhysician', 'ClmDiagnosisCode_1', 'ClmDiagnosisCode_2',\n",
       "       'ClmDiagnosisCode_3', 'ClmDiagnosisCode_4', 'ClmDiagnosisCode_5',\n",
       "       'ClmDiagnosisCode_6', 'ClmDiagnosisCode_7', 'ClmDiagnosisCode_8',\n",
       "       'ClmDiagnosisCode_9', 'ClmDiagnosisCode_10', 'ClmProcedureCode_1',\n",
       "       'ClmProcedureCode_2', 'ClmProcedureCode_3', 'ClmProcedureCode_4',\n",
       "       'ClmProcedureCode_5', 'ClmProcedureCode_6', 'DeductibleAmtPaid',\n",
       "       'ClmAdmitDiagnosisCode', 'ClaimStart_Year', 'ClaimStart_Month',\n",
       "       'ClaimEnd_Year', 'ClaimEnd_Month', 'Claim_Period'],\n",
       "      dtype='object')"
      ]
     },
     "execution_count": 46,
     "metadata": {},
     "output_type": "execute_result"
    }
   ],
   "source": [
    "Train_Outpatient.columns"
   ]
  },
  {
   "cell_type": "code",
   "execution_count": 47,
   "id": "17c8784d",
   "metadata": {},
   "outputs": [],
   "source": [
    "# Create a new column Inpatient_or_Outpatient where Inpatient =1 and Outpatient = 0\n",
    "Train_Inpatient['Inpatient_or_Outpatient'] = 1\n",
    "Train_Outpatient['Inpatient_or_Outpatient'] = 0\n",
    "Test_Inpatient['Inpatient_or_Outpatient'] = 1\n",
    "Test_Outpatient['Inpatient_or_Outpatient'] = 0"
   ]
  },
  {
   "cell_type": "code",
   "execution_count": 48,
   "id": "ff2c00f6",
   "metadata": {},
   "outputs": [
    {
     "name": "stdout",
     "output_type": "stream",
     "text": [
      "['BeneID', 'ClaimID', 'ClaimStartDt', 'ClaimEndDt', 'Provider', 'InscClaimAmtReimbursed', 'AttendingPhysician', 'OperatingPhysician', 'OtherPhysician', 'ClmDiagnosisCode_1', 'ClmDiagnosisCode_2', 'ClmDiagnosisCode_3', 'ClmDiagnosisCode_4', 'ClmDiagnosisCode_5', 'ClmDiagnosisCode_6', 'ClmDiagnosisCode_7', 'ClmDiagnosisCode_8', 'ClmDiagnosisCode_9', 'ClmDiagnosisCode_10', 'ClmProcedureCode_1', 'ClmProcedureCode_2', 'ClmProcedureCode_3', 'ClmProcedureCode_4', 'ClmProcedureCode_5', 'ClmProcedureCode_6', 'DeductibleAmtPaid', 'ClmAdmitDiagnosisCode', 'ClaimStart_Year', 'ClaimStart_Month', 'ClaimEnd_Year', 'ClaimEnd_Month', 'Claim_Period', 'Inpatient_or_Outpatient']\n"
     ]
    }
   ],
   "source": [
    "# Merge inpatient and outpatient dataframes based on common columns\n",
    "common_columns = [ idx for idx in Train_Outpatient.columns if idx in Train_Inpatient.columns]\n",
    "print(common_columns)\n",
    "Inpatient_Outpatient_Merge = pd.merge(Train_Inpatient, Train_Outpatient, left_on = common_columns, right_on = common_columns,how = 'outer')"
   ]
  },
  {
   "cell_type": "code",
   "execution_count": 49,
   "id": "8b6d3fbf",
   "metadata": {},
   "outputs": [],
   "source": [
    "# Merge beneficiary details with inpatient and outpatient data\n",
    "Inpatient_Outpatient_Beneficiary_Merge = pd.merge(Inpatient_Outpatient_Merge, Train_Beneficiary,\n",
    "                                                  left_on='BeneID',right_on='BeneID',how='inner')\n",
    "\n",
    "# Merge provider details\n",
    "Final_Dataset_Train = pd.merge(Inpatient_Outpatient_Beneficiary_Merge, Train , how = 'inner', on = 'Provider' )"
   ]
  },
  {
   "cell_type": "code",
   "execution_count": 50,
   "id": "7f9a61ff",
   "metadata": {},
   "outputs": [],
   "source": [
    "# Merge inpatient and outpatient dataframes based on common columns\n",
    "\n",
    "common_columns_test = [ idx for idx in Test_Outpatient.columns if idx in Test_Inpatient.columns]\n",
    "Inpatient_Outpatient_Merge_Te = pd.merge(Test_Inpatient, Test_Outpatient, left_on = common_columns_test, right_on = common_columns_test,how = 'outer')\n",
    "\n",
    "# Merge beneficiary details with inpatient and outpatient data\n",
    "Inpatient_Outpatient_Beneficiary_Merge_Te = pd.merge(Inpatient_Outpatient_Merge_Te, Test_Beneficiary,\n",
    "                                                  left_on='BeneID',right_on='BeneID',how='inner')\n",
    "\n",
    "Final_Dataset_Test = pd.merge(Inpatient_Outpatient_Beneficiary_Merge_Te, Test , how = 'inner', on = 'Provider' )"
   ]
  },
  {
   "cell_type": "code",
   "execution_count": 51,
   "id": "fb5be8ac",
   "metadata": {},
   "outputs": [
    {
     "data": {
      "text/plain": [
       "(558211, 72)"
      ]
     },
     "execution_count": 51,
     "metadata": {},
     "output_type": "execute_result"
    }
   ],
   "source": [
    "Final_Dataset_Train.shape"
   ]
  },
  {
   "cell_type": "code",
   "execution_count": 52,
   "id": "b671d3ab",
   "metadata": {},
   "outputs": [
    {
     "data": {
      "text/plain": [
       "40474"
      ]
     },
     "execution_count": 52,
     "metadata": {},
     "output_type": "execute_result"
    }
   ],
   "source": [
    "Total_number_of_inpatient_claims = Final_Dataset_Train.InscClaimAmtReimbursed[(Final_Dataset_Train.Inpatient_or_Outpatient == 1)].count()\n",
    "Total_number_of_inpatient_claims "
   ]
  },
  {
   "cell_type": "code",
   "execution_count": 53,
   "id": "e215103e",
   "metadata": {},
   "outputs": [
    {
     "name": "stdout",
     "output_type": "stream",
     "text": [
      "Total_Money_Spent_Inpatient :  408297020\n",
      "Average reimbursed amount per patient : 10088\n",
      "Total_Money_Fraud_Inpatient :  241288510\n",
      "Percentage of money spent in fraud for Inpatient = 59.10%\n"
     ]
    }
   ],
   "source": [
    "#Calculatinng total and percentage money lost for Inpatient\n",
    "Total_number_of_inpatient_claims = Final_Dataset_Train.InscClaimAmtReimbursed[(Final_Dataset_Train.Inpatient_or_Outpatient == 1)].count()\n",
    "Total_Money_Fraud_Inpatient = Final_Dataset_Train.InscClaimAmtReimbursed[(Final_Dataset_Train.Inpatient_or_Outpatient == 1) & (Final_Dataset_Train.PotentialFraud == 'Yes')].sum()\n",
    "Total_Money_Spent_Inpatient = Final_Dataset_Train.InscClaimAmtReimbursed[(Final_Dataset_Train.Inpatient_or_Outpatient == 1)].sum()\n",
    "print(\"Total_Money_Spent_Inpatient : \",Total_Money_Spent_Inpatient)\n",
    "print('Average reimbursed amount per patient :' , round(Total_Money_Spent_Inpatient/Total_number_of_inpatient_claims))\n",
    "print(\"Total_Money_Fraud_Inpatient : \",Total_Money_Fraud_Inpatient)\n",
    "print(\"Percentage of money spent in fraud for Inpatient = {:.2f}%\".format(Total_Money_Fraud_Inpatient/Total_Money_Spent_Inpatient *100))"
   ]
  },
  {
   "cell_type": "code",
   "execution_count": 54,
   "id": "ee59aced",
   "metadata": {},
   "outputs": [
    {
     "name": "stdout",
     "output_type": "stream",
     "text": [
      "Total_Money_Spent_Outpatient :  148246120\n",
      "Average reimbursed amount per patient : 286\n",
      "Total_Money_Fraud_Outpatient :  54392610\n",
      "Percentage of money spent in fraud for Outpatient = 36.69%\n"
     ]
    }
   ],
   "source": [
    "#Calculatinng total and percentage money lost for Outpatient\n",
    "Total_number_of_Outpatient_claims = Final_Dataset_Train.InscClaimAmtReimbursed[(Final_Dataset_Train.Inpatient_or_Outpatient == 0)].count()\n",
    "Total_Money_Fraud_Outpatient = Final_Dataset_Train.InscClaimAmtReimbursed[(Final_Dataset_Train.Inpatient_or_Outpatient == 0) & (Final_Dataset_Train.PotentialFraud == 'Yes')].sum()\n",
    "Total_Money_Spent_Outpatient = Final_Dataset_Train.InscClaimAmtReimbursed[(Final_Dataset_Train.Inpatient_or_Outpatient == 0)].sum()\n",
    "print(\"Total_Money_Spent_Outpatient : \",Total_Money_Spent_Outpatient)\n",
    "print('Average reimbursed amount per patient :' , round(Total_Money_Spent_Outpatient/Total_number_of_Outpatient_claims))\n",
    "print(\"Total_Money_Fraud_Outpatient : \",Total_Money_Fraud_Outpatient)\n",
    "print(\"Percentage of money spent in fraud for Outpatient = {:.2f}%\".format(Total_Money_Fraud_Outpatient/Total_Money_Spent_Outpatient *100))"
   ]
  },
  {
   "cell_type": "code",
   "execution_count": 55,
   "id": "d9df1749",
   "metadata": {},
   "outputs": [
    {
     "name": "stdout",
     "output_type": "stream",
     "text": [
      "Total_Money_Spent :  556543140\n",
      "Total_Money_Fraud :  295681120\n",
      "Percentage of money spent in fraud = 53.13%\n"
     ]
    }
   ],
   "source": [
    "#Calculatinng total and percentage money lost for overall data\n",
    "Total_Money_Fraud = Final_Dataset_Train.InscClaimAmtReimbursed[(Final_Dataset_Train.PotentialFraud == 'Yes')].sum()\n",
    "Total_Money_Spent = Final_Dataset_Train.InscClaimAmtReimbursed.sum()\n",
    "print(\"Total_Money_Spent : \",Total_Money_Spent)\n",
    "print(\"Total_Money_Fraud : \",Total_Money_Fraud)\n",
    "print(\"Percentage of money spent in fraud = {:.2f}%\".format(Total_Money_Fraud/Total_Money_Spent *100))"
   ]
  },
  {
   "cell_type": "code",
   "execution_count": 56,
   "id": "90a2ad55",
   "metadata": {},
   "outputs": [],
   "source": [
    "# Concat all the claim precedurecodes in a single dataframe\n",
    "ClmProcedureCode_df = pd.DataFrame(columns = ['ProcedureCode'])\n",
    "ClmProcedureCode_df['ProcedureCode'] = pd.concat([Final_Dataset_Train[\"ClmProcedureCode_1\"], \n",
    "                                   Final_Dataset_Train[\"ClmProcedureCode_2\"],\n",
    "                                   Final_Dataset_Train[\"ClmProcedureCode_3\"],\n",
    "                                   Final_Dataset_Train[\"ClmProcedureCode_4\"], \n",
    "                                   Final_Dataset_Train[\"ClmProcedureCode_5\"], \n",
    "                                   Final_Dataset_Train[\"ClmProcedureCode_6\"]], axis=0, sort=True).dropna()"
   ]
  },
  {
   "cell_type": "code",
   "execution_count": 57,
   "id": "a1b4465b",
   "metadata": {},
   "outputs": [],
   "source": [
    "# Concat all the claim DiagnosisCodes in a single dataframe\n",
    "ClmDiagnosisCode_df = pd.DataFrame(columns = ['DiagnosisCode'])\n",
    "\n",
    "ClmDiagnosisCode_df['DiagnosisCode'] = pd.concat([Final_Dataset_Train[\"ClmDiagnosisCode_1\"], \n",
    "                                           Final_Dataset_Train[\"ClmDiagnosisCode_2\"], \n",
    "                                           Final_Dataset_Train[\"ClmDiagnosisCode_3\"], \n",
    "                                           Final_Dataset_Train[\"ClmDiagnosisCode_4\"],\n",
    "                                           Final_Dataset_Train[\"ClmDiagnosisCode_5\"], \n",
    "                                           Final_Dataset_Train[\"ClmDiagnosisCode_6\"],\n",
    "                                           Final_Dataset_Train[\"ClmDiagnosisCode_7\"],\n",
    "                                           Final_Dataset_Train[\"ClmDiagnosisCode_8\"],\n",
    "                                           Final_Dataset_Train[\"ClmDiagnosisCode_9\"],\n",
    "                                           Final_Dataset_Train[\"ClmDiagnosisCode_10\"]], axis=0, sort=True).dropna()"
   ]
  },
  {
   "cell_type": "code",
   "execution_count": 58,
   "id": "d7fdafcd",
   "metadata": {},
   "outputs": [],
   "source": [
    "# Separate dataframe with fraud only\n",
    "Final_Dataset_Fraud_Train = Final_Dataset_Train[Final_Dataset_Train.PotentialFraud == 'Yes']\n",
    "ClmProcedureCodeFraud_df = pd.DataFrame(columns = ['ProcedureCode'])\n",
    "ClmProcedureCodeFraud_df['ProcedureCode'] = pd.concat([Final_Dataset_Fraud_Train[\"ClmProcedureCode_1\"], \n",
    "                                   Final_Dataset_Fraud_Train[\"ClmProcedureCode_2\"],\n",
    "                                   Final_Dataset_Fraud_Train[\"ClmProcedureCode_3\"],\n",
    "                                   Final_Dataset_Fraud_Train[\"ClmProcedureCode_4\"], \n",
    "                                   Final_Dataset_Fraud_Train[\"ClmProcedureCode_5\"], \n",
    "                                   Final_Dataset_Fraud_Train[\"ClmProcedureCode_6\"]], axis=0, sort=True).dropna()"
   ]
  },
  {
   "cell_type": "code",
   "execution_count": 59,
   "id": "1dbdf6d8",
   "metadata": {},
   "outputs": [],
   "source": [
    "# create new feature total reimbursement amount for inpatient and outpatient\n",
    "Final_Dataset_Train['IP_OP_TotalReimbursementAmt'] = Final_Dataset_Train['IPAnnualReimbursementAmt'] + Final_Dataset_Train['OPAnnualReimbursementAmt']\n",
    "# create new feature total deductible amount for inpatient and outpatient\n",
    "Final_Dataset_Train['IP_OP_AnnualDeductibleAmt'] = Final_Dataset_Train['IPAnnualDeductibleAmt'] + Final_Dataset_Train['OPAnnualDeductibleAmt']\n",
    "\n",
    "Final_Dataset_Test['IP_OP_TotalReimbursementAmt'] = Final_Dataset_Test['IPAnnualReimbursementAmt'] + Final_Dataset_Test['OPAnnualReimbursementAmt']\n",
    "Final_Dataset_Test['IP_OP_AnnualDeductibleAmt'] = Final_Dataset_Test['IPAnnualDeductibleAmt'] + Final_Dataset_Test['OPAnnualDeductibleAmt']"
   ]
  },
  {
   "cell_type": "code",
   "execution_count": 60,
   "id": "71fd388f",
   "metadata": {},
   "outputs": [
    {
     "data": {
      "text/plain": [
       "Index(['BeneID', 'ClaimID', 'ClaimStartDt', 'ClaimEndDt', 'Provider',\n",
       "       'InscClaimAmtReimbursed', 'AttendingPhysician', 'OperatingPhysician',\n",
       "       'OtherPhysician', 'AdmissionDt', 'ClmAdmitDiagnosisCode',\n",
       "       'DeductibleAmtPaid', 'DischargeDt', 'DiagnosisGroupCode',\n",
       "       'ClmDiagnosisCode_1', 'ClmDiagnosisCode_2', 'ClmDiagnosisCode_3',\n",
       "       'ClmDiagnosisCode_4', 'ClmDiagnosisCode_5', 'ClmDiagnosisCode_6',\n",
       "       'ClmDiagnosisCode_7', 'ClmDiagnosisCode_8', 'ClmDiagnosisCode_9',\n",
       "       'ClmDiagnosisCode_10', 'ClmProcedureCode_1', 'ClmProcedureCode_2',\n",
       "       'ClmProcedureCode_3', 'ClmProcedureCode_4', 'ClmProcedureCode_5',\n",
       "       'ClmProcedureCode_6', 'Hospitalization_Duration', 'Claim_Period',\n",
       "       'ExtraClaimDays', 'ClaimStart_Year', 'ClaimStart_Month',\n",
       "       'ClaimEnd_Year', 'ClaimEnd_Month', 'Admission_Year', 'Admission_Month',\n",
       "       'Discharge_Year', 'Discharge_Month', 'Inpatient_or_Outpatient', 'DOB',\n",
       "       'DOD', 'Gender', 'Race', 'RenalDiseaseIndicator', 'State', 'County',\n",
       "       'NoOfMonths_PartACov', 'NoOfMonths_PartBCov', 'ChronicCond_Alzheimer',\n",
       "       'ChronicCond_Heartfailure', 'ChronicCond_KidneyDisease',\n",
       "       'ChronicCond_Cancer', 'ChronicCond_ObstrPulmonary',\n",
       "       'ChronicCond_Depression', 'ChronicCond_Diabetes',\n",
       "       'ChronicCond_IschemicHeart', 'ChronicCond_Osteoporasis',\n",
       "       'ChronicCond_rheumatoidarthritis', 'ChronicCond_stroke',\n",
       "       'IPAnnualReimbursementAmt', 'IPAnnualDeductibleAmt',\n",
       "       'OPAnnualReimbursementAmt', 'OPAnnualDeductibleAmt',\n",
       "       'Patient_Risk_Score', 'Birth_Year', 'Birth_Month', 'Patient_Age',\n",
       "       'isDead', 'PotentialFraud', 'IP_OP_TotalReimbursementAmt',\n",
       "       'IP_OP_AnnualDeductibleAmt'],\n",
       "      dtype='object')"
      ]
     },
     "execution_count": 60,
     "metadata": {},
     "output_type": "execute_result"
    }
   ],
   "source": [
    "Final_Dataset_Train.columns"
   ]
  },
  {
   "cell_type": "code",
   "execution_count": 61,
   "id": "dcfe358f",
   "metadata": {},
   "outputs": [],
   "source": [
    "## Fill missing results using 0\n",
    "Final_Dataset_Train = Final_Dataset_Train.fillna(0).copy()\n",
    "Final_Dataset_Test = Final_Dataset_Test.fillna(0).copy()"
   ]
  },
  {
   "cell_type": "code",
   "execution_count": 62,
   "id": "9a06273b",
   "metadata": {},
   "outputs": [],
   "source": [
    "def create_feature_using_groupby(Train_df, Test_df, gruopby_col, operation_col,operation):\n",
    "    '''\n",
    "    This function groupby the 'Train_df' and 'Test_df' dataframe by 'gruopby_col' and performs 'operation' on 'operation_col'\n",
    "    '''\n",
    "    \n",
    "    for col in operation_col:\n",
    "        # create new column name for the dataframe\n",
    "        new_col_name = 'Per'+''.join(gruopby_col)+'_'+operation+'_'+col\n",
    "        print(new_col_name)\n",
    "        Train_df[new_col_name] = Train_df.groupby(gruopby_col)[col].transform(operation)\n",
    "        Test_df[new_col_name] = Test_df.groupby(gruopby_col)[col].transform(operation)\n",
    "    return Train_df, Test_df"
   ]
  },
  {
   "cell_type": "code",
   "execution_count": 63,
   "id": "ea456caf",
   "metadata": {},
   "outputs": [
    {
     "name": "stdout",
     "output_type": "stream",
     "text": [
      "PerProvider_mean_InscClaimAmtReimbursed\n",
      "PerProvider_mean_DeductibleAmtPaid\n",
      "PerProvider_mean_IPAnnualReimbursementAmt\n",
      "PerProvider_mean_IPAnnualDeductibleAmt\n",
      "PerProvider_mean_OPAnnualReimbursementAmt\n",
      "PerProvider_mean_OPAnnualDeductibleAmt\n",
      "PerProvider_mean_Patient_Age\n",
      "PerProvider_mean_NoOfMonths_PartACov\n",
      "PerProvider_mean_NoOfMonths_PartBCov\n",
      "PerProvider_mean_Hospitalization_Duration\n",
      "PerProvider_mean_Claim_Period\n",
      "PerProvider_mean_Patient_Risk_Score\n"
     ]
    }
   ],
   "source": [
    "columns = ['InscClaimAmtReimbursed', 'DeductibleAmtPaid', 'IPAnnualReimbursementAmt', 'IPAnnualDeductibleAmt', 'OPAnnualReimbursementAmt', 'OPAnnualDeductibleAmt', 'Patient_Age', 'NoOfMonths_PartACov', 'NoOfMonths_PartBCov', 'Hospitalization_Duration', 'Claim_Period', 'Patient_Risk_Score']\n",
    "\n",
    "Final_Dataset_Train,Final_Dataset_Test = create_feature_using_groupby(Final_Dataset_Train, Final_Dataset_Test, ['Provider'], columns, 'mean')"
   ]
  },
  {
   "cell_type": "code",
   "execution_count": 64,
   "id": "d15ef45e",
   "metadata": {},
   "outputs": [
    {
     "name": "stdout",
     "output_type": "stream",
     "text": [
      "PerBeneID_mean_InscClaimAmtReimbursed\n",
      "PerBeneID_mean_DeductibleAmtPaid\n",
      "PerBeneID_mean_IPAnnualReimbursementAmt\n",
      "PerBeneID_mean_IPAnnualDeductibleAmt\n",
      "PerBeneID_mean_OPAnnualReimbursementAmt\n",
      "PerBeneID_mean_OPAnnualDeductibleAmt\n",
      "PerBeneID_mean_Patient_Age\n",
      "PerBeneID_mean_Hospitalization_Duration\n",
      "PerBeneID_mean_Claim_Period\n",
      "PerBeneID_mean_Patient_Risk_Score\n"
     ]
    }
   ],
   "source": [
    "columns = ['InscClaimAmtReimbursed', 'DeductibleAmtPaid', 'IPAnnualReimbursementAmt', 'IPAnnualDeductibleAmt', 'OPAnnualReimbursementAmt', 'OPAnnualDeductibleAmt', 'Patient_Age', 'Hospitalization_Duration', 'Claim_Period', 'Patient_Risk_Score']\n",
    "\n",
    "Final_Dataset_Train,Final_Dataset_Test =  create_feature_using_groupby(Final_Dataset_Train, Final_Dataset_Test, ['BeneID'], columns, 'mean')"
   ]
  },
  {
   "cell_type": "code",
   "execution_count": 65,
   "id": "d7232f9b",
   "metadata": {},
   "outputs": [
    {
     "name": "stdout",
     "output_type": "stream",
     "text": [
      "PerAttendingPhysician_mean_InscClaimAmtReimbursed\n",
      "PerAttendingPhysician_mean_DeductibleAmtPaid\n",
      "PerAttendingPhysician_mean_IPAnnualReimbursementAmt\n",
      "PerAttendingPhysician_mean_IPAnnualDeductibleAmt\n",
      "PerAttendingPhysician_mean_OPAnnualReimbursementAmt\n",
      "PerAttendingPhysician_mean_OPAnnualDeductibleAmt\n",
      "PerAttendingPhysician_mean_Patient_Age\n",
      "PerAttendingPhysician_mean_Hospitalization_Duration\n",
      "PerAttendingPhysician_mean_Claim_Period\n",
      "PerAttendingPhysician_mean_Patient_Risk_Score\n"
     ]
    }
   ],
   "source": [
    "columns = ['InscClaimAmtReimbursed', 'DeductibleAmtPaid', 'IPAnnualReimbursementAmt', 'IPAnnualDeductibleAmt', 'OPAnnualReimbursementAmt', 'OPAnnualDeductibleAmt', 'Patient_Age', 'Hospitalization_Duration', 'Claim_Period', 'Patient_Risk_Score']\n",
    "\n",
    "Final_Dataset_Train,Final_Dataset_Test =  create_feature_using_groupby(Final_Dataset_Train, Final_Dataset_Test, ['AttendingPhysician'], columns, 'mean')"
   ]
  },
  {
   "cell_type": "code",
   "execution_count": 66,
   "id": "fc8f6d8e",
   "metadata": {},
   "outputs": [],
   "source": [
    "columns = ['InscClaimAmtReimbursed', 'DeductibleAmtPaid', 'IPAnnualReimbursementAmt', 'IPAnnualDeductibleAmt',\n",
    "           'OPAnnualReimbursementAmt', 'OPAnnualDeductibleAmt', 'Patient_Age', 'Hospitalization_Duration',\n",
    "           'Claim_Period', 'Patient_Risk_Score']\n",
    "\n",
    "col1=['Provider',\n",
    "'BeneID',\n",
    "'AttendingPhysician',\n",
    "'OperatingPhysician',\n",
    "'OtherPhysician',\n",
    "'DiagnosisGroupCode',\n",
    "'ClmAdmitDiagnosisCode',\n",
    "'ClmProcedureCode_1',\n",
    "'ClmProcedureCode_2',\n",
    "'ClmProcedureCode_3',\n",
    "'ClmProcedureCode_4',\n",
    "'ClmProcedureCode_5',\n",
    "'ClmProcedureCode_6',\n",
    "'ClmDiagnosisCode_1',\n",
    "'ClmDiagnosisCode_2',\n",
    "'ClmDiagnosisCode_3',\n",
    "'ClmDiagnosisCode_4',\n",
    "'ClmDiagnosisCode_5',\n",
    "'ClmDiagnosisCode_6'\n",
    "]"
   ]
  },
  {
   "cell_type": "code",
   "execution_count": 69,
   "id": "483252eb",
   "metadata": {},
   "outputs": [
    {
     "name": "stdout",
     "output_type": "stream",
     "text": [
      "Provider\n",
      "PerProvider_mean_InscClaimAmtReimbursed\n",
      "PerProvider_mean_DeductibleAmtPaid\n",
      "PerProvider_mean_IPAnnualReimbursementAmt\n",
      "PerProvider_mean_IPAnnualDeductibleAmt\n",
      "PerProvider_mean_OPAnnualReimbursementAmt\n",
      "PerProvider_mean_OPAnnualDeductibleAmt\n",
      "PerProvider_mean_Patient_Age\n",
      "PerProvider_mean_Hospitalization_Duration\n",
      "PerProvider_mean_Claim_Period\n",
      "PerProvider_mean_Patient_Risk_Score\n",
      "BeneID\n",
      "PerBeneID_mean_InscClaimAmtReimbursed\n",
      "PerBeneID_mean_DeductibleAmtPaid\n",
      "PerBeneID_mean_IPAnnualReimbursementAmt\n",
      "PerBeneID_mean_IPAnnualDeductibleAmt\n",
      "PerBeneID_mean_OPAnnualReimbursementAmt\n",
      "PerBeneID_mean_OPAnnualDeductibleAmt\n",
      "PerBeneID_mean_Patient_Age\n",
      "PerBeneID_mean_Hospitalization_Duration\n",
      "PerBeneID_mean_Claim_Period\n",
      "PerBeneID_mean_Patient_Risk_Score\n",
      "AttendingPhysician\n",
      "PerAttendingPhysician_mean_InscClaimAmtReimbursed\n",
      "PerAttendingPhysician_mean_DeductibleAmtPaid\n",
      "PerAttendingPhysician_mean_IPAnnualReimbursementAmt\n",
      "PerAttendingPhysician_mean_IPAnnualDeductibleAmt\n",
      "PerAttendingPhysician_mean_OPAnnualReimbursementAmt\n",
      "PerAttendingPhysician_mean_OPAnnualDeductibleAmt\n",
      "PerAttendingPhysician_mean_Patient_Age\n",
      "PerAttendingPhysician_mean_Hospitalization_Duration\n",
      "PerAttendingPhysician_mean_Claim_Period\n",
      "PerAttendingPhysician_mean_Patient_Risk_Score\n",
      "OperatingPhysician\n",
      "PerOperatingPhysician_mean_InscClaimAmtReimbursed\n",
      "PerOperatingPhysician_mean_DeductibleAmtPaid\n",
      "PerOperatingPhysician_mean_IPAnnualReimbursementAmt\n",
      "PerOperatingPhysician_mean_IPAnnualDeductibleAmt\n",
      "PerOperatingPhysician_mean_OPAnnualReimbursementAmt\n",
      "PerOperatingPhysician_mean_OPAnnualDeductibleAmt\n",
      "PerOperatingPhysician_mean_Patient_Age\n",
      "PerOperatingPhysician_mean_Hospitalization_Duration\n",
      "PerOperatingPhysician_mean_Claim_Period\n",
      "PerOperatingPhysician_mean_Patient_Risk_Score\n",
      "OtherPhysician\n",
      "PerOtherPhysician_mean_InscClaimAmtReimbursed\n",
      "PerOtherPhysician_mean_DeductibleAmtPaid\n",
      "PerOtherPhysician_mean_IPAnnualReimbursementAmt\n",
      "PerOtherPhysician_mean_IPAnnualDeductibleAmt\n",
      "PerOtherPhysician_mean_OPAnnualReimbursementAmt\n",
      "PerOtherPhysician_mean_OPAnnualDeductibleAmt\n",
      "PerOtherPhysician_mean_Patient_Age\n",
      "PerOtherPhysician_mean_Hospitalization_Duration\n",
      "PerOtherPhysician_mean_Claim_Period\n",
      "PerOtherPhysician_mean_Patient_Risk_Score\n",
      "DiagnosisGroupCode\n",
      "PerDiagnosisGroupCode_mean_InscClaimAmtReimbursed\n",
      "PerDiagnosisGroupCode_mean_DeductibleAmtPaid\n",
      "PerDiagnosisGroupCode_mean_IPAnnualReimbursementAmt\n",
      "PerDiagnosisGroupCode_mean_IPAnnualDeductibleAmt\n",
      "PerDiagnosisGroupCode_mean_OPAnnualReimbursementAmt\n",
      "PerDiagnosisGroupCode_mean_OPAnnualDeductibleAmt\n",
      "PerDiagnosisGroupCode_mean_Patient_Age\n",
      "PerDiagnosisGroupCode_mean_Hospitalization_Duration\n",
      "PerDiagnosisGroupCode_mean_Claim_Period\n",
      "PerDiagnosisGroupCode_mean_Patient_Risk_Score\n",
      "ClmAdmitDiagnosisCode\n",
      "PerClmAdmitDiagnosisCode_mean_InscClaimAmtReimbursed\n",
      "PerClmAdmitDiagnosisCode_mean_DeductibleAmtPaid\n",
      "PerClmAdmitDiagnosisCode_mean_IPAnnualReimbursementAmt\n",
      "PerClmAdmitDiagnosisCode_mean_IPAnnualDeductibleAmt\n",
      "PerClmAdmitDiagnosisCode_mean_OPAnnualReimbursementAmt\n",
      "PerClmAdmitDiagnosisCode_mean_OPAnnualDeductibleAmt\n",
      "PerClmAdmitDiagnosisCode_mean_Patient_Age\n",
      "PerClmAdmitDiagnosisCode_mean_Hospitalization_Duration\n",
      "PerClmAdmitDiagnosisCode_mean_Claim_Period\n",
      "PerClmAdmitDiagnosisCode_mean_Patient_Risk_Score\n",
      "ClmProcedureCode_1\n",
      "PerClmProcedureCode_1_mean_InscClaimAmtReimbursed\n",
      "PerClmProcedureCode_1_mean_DeductibleAmtPaid\n",
      "PerClmProcedureCode_1_mean_IPAnnualReimbursementAmt\n",
      "PerClmProcedureCode_1_mean_IPAnnualDeductibleAmt\n",
      "PerClmProcedureCode_1_mean_OPAnnualReimbursementAmt\n",
      "PerClmProcedureCode_1_mean_OPAnnualDeductibleAmt\n",
      "PerClmProcedureCode_1_mean_Patient_Age\n",
      "PerClmProcedureCode_1_mean_Hospitalization_Duration\n",
      "PerClmProcedureCode_1_mean_Claim_Period\n",
      "PerClmProcedureCode_1_mean_Patient_Risk_Score\n",
      "ClmProcedureCode_2\n",
      "PerClmProcedureCode_2_mean_InscClaimAmtReimbursed\n",
      "PerClmProcedureCode_2_mean_DeductibleAmtPaid\n",
      "PerClmProcedureCode_2_mean_IPAnnualReimbursementAmt\n",
      "PerClmProcedureCode_2_mean_IPAnnualDeductibleAmt\n",
      "PerClmProcedureCode_2_mean_OPAnnualReimbursementAmt\n",
      "PerClmProcedureCode_2_mean_OPAnnualDeductibleAmt\n",
      "PerClmProcedureCode_2_mean_Patient_Age\n",
      "PerClmProcedureCode_2_mean_Hospitalization_Duration\n",
      "PerClmProcedureCode_2_mean_Claim_Period\n",
      "PerClmProcedureCode_2_mean_Patient_Risk_Score\n",
      "ClmProcedureCode_3\n",
      "PerClmProcedureCode_3_mean_InscClaimAmtReimbursed\n",
      "PerClmProcedureCode_3_mean_DeductibleAmtPaid\n",
      "PerClmProcedureCode_3_mean_IPAnnualReimbursementAmt\n",
      "PerClmProcedureCode_3_mean_IPAnnualDeductibleAmt\n",
      "PerClmProcedureCode_3_mean_OPAnnualReimbursementAmt\n",
      "PerClmProcedureCode_3_mean_OPAnnualDeductibleAmt\n",
      "PerClmProcedureCode_3_mean_Patient_Age\n",
      "PerClmProcedureCode_3_mean_Hospitalization_Duration\n",
      "PerClmProcedureCode_3_mean_Claim_Period\n",
      "PerClmProcedureCode_3_mean_Patient_Risk_Score\n"
     ]
    },
    {
     "name": "stderr",
     "output_type": "stream",
     "text": [
      "C:\\Users\\brajesh\\AppData\\Local\\Temp\\ipykernel_13832\\3862288337.py:10: PerformanceWarning: DataFrame is highly fragmented.  This is usually the result of calling `frame.insert` many times, which has poor performance.  Consider joining all columns at once using pd.concat(axis=1) instead. To get a de-fragmented frame, use `newframe = frame.copy()`\n",
      "  Train_df[new_col_name] = Train_df.groupby(gruopby_col)[col].transform(operation)\n",
      "C:\\Users\\brajesh\\AppData\\Local\\Temp\\ipykernel_13832\\3862288337.py:11: PerformanceWarning: DataFrame is highly fragmented.  This is usually the result of calling `frame.insert` many times, which has poor performance.  Consider joining all columns at once using pd.concat(axis=1) instead. To get a de-fragmented frame, use `newframe = frame.copy()`\n",
      "  Test_df[new_col_name] = Test_df.groupby(gruopby_col)[col].transform(operation)\n",
      "C:\\Users\\brajesh\\AppData\\Local\\Temp\\ipykernel_13832\\3862288337.py:10: PerformanceWarning: DataFrame is highly fragmented.  This is usually the result of calling `frame.insert` many times, which has poor performance.  Consider joining all columns at once using pd.concat(axis=1) instead. To get a de-fragmented frame, use `newframe = frame.copy()`\n",
      "  Train_df[new_col_name] = Train_df.groupby(gruopby_col)[col].transform(operation)\n",
      "C:\\Users\\brajesh\\AppData\\Local\\Temp\\ipykernel_13832\\3862288337.py:11: PerformanceWarning: DataFrame is highly fragmented.  This is usually the result of calling `frame.insert` many times, which has poor performance.  Consider joining all columns at once using pd.concat(axis=1) instead. To get a de-fragmented frame, use `newframe = frame.copy()`\n",
      "  Test_df[new_col_name] = Test_df.groupby(gruopby_col)[col].transform(operation)\n",
      "C:\\Users\\brajesh\\AppData\\Local\\Temp\\ipykernel_13832\\3862288337.py:10: PerformanceWarning: DataFrame is highly fragmented.  This is usually the result of calling `frame.insert` many times, which has poor performance.  Consider joining all columns at once using pd.concat(axis=1) instead. To get a de-fragmented frame, use `newframe = frame.copy()`\n",
      "  Train_df[new_col_name] = Train_df.groupby(gruopby_col)[col].transform(operation)\n",
      "C:\\Users\\brajesh\\AppData\\Local\\Temp\\ipykernel_13832\\3862288337.py:11: PerformanceWarning: DataFrame is highly fragmented.  This is usually the result of calling `frame.insert` many times, which has poor performance.  Consider joining all columns at once using pd.concat(axis=1) instead. To get a de-fragmented frame, use `newframe = frame.copy()`\n",
      "  Test_df[new_col_name] = Test_df.groupby(gruopby_col)[col].transform(operation)\n",
      "C:\\Users\\brajesh\\AppData\\Local\\Temp\\ipykernel_13832\\3862288337.py:10: PerformanceWarning: DataFrame is highly fragmented.  This is usually the result of calling `frame.insert` many times, which has poor performance.  Consider joining all columns at once using pd.concat(axis=1) instead. To get a de-fragmented frame, use `newframe = frame.copy()`\n",
      "  Train_df[new_col_name] = Train_df.groupby(gruopby_col)[col].transform(operation)\n",
      "C:\\Users\\brajesh\\AppData\\Local\\Temp\\ipykernel_13832\\3862288337.py:11: PerformanceWarning: DataFrame is highly fragmented.  This is usually the result of calling `frame.insert` many times, which has poor performance.  Consider joining all columns at once using pd.concat(axis=1) instead. To get a de-fragmented frame, use `newframe = frame.copy()`\n",
      "  Test_df[new_col_name] = Test_df.groupby(gruopby_col)[col].transform(operation)\n",
      "C:\\Users\\brajesh\\AppData\\Local\\Temp\\ipykernel_13832\\3862288337.py:10: PerformanceWarning: DataFrame is highly fragmented.  This is usually the result of calling `frame.insert` many times, which has poor performance.  Consider joining all columns at once using pd.concat(axis=1) instead. To get a de-fragmented frame, use `newframe = frame.copy()`\n",
      "  Train_df[new_col_name] = Train_df.groupby(gruopby_col)[col].transform(operation)\n",
      "C:\\Users\\brajesh\\AppData\\Local\\Temp\\ipykernel_13832\\3862288337.py:11: PerformanceWarning: DataFrame is highly fragmented.  This is usually the result of calling `frame.insert` many times, which has poor performance.  Consider joining all columns at once using pd.concat(axis=1) instead. To get a de-fragmented frame, use `newframe = frame.copy()`\n",
      "  Test_df[new_col_name] = Test_df.groupby(gruopby_col)[col].transform(operation)\n",
      "C:\\Users\\brajesh\\AppData\\Local\\Temp\\ipykernel_13832\\3862288337.py:10: PerformanceWarning: DataFrame is highly fragmented.  This is usually the result of calling `frame.insert` many times, which has poor performance.  Consider joining all columns at once using pd.concat(axis=1) instead. To get a de-fragmented frame, use `newframe = frame.copy()`\n",
      "  Train_df[new_col_name] = Train_df.groupby(gruopby_col)[col].transform(operation)\n",
      "C:\\Users\\brajesh\\AppData\\Local\\Temp\\ipykernel_13832\\3862288337.py:11: PerformanceWarning: DataFrame is highly fragmented.  This is usually the result of calling `frame.insert` many times, which has poor performance.  Consider joining all columns at once using pd.concat(axis=1) instead. To get a de-fragmented frame, use `newframe = frame.copy()`\n",
      "  Test_df[new_col_name] = Test_df.groupby(gruopby_col)[col].transform(operation)\n",
      "C:\\Users\\brajesh\\AppData\\Local\\Temp\\ipykernel_13832\\3862288337.py:10: PerformanceWarning: DataFrame is highly fragmented.  This is usually the result of calling `frame.insert` many times, which has poor performance.  Consider joining all columns at once using pd.concat(axis=1) instead. To get a de-fragmented frame, use `newframe = frame.copy()`\n",
      "  Train_df[new_col_name] = Train_df.groupby(gruopby_col)[col].transform(operation)\n",
      "C:\\Users\\brajesh\\AppData\\Local\\Temp\\ipykernel_13832\\3862288337.py:11: PerformanceWarning: DataFrame is highly fragmented.  This is usually the result of calling `frame.insert` many times, which has poor performance.  Consider joining all columns at once using pd.concat(axis=1) instead. To get a de-fragmented frame, use `newframe = frame.copy()`\n",
      "  Test_df[new_col_name] = Test_df.groupby(gruopby_col)[col].transform(operation)\n",
      "C:\\Users\\brajesh\\AppData\\Local\\Temp\\ipykernel_13832\\3862288337.py:10: PerformanceWarning: DataFrame is highly fragmented.  This is usually the result of calling `frame.insert` many times, which has poor performance.  Consider joining all columns at once using pd.concat(axis=1) instead. To get a de-fragmented frame, use `newframe = frame.copy()`\n",
      "  Train_df[new_col_name] = Train_df.groupby(gruopby_col)[col].transform(operation)\n",
      "C:\\Users\\brajesh\\AppData\\Local\\Temp\\ipykernel_13832\\3862288337.py:11: PerformanceWarning: DataFrame is highly fragmented.  This is usually the result of calling `frame.insert` many times, which has poor performance.  Consider joining all columns at once using pd.concat(axis=1) instead. To get a de-fragmented frame, use `newframe = frame.copy()`\n",
      "  Test_df[new_col_name] = Test_df.groupby(gruopby_col)[col].transform(operation)\n",
      "C:\\Users\\brajesh\\AppData\\Local\\Temp\\ipykernel_13832\\3862288337.py:10: PerformanceWarning: DataFrame is highly fragmented.  This is usually the result of calling `frame.insert` many times, which has poor performance.  Consider joining all columns at once using pd.concat(axis=1) instead. To get a de-fragmented frame, use `newframe = frame.copy()`\n",
      "  Train_df[new_col_name] = Train_df.groupby(gruopby_col)[col].transform(operation)\n"
     ]
    },
    {
     "name": "stdout",
     "output_type": "stream",
     "text": [
      "ClmProcedureCode_4\n",
      "PerClmProcedureCode_4_mean_InscClaimAmtReimbursed\n",
      "PerClmProcedureCode_4_mean_DeductibleAmtPaid\n",
      "PerClmProcedureCode_4_mean_IPAnnualReimbursementAmt\n",
      "PerClmProcedureCode_4_mean_IPAnnualDeductibleAmt\n",
      "PerClmProcedureCode_4_mean_OPAnnualReimbursementAmt\n",
      "PerClmProcedureCode_4_mean_OPAnnualDeductibleAmt\n",
      "PerClmProcedureCode_4_mean_Patient_Age\n",
      "PerClmProcedureCode_4_mean_Hospitalization_Duration\n"
     ]
    },
    {
     "name": "stderr",
     "output_type": "stream",
     "text": [
      "C:\\Users\\brajesh\\AppData\\Local\\Temp\\ipykernel_13832\\3862288337.py:11: PerformanceWarning: DataFrame is highly fragmented.  This is usually the result of calling `frame.insert` many times, which has poor performance.  Consider joining all columns at once using pd.concat(axis=1) instead. To get a de-fragmented frame, use `newframe = frame.copy()`\n",
      "  Test_df[new_col_name] = Test_df.groupby(gruopby_col)[col].transform(operation)\n",
      "C:\\Users\\brajesh\\AppData\\Local\\Temp\\ipykernel_13832\\3862288337.py:10: PerformanceWarning: DataFrame is highly fragmented.  This is usually the result of calling `frame.insert` many times, which has poor performance.  Consider joining all columns at once using pd.concat(axis=1) instead. To get a de-fragmented frame, use `newframe = frame.copy()`\n",
      "  Train_df[new_col_name] = Train_df.groupby(gruopby_col)[col].transform(operation)\n",
      "C:\\Users\\brajesh\\AppData\\Local\\Temp\\ipykernel_13832\\3862288337.py:11: PerformanceWarning: DataFrame is highly fragmented.  This is usually the result of calling `frame.insert` many times, which has poor performance.  Consider joining all columns at once using pd.concat(axis=1) instead. To get a de-fragmented frame, use `newframe = frame.copy()`\n",
      "  Test_df[new_col_name] = Test_df.groupby(gruopby_col)[col].transform(operation)\n",
      "C:\\Users\\brajesh\\AppData\\Local\\Temp\\ipykernel_13832\\3862288337.py:10: PerformanceWarning: DataFrame is highly fragmented.  This is usually the result of calling `frame.insert` many times, which has poor performance.  Consider joining all columns at once using pd.concat(axis=1) instead. To get a de-fragmented frame, use `newframe = frame.copy()`\n",
      "  Train_df[new_col_name] = Train_df.groupby(gruopby_col)[col].transform(operation)\n",
      "C:\\Users\\brajesh\\AppData\\Local\\Temp\\ipykernel_13832\\3862288337.py:11: PerformanceWarning: DataFrame is highly fragmented.  This is usually the result of calling `frame.insert` many times, which has poor performance.  Consider joining all columns at once using pd.concat(axis=1) instead. To get a de-fragmented frame, use `newframe = frame.copy()`\n",
      "  Test_df[new_col_name] = Test_df.groupby(gruopby_col)[col].transform(operation)\n",
      "C:\\Users\\brajesh\\AppData\\Local\\Temp\\ipykernel_13832\\3862288337.py:10: PerformanceWarning: DataFrame is highly fragmented.  This is usually the result of calling `frame.insert` many times, which has poor performance.  Consider joining all columns at once using pd.concat(axis=1) instead. To get a de-fragmented frame, use `newframe = frame.copy()`\n",
      "  Train_df[new_col_name] = Train_df.groupby(gruopby_col)[col].transform(operation)\n",
      "C:\\Users\\brajesh\\AppData\\Local\\Temp\\ipykernel_13832\\3862288337.py:11: PerformanceWarning: DataFrame is highly fragmented.  This is usually the result of calling `frame.insert` many times, which has poor performance.  Consider joining all columns at once using pd.concat(axis=1) instead. To get a de-fragmented frame, use `newframe = frame.copy()`\n",
      "  Test_df[new_col_name] = Test_df.groupby(gruopby_col)[col].transform(operation)\n",
      "C:\\Users\\brajesh\\AppData\\Local\\Temp\\ipykernel_13832\\3862288337.py:10: PerformanceWarning: DataFrame is highly fragmented.  This is usually the result of calling `frame.insert` many times, which has poor performance.  Consider joining all columns at once using pd.concat(axis=1) instead. To get a de-fragmented frame, use `newframe = frame.copy()`\n",
      "  Train_df[new_col_name] = Train_df.groupby(gruopby_col)[col].transform(operation)\n",
      "C:\\Users\\brajesh\\AppData\\Local\\Temp\\ipykernel_13832\\3862288337.py:11: PerformanceWarning: DataFrame is highly fragmented.  This is usually the result of calling `frame.insert` many times, which has poor performance.  Consider joining all columns at once using pd.concat(axis=1) instead. To get a de-fragmented frame, use `newframe = frame.copy()`\n",
      "  Test_df[new_col_name] = Test_df.groupby(gruopby_col)[col].transform(operation)\n",
      "C:\\Users\\brajesh\\AppData\\Local\\Temp\\ipykernel_13832\\3862288337.py:10: PerformanceWarning: DataFrame is highly fragmented.  This is usually the result of calling `frame.insert` many times, which has poor performance.  Consider joining all columns at once using pd.concat(axis=1) instead. To get a de-fragmented frame, use `newframe = frame.copy()`\n",
      "  Train_df[new_col_name] = Train_df.groupby(gruopby_col)[col].transform(operation)\n",
      "C:\\Users\\brajesh\\AppData\\Local\\Temp\\ipykernel_13832\\3862288337.py:11: PerformanceWarning: DataFrame is highly fragmented.  This is usually the result of calling `frame.insert` many times, which has poor performance.  Consider joining all columns at once using pd.concat(axis=1) instead. To get a de-fragmented frame, use `newframe = frame.copy()`\n",
      "  Test_df[new_col_name] = Test_df.groupby(gruopby_col)[col].transform(operation)\n",
      "C:\\Users\\brajesh\\AppData\\Local\\Temp\\ipykernel_13832\\3862288337.py:10: PerformanceWarning: DataFrame is highly fragmented.  This is usually the result of calling `frame.insert` many times, which has poor performance.  Consider joining all columns at once using pd.concat(axis=1) instead. To get a de-fragmented frame, use `newframe = frame.copy()`\n",
      "  Train_df[new_col_name] = Train_df.groupby(gruopby_col)[col].transform(operation)\n",
      "C:\\Users\\brajesh\\AppData\\Local\\Temp\\ipykernel_13832\\3862288337.py:11: PerformanceWarning: DataFrame is highly fragmented.  This is usually the result of calling `frame.insert` many times, which has poor performance.  Consider joining all columns at once using pd.concat(axis=1) instead. To get a de-fragmented frame, use `newframe = frame.copy()`\n",
      "  Test_df[new_col_name] = Test_df.groupby(gruopby_col)[col].transform(operation)\n",
      "C:\\Users\\brajesh\\AppData\\Local\\Temp\\ipykernel_13832\\3862288337.py:10: PerformanceWarning: DataFrame is highly fragmented.  This is usually the result of calling `frame.insert` many times, which has poor performance.  Consider joining all columns at once using pd.concat(axis=1) instead. To get a de-fragmented frame, use `newframe = frame.copy()`\n",
      "  Train_df[new_col_name] = Train_df.groupby(gruopby_col)[col].transform(operation)\n",
      "C:\\Users\\brajesh\\AppData\\Local\\Temp\\ipykernel_13832\\3862288337.py:11: PerformanceWarning: DataFrame is highly fragmented.  This is usually the result of calling `frame.insert` many times, which has poor performance.  Consider joining all columns at once using pd.concat(axis=1) instead. To get a de-fragmented frame, use `newframe = frame.copy()`\n",
      "  Test_df[new_col_name] = Test_df.groupby(gruopby_col)[col].transform(operation)\n",
      "C:\\Users\\brajesh\\AppData\\Local\\Temp\\ipykernel_13832\\3862288337.py:10: PerformanceWarning: DataFrame is highly fragmented.  This is usually the result of calling `frame.insert` many times, which has poor performance.  Consider joining all columns at once using pd.concat(axis=1) instead. To get a de-fragmented frame, use `newframe = frame.copy()`\n",
      "  Train_df[new_col_name] = Train_df.groupby(gruopby_col)[col].transform(operation)\n",
      "C:\\Users\\brajesh\\AppData\\Local\\Temp\\ipykernel_13832\\3862288337.py:11: PerformanceWarning: DataFrame is highly fragmented.  This is usually the result of calling `frame.insert` many times, which has poor performance.  Consider joining all columns at once using pd.concat(axis=1) instead. To get a de-fragmented frame, use `newframe = frame.copy()`\n",
      "  Test_df[new_col_name] = Test_df.groupby(gruopby_col)[col].transform(operation)\n",
      "C:\\Users\\brajesh\\AppData\\Local\\Temp\\ipykernel_13832\\3862288337.py:10: PerformanceWarning: DataFrame is highly fragmented.  This is usually the result of calling `frame.insert` many times, which has poor performance.  Consider joining all columns at once using pd.concat(axis=1) instead. To get a de-fragmented frame, use `newframe = frame.copy()`\n",
      "  Train_df[new_col_name] = Train_df.groupby(gruopby_col)[col].transform(operation)\n"
     ]
    },
    {
     "name": "stdout",
     "output_type": "stream",
     "text": [
      "PerClmProcedureCode_4_mean_Claim_Period\n",
      "PerClmProcedureCode_4_mean_Patient_Risk_Score\n",
      "ClmProcedureCode_5\n",
      "PerClmProcedureCode_5_mean_InscClaimAmtReimbursed\n",
      "PerClmProcedureCode_5_mean_DeductibleAmtPaid\n",
      "PerClmProcedureCode_5_mean_IPAnnualReimbursementAmt\n",
      "PerClmProcedureCode_5_mean_IPAnnualDeductibleAmt\n",
      "PerClmProcedureCode_5_mean_OPAnnualReimbursementAmt\n",
      "PerClmProcedureCode_5_mean_OPAnnualDeductibleAmt\n"
     ]
    },
    {
     "name": "stderr",
     "output_type": "stream",
     "text": [
      "C:\\Users\\brajesh\\AppData\\Local\\Temp\\ipykernel_13832\\3862288337.py:11: PerformanceWarning: DataFrame is highly fragmented.  This is usually the result of calling `frame.insert` many times, which has poor performance.  Consider joining all columns at once using pd.concat(axis=1) instead. To get a de-fragmented frame, use `newframe = frame.copy()`\n",
      "  Test_df[new_col_name] = Test_df.groupby(gruopby_col)[col].transform(operation)\n",
      "C:\\Users\\brajesh\\AppData\\Local\\Temp\\ipykernel_13832\\3862288337.py:10: PerformanceWarning: DataFrame is highly fragmented.  This is usually the result of calling `frame.insert` many times, which has poor performance.  Consider joining all columns at once using pd.concat(axis=1) instead. To get a de-fragmented frame, use `newframe = frame.copy()`\n",
      "  Train_df[new_col_name] = Train_df.groupby(gruopby_col)[col].transform(operation)\n",
      "C:\\Users\\brajesh\\AppData\\Local\\Temp\\ipykernel_13832\\3862288337.py:11: PerformanceWarning: DataFrame is highly fragmented.  This is usually the result of calling `frame.insert` many times, which has poor performance.  Consider joining all columns at once using pd.concat(axis=1) instead. To get a de-fragmented frame, use `newframe = frame.copy()`\n",
      "  Test_df[new_col_name] = Test_df.groupby(gruopby_col)[col].transform(operation)\n",
      "C:\\Users\\brajesh\\AppData\\Local\\Temp\\ipykernel_13832\\3862288337.py:10: PerformanceWarning: DataFrame is highly fragmented.  This is usually the result of calling `frame.insert` many times, which has poor performance.  Consider joining all columns at once using pd.concat(axis=1) instead. To get a de-fragmented frame, use `newframe = frame.copy()`\n",
      "  Train_df[new_col_name] = Train_df.groupby(gruopby_col)[col].transform(operation)\n",
      "C:\\Users\\brajesh\\AppData\\Local\\Temp\\ipykernel_13832\\3862288337.py:11: PerformanceWarning: DataFrame is highly fragmented.  This is usually the result of calling `frame.insert` many times, which has poor performance.  Consider joining all columns at once using pd.concat(axis=1) instead. To get a de-fragmented frame, use `newframe = frame.copy()`\n",
      "  Test_df[new_col_name] = Test_df.groupby(gruopby_col)[col].transform(operation)\n",
      "C:\\Users\\brajesh\\AppData\\Local\\Temp\\ipykernel_13832\\3862288337.py:10: PerformanceWarning: DataFrame is highly fragmented.  This is usually the result of calling `frame.insert` many times, which has poor performance.  Consider joining all columns at once using pd.concat(axis=1) instead. To get a de-fragmented frame, use `newframe = frame.copy()`\n",
      "  Train_df[new_col_name] = Train_df.groupby(gruopby_col)[col].transform(operation)\n",
      "C:\\Users\\brajesh\\AppData\\Local\\Temp\\ipykernel_13832\\3862288337.py:11: PerformanceWarning: DataFrame is highly fragmented.  This is usually the result of calling `frame.insert` many times, which has poor performance.  Consider joining all columns at once using pd.concat(axis=1) instead. To get a de-fragmented frame, use `newframe = frame.copy()`\n",
      "  Test_df[new_col_name] = Test_df.groupby(gruopby_col)[col].transform(operation)\n",
      "C:\\Users\\brajesh\\AppData\\Local\\Temp\\ipykernel_13832\\3862288337.py:10: PerformanceWarning: DataFrame is highly fragmented.  This is usually the result of calling `frame.insert` many times, which has poor performance.  Consider joining all columns at once using pd.concat(axis=1) instead. To get a de-fragmented frame, use `newframe = frame.copy()`\n",
      "  Train_df[new_col_name] = Train_df.groupby(gruopby_col)[col].transform(operation)\n",
      "C:\\Users\\brajesh\\AppData\\Local\\Temp\\ipykernel_13832\\3862288337.py:11: PerformanceWarning: DataFrame is highly fragmented.  This is usually the result of calling `frame.insert` many times, which has poor performance.  Consider joining all columns at once using pd.concat(axis=1) instead. To get a de-fragmented frame, use `newframe = frame.copy()`\n",
      "  Test_df[new_col_name] = Test_df.groupby(gruopby_col)[col].transform(operation)\n",
      "C:\\Users\\brajesh\\AppData\\Local\\Temp\\ipykernel_13832\\3862288337.py:10: PerformanceWarning: DataFrame is highly fragmented.  This is usually the result of calling `frame.insert` many times, which has poor performance.  Consider joining all columns at once using pd.concat(axis=1) instead. To get a de-fragmented frame, use `newframe = frame.copy()`\n",
      "  Train_df[new_col_name] = Train_df.groupby(gruopby_col)[col].transform(operation)\n",
      "C:\\Users\\brajesh\\AppData\\Local\\Temp\\ipykernel_13832\\3862288337.py:11: PerformanceWarning: DataFrame is highly fragmented.  This is usually the result of calling `frame.insert` many times, which has poor performance.  Consider joining all columns at once using pd.concat(axis=1) instead. To get a de-fragmented frame, use `newframe = frame.copy()`\n",
      "  Test_df[new_col_name] = Test_df.groupby(gruopby_col)[col].transform(operation)\n",
      "C:\\Users\\brajesh\\AppData\\Local\\Temp\\ipykernel_13832\\3862288337.py:10: PerformanceWarning: DataFrame is highly fragmented.  This is usually the result of calling `frame.insert` many times, which has poor performance.  Consider joining all columns at once using pd.concat(axis=1) instead. To get a de-fragmented frame, use `newframe = frame.copy()`\n",
      "  Train_df[new_col_name] = Train_df.groupby(gruopby_col)[col].transform(operation)\n",
      "C:\\Users\\brajesh\\AppData\\Local\\Temp\\ipykernel_13832\\3862288337.py:11: PerformanceWarning: DataFrame is highly fragmented.  This is usually the result of calling `frame.insert` many times, which has poor performance.  Consider joining all columns at once using pd.concat(axis=1) instead. To get a de-fragmented frame, use `newframe = frame.copy()`\n",
      "  Test_df[new_col_name] = Test_df.groupby(gruopby_col)[col].transform(operation)\n",
      "C:\\Users\\brajesh\\AppData\\Local\\Temp\\ipykernel_13832\\3862288337.py:10: PerformanceWarning: DataFrame is highly fragmented.  This is usually the result of calling `frame.insert` many times, which has poor performance.  Consider joining all columns at once using pd.concat(axis=1) instead. To get a de-fragmented frame, use `newframe = frame.copy()`\n",
      "  Train_df[new_col_name] = Train_df.groupby(gruopby_col)[col].transform(operation)\n",
      "C:\\Users\\brajesh\\AppData\\Local\\Temp\\ipykernel_13832\\3862288337.py:11: PerformanceWarning: DataFrame is highly fragmented.  This is usually the result of calling `frame.insert` many times, which has poor performance.  Consider joining all columns at once using pd.concat(axis=1) instead. To get a de-fragmented frame, use `newframe = frame.copy()`\n",
      "  Test_df[new_col_name] = Test_df.groupby(gruopby_col)[col].transform(operation)\n",
      "C:\\Users\\brajesh\\AppData\\Local\\Temp\\ipykernel_13832\\3862288337.py:10: PerformanceWarning: DataFrame is highly fragmented.  This is usually the result of calling `frame.insert` many times, which has poor performance.  Consider joining all columns at once using pd.concat(axis=1) instead. To get a de-fragmented frame, use `newframe = frame.copy()`\n",
      "  Train_df[new_col_name] = Train_df.groupby(gruopby_col)[col].transform(operation)\n",
      "C:\\Users\\brajesh\\AppData\\Local\\Temp\\ipykernel_13832\\3862288337.py:11: PerformanceWarning: DataFrame is highly fragmented.  This is usually the result of calling `frame.insert` many times, which has poor performance.  Consider joining all columns at once using pd.concat(axis=1) instead. To get a de-fragmented frame, use `newframe = frame.copy()`\n",
      "  Test_df[new_col_name] = Test_df.groupby(gruopby_col)[col].transform(operation)\n",
      "C:\\Users\\brajesh\\AppData\\Local\\Temp\\ipykernel_13832\\3862288337.py:10: PerformanceWarning: DataFrame is highly fragmented.  This is usually the result of calling `frame.insert` many times, which has poor performance.  Consider joining all columns at once using pd.concat(axis=1) instead. To get a de-fragmented frame, use `newframe = frame.copy()`\n",
      "  Train_df[new_col_name] = Train_df.groupby(gruopby_col)[col].transform(operation)\n",
      "C:\\Users\\brajesh\\AppData\\Local\\Temp\\ipykernel_13832\\3862288337.py:11: PerformanceWarning: DataFrame is highly fragmented.  This is usually the result of calling `frame.insert` many times, which has poor performance.  Consider joining all columns at once using pd.concat(axis=1) instead. To get a de-fragmented frame, use `newframe = frame.copy()`\n",
      "  Test_df[new_col_name] = Test_df.groupby(gruopby_col)[col].transform(operation)\n"
     ]
    },
    {
     "name": "stdout",
     "output_type": "stream",
     "text": [
      "PerClmProcedureCode_5_mean_Patient_Age\n",
      "PerClmProcedureCode_5_mean_Hospitalization_Duration\n",
      "PerClmProcedureCode_5_mean_Claim_Period\n",
      "PerClmProcedureCode_5_mean_Patient_Risk_Score\n",
      "ClmProcedureCode_6\n",
      "PerClmProcedureCode_6_mean_InscClaimAmtReimbursed\n",
      "PerClmProcedureCode_6_mean_DeductibleAmtPaid\n",
      "PerClmProcedureCode_6_mean_IPAnnualReimbursementAmt\n",
      "PerClmProcedureCode_6_mean_IPAnnualDeductibleAmt\n",
      "PerClmProcedureCode_6_mean_OPAnnualReimbursementAmt\n"
     ]
    },
    {
     "name": "stderr",
     "output_type": "stream",
     "text": [
      "C:\\Users\\brajesh\\AppData\\Local\\Temp\\ipykernel_13832\\3862288337.py:10: PerformanceWarning: DataFrame is highly fragmented.  This is usually the result of calling `frame.insert` many times, which has poor performance.  Consider joining all columns at once using pd.concat(axis=1) instead. To get a de-fragmented frame, use `newframe = frame.copy()`\n",
      "  Train_df[new_col_name] = Train_df.groupby(gruopby_col)[col].transform(operation)\n",
      "C:\\Users\\brajesh\\AppData\\Local\\Temp\\ipykernel_13832\\3862288337.py:11: PerformanceWarning: DataFrame is highly fragmented.  This is usually the result of calling `frame.insert` many times, which has poor performance.  Consider joining all columns at once using pd.concat(axis=1) instead. To get a de-fragmented frame, use `newframe = frame.copy()`\n",
      "  Test_df[new_col_name] = Test_df.groupby(gruopby_col)[col].transform(operation)\n",
      "C:\\Users\\brajesh\\AppData\\Local\\Temp\\ipykernel_13832\\3862288337.py:10: PerformanceWarning: DataFrame is highly fragmented.  This is usually the result of calling `frame.insert` many times, which has poor performance.  Consider joining all columns at once using pd.concat(axis=1) instead. To get a de-fragmented frame, use `newframe = frame.copy()`\n",
      "  Train_df[new_col_name] = Train_df.groupby(gruopby_col)[col].transform(operation)\n",
      "C:\\Users\\brajesh\\AppData\\Local\\Temp\\ipykernel_13832\\3862288337.py:11: PerformanceWarning: DataFrame is highly fragmented.  This is usually the result of calling `frame.insert` many times, which has poor performance.  Consider joining all columns at once using pd.concat(axis=1) instead. To get a de-fragmented frame, use `newframe = frame.copy()`\n",
      "  Test_df[new_col_name] = Test_df.groupby(gruopby_col)[col].transform(operation)\n",
      "C:\\Users\\brajesh\\AppData\\Local\\Temp\\ipykernel_13832\\3862288337.py:10: PerformanceWarning: DataFrame is highly fragmented.  This is usually the result of calling `frame.insert` many times, which has poor performance.  Consider joining all columns at once using pd.concat(axis=1) instead. To get a de-fragmented frame, use `newframe = frame.copy()`\n",
      "  Train_df[new_col_name] = Train_df.groupby(gruopby_col)[col].transform(operation)\n",
      "C:\\Users\\brajesh\\AppData\\Local\\Temp\\ipykernel_13832\\3862288337.py:11: PerformanceWarning: DataFrame is highly fragmented.  This is usually the result of calling `frame.insert` many times, which has poor performance.  Consider joining all columns at once using pd.concat(axis=1) instead. To get a de-fragmented frame, use `newframe = frame.copy()`\n",
      "  Test_df[new_col_name] = Test_df.groupby(gruopby_col)[col].transform(operation)\n",
      "C:\\Users\\brajesh\\AppData\\Local\\Temp\\ipykernel_13832\\3862288337.py:10: PerformanceWarning: DataFrame is highly fragmented.  This is usually the result of calling `frame.insert` many times, which has poor performance.  Consider joining all columns at once using pd.concat(axis=1) instead. To get a de-fragmented frame, use `newframe = frame.copy()`\n",
      "  Train_df[new_col_name] = Train_df.groupby(gruopby_col)[col].transform(operation)\n",
      "C:\\Users\\brajesh\\AppData\\Local\\Temp\\ipykernel_13832\\3862288337.py:11: PerformanceWarning: DataFrame is highly fragmented.  This is usually the result of calling `frame.insert` many times, which has poor performance.  Consider joining all columns at once using pd.concat(axis=1) instead. To get a de-fragmented frame, use `newframe = frame.copy()`\n",
      "  Test_df[new_col_name] = Test_df.groupby(gruopby_col)[col].transform(operation)\n",
      "C:\\Users\\brajesh\\AppData\\Local\\Temp\\ipykernel_13832\\3862288337.py:10: PerformanceWarning: DataFrame is highly fragmented.  This is usually the result of calling `frame.insert` many times, which has poor performance.  Consider joining all columns at once using pd.concat(axis=1) instead. To get a de-fragmented frame, use `newframe = frame.copy()`\n",
      "  Train_df[new_col_name] = Train_df.groupby(gruopby_col)[col].transform(operation)\n",
      "C:\\Users\\brajesh\\AppData\\Local\\Temp\\ipykernel_13832\\3862288337.py:11: PerformanceWarning: DataFrame is highly fragmented.  This is usually the result of calling `frame.insert` many times, which has poor performance.  Consider joining all columns at once using pd.concat(axis=1) instead. To get a de-fragmented frame, use `newframe = frame.copy()`\n",
      "  Test_df[new_col_name] = Test_df.groupby(gruopby_col)[col].transform(operation)\n",
      "C:\\Users\\brajesh\\AppData\\Local\\Temp\\ipykernel_13832\\3862288337.py:10: PerformanceWarning: DataFrame is highly fragmented.  This is usually the result of calling `frame.insert` many times, which has poor performance.  Consider joining all columns at once using pd.concat(axis=1) instead. To get a de-fragmented frame, use `newframe = frame.copy()`\n",
      "  Train_df[new_col_name] = Train_df.groupby(gruopby_col)[col].transform(operation)\n",
      "C:\\Users\\brajesh\\AppData\\Local\\Temp\\ipykernel_13832\\3862288337.py:11: PerformanceWarning: DataFrame is highly fragmented.  This is usually the result of calling `frame.insert` many times, which has poor performance.  Consider joining all columns at once using pd.concat(axis=1) instead. To get a de-fragmented frame, use `newframe = frame.copy()`\n",
      "  Test_df[new_col_name] = Test_df.groupby(gruopby_col)[col].transform(operation)\n",
      "C:\\Users\\brajesh\\AppData\\Local\\Temp\\ipykernel_13832\\3862288337.py:10: PerformanceWarning: DataFrame is highly fragmented.  This is usually the result of calling `frame.insert` many times, which has poor performance.  Consider joining all columns at once using pd.concat(axis=1) instead. To get a de-fragmented frame, use `newframe = frame.copy()`\n",
      "  Train_df[new_col_name] = Train_df.groupby(gruopby_col)[col].transform(operation)\n",
      "C:\\Users\\brajesh\\AppData\\Local\\Temp\\ipykernel_13832\\3862288337.py:11: PerformanceWarning: DataFrame is highly fragmented.  This is usually the result of calling `frame.insert` many times, which has poor performance.  Consider joining all columns at once using pd.concat(axis=1) instead. To get a de-fragmented frame, use `newframe = frame.copy()`\n",
      "  Test_df[new_col_name] = Test_df.groupby(gruopby_col)[col].transform(operation)\n",
      "C:\\Users\\brajesh\\AppData\\Local\\Temp\\ipykernel_13832\\3862288337.py:10: PerformanceWarning: DataFrame is highly fragmented.  This is usually the result of calling `frame.insert` many times, which has poor performance.  Consider joining all columns at once using pd.concat(axis=1) instead. To get a de-fragmented frame, use `newframe = frame.copy()`\n",
      "  Train_df[new_col_name] = Train_df.groupby(gruopby_col)[col].transform(operation)\n",
      "C:\\Users\\brajesh\\AppData\\Local\\Temp\\ipykernel_13832\\3862288337.py:11: PerformanceWarning: DataFrame is highly fragmented.  This is usually the result of calling `frame.insert` many times, which has poor performance.  Consider joining all columns at once using pd.concat(axis=1) instead. To get a de-fragmented frame, use `newframe = frame.copy()`\n",
      "  Test_df[new_col_name] = Test_df.groupby(gruopby_col)[col].transform(operation)\n",
      "C:\\Users\\brajesh\\AppData\\Local\\Temp\\ipykernel_13832\\3862288337.py:10: PerformanceWarning: DataFrame is highly fragmented.  This is usually the result of calling `frame.insert` many times, which has poor performance.  Consider joining all columns at once using pd.concat(axis=1) instead. To get a de-fragmented frame, use `newframe = frame.copy()`\n",
      "  Train_df[new_col_name] = Train_df.groupby(gruopby_col)[col].transform(operation)\n",
      "C:\\Users\\brajesh\\AppData\\Local\\Temp\\ipykernel_13832\\3862288337.py:11: PerformanceWarning: DataFrame is highly fragmented.  This is usually the result of calling `frame.insert` many times, which has poor performance.  Consider joining all columns at once using pd.concat(axis=1) instead. To get a de-fragmented frame, use `newframe = frame.copy()`\n",
      "  Test_df[new_col_name] = Test_df.groupby(gruopby_col)[col].transform(operation)\n"
     ]
    },
    {
     "name": "stdout",
     "output_type": "stream",
     "text": [
      "PerClmProcedureCode_6_mean_OPAnnualDeductibleAmt\n",
      "PerClmProcedureCode_6_mean_Patient_Age\n",
      "PerClmProcedureCode_6_mean_Hospitalization_Duration\n",
      "PerClmProcedureCode_6_mean_Claim_Period\n",
      "PerClmProcedureCode_6_mean_Patient_Risk_Score\n",
      "ClmDiagnosisCode_1\n",
      "PerClmDiagnosisCode_1_mean_InscClaimAmtReimbursed\n"
     ]
    },
    {
     "name": "stderr",
     "output_type": "stream",
     "text": [
      "C:\\Users\\brajesh\\AppData\\Local\\Temp\\ipykernel_13832\\3862288337.py:10: PerformanceWarning: DataFrame is highly fragmented.  This is usually the result of calling `frame.insert` many times, which has poor performance.  Consider joining all columns at once using pd.concat(axis=1) instead. To get a de-fragmented frame, use `newframe = frame.copy()`\n",
      "  Train_df[new_col_name] = Train_df.groupby(gruopby_col)[col].transform(operation)\n",
      "C:\\Users\\brajesh\\AppData\\Local\\Temp\\ipykernel_13832\\3862288337.py:11: PerformanceWarning: DataFrame is highly fragmented.  This is usually the result of calling `frame.insert` many times, which has poor performance.  Consider joining all columns at once using pd.concat(axis=1) instead. To get a de-fragmented frame, use `newframe = frame.copy()`\n",
      "  Test_df[new_col_name] = Test_df.groupby(gruopby_col)[col].transform(operation)\n",
      "C:\\Users\\brajesh\\AppData\\Local\\Temp\\ipykernel_13832\\3862288337.py:10: PerformanceWarning: DataFrame is highly fragmented.  This is usually the result of calling `frame.insert` many times, which has poor performance.  Consider joining all columns at once using pd.concat(axis=1) instead. To get a de-fragmented frame, use `newframe = frame.copy()`\n",
      "  Train_df[new_col_name] = Train_df.groupby(gruopby_col)[col].transform(operation)\n",
      "C:\\Users\\brajesh\\AppData\\Local\\Temp\\ipykernel_13832\\3862288337.py:11: PerformanceWarning: DataFrame is highly fragmented.  This is usually the result of calling `frame.insert` many times, which has poor performance.  Consider joining all columns at once using pd.concat(axis=1) instead. To get a de-fragmented frame, use `newframe = frame.copy()`\n",
      "  Test_df[new_col_name] = Test_df.groupby(gruopby_col)[col].transform(operation)\n"
     ]
    },
    {
     "name": "stdout",
     "output_type": "stream",
     "text": [
      "PerClmDiagnosisCode_1_mean_DeductibleAmtPaid\n",
      "PerClmDiagnosisCode_1_mean_IPAnnualReimbursementAmt\n"
     ]
    },
    {
     "name": "stderr",
     "output_type": "stream",
     "text": [
      "C:\\Users\\brajesh\\AppData\\Local\\Temp\\ipykernel_13832\\3862288337.py:10: PerformanceWarning: DataFrame is highly fragmented.  This is usually the result of calling `frame.insert` many times, which has poor performance.  Consider joining all columns at once using pd.concat(axis=1) instead. To get a de-fragmented frame, use `newframe = frame.copy()`\n",
      "  Train_df[new_col_name] = Train_df.groupby(gruopby_col)[col].transform(operation)\n",
      "C:\\Users\\brajesh\\AppData\\Local\\Temp\\ipykernel_13832\\3862288337.py:11: PerformanceWarning: DataFrame is highly fragmented.  This is usually the result of calling `frame.insert` many times, which has poor performance.  Consider joining all columns at once using pd.concat(axis=1) instead. To get a de-fragmented frame, use `newframe = frame.copy()`\n",
      "  Test_df[new_col_name] = Test_df.groupby(gruopby_col)[col].transform(operation)\n",
      "C:\\Users\\brajesh\\AppData\\Local\\Temp\\ipykernel_13832\\3862288337.py:10: PerformanceWarning: DataFrame is highly fragmented.  This is usually the result of calling `frame.insert` many times, which has poor performance.  Consider joining all columns at once using pd.concat(axis=1) instead. To get a de-fragmented frame, use `newframe = frame.copy()`\n",
      "  Train_df[new_col_name] = Train_df.groupby(gruopby_col)[col].transform(operation)\n",
      "C:\\Users\\brajesh\\AppData\\Local\\Temp\\ipykernel_13832\\3862288337.py:11: PerformanceWarning: DataFrame is highly fragmented.  This is usually the result of calling `frame.insert` many times, which has poor performance.  Consider joining all columns at once using pd.concat(axis=1) instead. To get a de-fragmented frame, use `newframe = frame.copy()`\n",
      "  Test_df[new_col_name] = Test_df.groupby(gruopby_col)[col].transform(operation)\n"
     ]
    },
    {
     "name": "stdout",
     "output_type": "stream",
     "text": [
      "PerClmDiagnosisCode_1_mean_IPAnnualDeductibleAmt\n",
      "PerClmDiagnosisCode_1_mean_OPAnnualReimbursementAmt\n"
     ]
    },
    {
     "name": "stderr",
     "output_type": "stream",
     "text": [
      "C:\\Users\\brajesh\\AppData\\Local\\Temp\\ipykernel_13832\\3862288337.py:10: PerformanceWarning: DataFrame is highly fragmented.  This is usually the result of calling `frame.insert` many times, which has poor performance.  Consider joining all columns at once using pd.concat(axis=1) instead. To get a de-fragmented frame, use `newframe = frame.copy()`\n",
      "  Train_df[new_col_name] = Train_df.groupby(gruopby_col)[col].transform(operation)\n",
      "C:\\Users\\brajesh\\AppData\\Local\\Temp\\ipykernel_13832\\3862288337.py:11: PerformanceWarning: DataFrame is highly fragmented.  This is usually the result of calling `frame.insert` many times, which has poor performance.  Consider joining all columns at once using pd.concat(axis=1) instead. To get a de-fragmented frame, use `newframe = frame.copy()`\n",
      "  Test_df[new_col_name] = Test_df.groupby(gruopby_col)[col].transform(operation)\n",
      "C:\\Users\\brajesh\\AppData\\Local\\Temp\\ipykernel_13832\\3862288337.py:10: PerformanceWarning: DataFrame is highly fragmented.  This is usually the result of calling `frame.insert` many times, which has poor performance.  Consider joining all columns at once using pd.concat(axis=1) instead. To get a de-fragmented frame, use `newframe = frame.copy()`\n",
      "  Train_df[new_col_name] = Train_df.groupby(gruopby_col)[col].transform(operation)\n",
      "C:\\Users\\brajesh\\AppData\\Local\\Temp\\ipykernel_13832\\3862288337.py:11: PerformanceWarning: DataFrame is highly fragmented.  This is usually the result of calling `frame.insert` many times, which has poor performance.  Consider joining all columns at once using pd.concat(axis=1) instead. To get a de-fragmented frame, use `newframe = frame.copy()`\n",
      "  Test_df[new_col_name] = Test_df.groupby(gruopby_col)[col].transform(operation)\n"
     ]
    },
    {
     "name": "stdout",
     "output_type": "stream",
     "text": [
      "PerClmDiagnosisCode_1_mean_OPAnnualDeductibleAmt\n",
      "PerClmDiagnosisCode_1_mean_Patient_Age\n"
     ]
    },
    {
     "name": "stderr",
     "output_type": "stream",
     "text": [
      "C:\\Users\\brajesh\\AppData\\Local\\Temp\\ipykernel_13832\\3862288337.py:10: PerformanceWarning: DataFrame is highly fragmented.  This is usually the result of calling `frame.insert` many times, which has poor performance.  Consider joining all columns at once using pd.concat(axis=1) instead. To get a de-fragmented frame, use `newframe = frame.copy()`\n",
      "  Train_df[new_col_name] = Train_df.groupby(gruopby_col)[col].transform(operation)\n",
      "C:\\Users\\brajesh\\AppData\\Local\\Temp\\ipykernel_13832\\3862288337.py:11: PerformanceWarning: DataFrame is highly fragmented.  This is usually the result of calling `frame.insert` many times, which has poor performance.  Consider joining all columns at once using pd.concat(axis=1) instead. To get a de-fragmented frame, use `newframe = frame.copy()`\n",
      "  Test_df[new_col_name] = Test_df.groupby(gruopby_col)[col].transform(operation)\n",
      "C:\\Users\\brajesh\\AppData\\Local\\Temp\\ipykernel_13832\\3862288337.py:10: PerformanceWarning: DataFrame is highly fragmented.  This is usually the result of calling `frame.insert` many times, which has poor performance.  Consider joining all columns at once using pd.concat(axis=1) instead. To get a de-fragmented frame, use `newframe = frame.copy()`\n",
      "  Train_df[new_col_name] = Train_df.groupby(gruopby_col)[col].transform(operation)\n",
      "C:\\Users\\brajesh\\AppData\\Local\\Temp\\ipykernel_13832\\3862288337.py:11: PerformanceWarning: DataFrame is highly fragmented.  This is usually the result of calling `frame.insert` many times, which has poor performance.  Consider joining all columns at once using pd.concat(axis=1) instead. To get a de-fragmented frame, use `newframe = frame.copy()`\n",
      "  Test_df[new_col_name] = Test_df.groupby(gruopby_col)[col].transform(operation)\n"
     ]
    },
    {
     "name": "stdout",
     "output_type": "stream",
     "text": [
      "PerClmDiagnosisCode_1_mean_Hospitalization_Duration\n",
      "PerClmDiagnosisCode_1_mean_Claim_Period\n"
     ]
    },
    {
     "name": "stderr",
     "output_type": "stream",
     "text": [
      "C:\\Users\\brajesh\\AppData\\Local\\Temp\\ipykernel_13832\\3862288337.py:10: PerformanceWarning: DataFrame is highly fragmented.  This is usually the result of calling `frame.insert` many times, which has poor performance.  Consider joining all columns at once using pd.concat(axis=1) instead. To get a de-fragmented frame, use `newframe = frame.copy()`\n",
      "  Train_df[new_col_name] = Train_df.groupby(gruopby_col)[col].transform(operation)\n",
      "C:\\Users\\brajesh\\AppData\\Local\\Temp\\ipykernel_13832\\3862288337.py:11: PerformanceWarning: DataFrame is highly fragmented.  This is usually the result of calling `frame.insert` many times, which has poor performance.  Consider joining all columns at once using pd.concat(axis=1) instead. To get a de-fragmented frame, use `newframe = frame.copy()`\n",
      "  Test_df[new_col_name] = Test_df.groupby(gruopby_col)[col].transform(operation)\n",
      "C:\\Users\\brajesh\\AppData\\Local\\Temp\\ipykernel_13832\\3862288337.py:10: PerformanceWarning: DataFrame is highly fragmented.  This is usually the result of calling `frame.insert` many times, which has poor performance.  Consider joining all columns at once using pd.concat(axis=1) instead. To get a de-fragmented frame, use `newframe = frame.copy()`\n",
      "  Train_df[new_col_name] = Train_df.groupby(gruopby_col)[col].transform(operation)\n",
      "C:\\Users\\brajesh\\AppData\\Local\\Temp\\ipykernel_13832\\3862288337.py:11: PerformanceWarning: DataFrame is highly fragmented.  This is usually the result of calling `frame.insert` many times, which has poor performance.  Consider joining all columns at once using pd.concat(axis=1) instead. To get a de-fragmented frame, use `newframe = frame.copy()`\n",
      "  Test_df[new_col_name] = Test_df.groupby(gruopby_col)[col].transform(operation)\n"
     ]
    },
    {
     "name": "stdout",
     "output_type": "stream",
     "text": [
      "PerClmDiagnosisCode_1_mean_Patient_Risk_Score\n",
      "ClmDiagnosisCode_2\n",
      "PerClmDiagnosisCode_2_mean_InscClaimAmtReimbursed\n",
      "PerClmDiagnosisCode_2_mean_DeductibleAmtPaid\n"
     ]
    },
    {
     "name": "stderr",
     "output_type": "stream",
     "text": [
      "C:\\Users\\brajesh\\AppData\\Local\\Temp\\ipykernel_13832\\3862288337.py:10: PerformanceWarning: DataFrame is highly fragmented.  This is usually the result of calling `frame.insert` many times, which has poor performance.  Consider joining all columns at once using pd.concat(axis=1) instead. To get a de-fragmented frame, use `newframe = frame.copy()`\n",
      "  Train_df[new_col_name] = Train_df.groupby(gruopby_col)[col].transform(operation)\n",
      "C:\\Users\\brajesh\\AppData\\Local\\Temp\\ipykernel_13832\\3862288337.py:11: PerformanceWarning: DataFrame is highly fragmented.  This is usually the result of calling `frame.insert` many times, which has poor performance.  Consider joining all columns at once using pd.concat(axis=1) instead. To get a de-fragmented frame, use `newframe = frame.copy()`\n",
      "  Test_df[new_col_name] = Test_df.groupby(gruopby_col)[col].transform(operation)\n",
      "C:\\Users\\brajesh\\AppData\\Local\\Temp\\ipykernel_13832\\3862288337.py:10: PerformanceWarning: DataFrame is highly fragmented.  This is usually the result of calling `frame.insert` many times, which has poor performance.  Consider joining all columns at once using pd.concat(axis=1) instead. To get a de-fragmented frame, use `newframe = frame.copy()`\n",
      "  Train_df[new_col_name] = Train_df.groupby(gruopby_col)[col].transform(operation)\n",
      "C:\\Users\\brajesh\\AppData\\Local\\Temp\\ipykernel_13832\\3862288337.py:11: PerformanceWarning: DataFrame is highly fragmented.  This is usually the result of calling `frame.insert` many times, which has poor performance.  Consider joining all columns at once using pd.concat(axis=1) instead. To get a de-fragmented frame, use `newframe = frame.copy()`\n",
      "  Test_df[new_col_name] = Test_df.groupby(gruopby_col)[col].transform(operation)\n",
      "C:\\Users\\brajesh\\AppData\\Local\\Temp\\ipykernel_13832\\3862288337.py:10: PerformanceWarning: DataFrame is highly fragmented.  This is usually the result of calling `frame.insert` many times, which has poor performance.  Consider joining all columns at once using pd.concat(axis=1) instead. To get a de-fragmented frame, use `newframe = frame.copy()`\n",
      "  Train_df[new_col_name] = Train_df.groupby(gruopby_col)[col].transform(operation)\n",
      "C:\\Users\\brajesh\\AppData\\Local\\Temp\\ipykernel_13832\\3862288337.py:11: PerformanceWarning: DataFrame is highly fragmented.  This is usually the result of calling `frame.insert` many times, which has poor performance.  Consider joining all columns at once using pd.concat(axis=1) instead. To get a de-fragmented frame, use `newframe = frame.copy()`\n",
      "  Test_df[new_col_name] = Test_df.groupby(gruopby_col)[col].transform(operation)\n"
     ]
    },
    {
     "name": "stdout",
     "output_type": "stream",
     "text": [
      "PerClmDiagnosisCode_2_mean_IPAnnualReimbursementAmt\n",
      "PerClmDiagnosisCode_2_mean_IPAnnualDeductibleAmt\n",
      "PerClmDiagnosisCode_2_mean_OPAnnualReimbursementAmt\n"
     ]
    },
    {
     "name": "stderr",
     "output_type": "stream",
     "text": [
      "C:\\Users\\brajesh\\AppData\\Local\\Temp\\ipykernel_13832\\3862288337.py:10: PerformanceWarning: DataFrame is highly fragmented.  This is usually the result of calling `frame.insert` many times, which has poor performance.  Consider joining all columns at once using pd.concat(axis=1) instead. To get a de-fragmented frame, use `newframe = frame.copy()`\n",
      "  Train_df[new_col_name] = Train_df.groupby(gruopby_col)[col].transform(operation)\n",
      "C:\\Users\\brajesh\\AppData\\Local\\Temp\\ipykernel_13832\\3862288337.py:11: PerformanceWarning: DataFrame is highly fragmented.  This is usually the result of calling `frame.insert` many times, which has poor performance.  Consider joining all columns at once using pd.concat(axis=1) instead. To get a de-fragmented frame, use `newframe = frame.copy()`\n",
      "  Test_df[new_col_name] = Test_df.groupby(gruopby_col)[col].transform(operation)\n",
      "C:\\Users\\brajesh\\AppData\\Local\\Temp\\ipykernel_13832\\3862288337.py:10: PerformanceWarning: DataFrame is highly fragmented.  This is usually the result of calling `frame.insert` many times, which has poor performance.  Consider joining all columns at once using pd.concat(axis=1) instead. To get a de-fragmented frame, use `newframe = frame.copy()`\n",
      "  Train_df[new_col_name] = Train_df.groupby(gruopby_col)[col].transform(operation)\n",
      "C:\\Users\\brajesh\\AppData\\Local\\Temp\\ipykernel_13832\\3862288337.py:11: PerformanceWarning: DataFrame is highly fragmented.  This is usually the result of calling `frame.insert` many times, which has poor performance.  Consider joining all columns at once using pd.concat(axis=1) instead. To get a de-fragmented frame, use `newframe = frame.copy()`\n",
      "  Test_df[new_col_name] = Test_df.groupby(gruopby_col)[col].transform(operation)\n",
      "C:\\Users\\brajesh\\AppData\\Local\\Temp\\ipykernel_13832\\3862288337.py:10: PerformanceWarning: DataFrame is highly fragmented.  This is usually the result of calling `frame.insert` many times, which has poor performance.  Consider joining all columns at once using pd.concat(axis=1) instead. To get a de-fragmented frame, use `newframe = frame.copy()`\n",
      "  Train_df[new_col_name] = Train_df.groupby(gruopby_col)[col].transform(operation)\n",
      "C:\\Users\\brajesh\\AppData\\Local\\Temp\\ipykernel_13832\\3862288337.py:11: PerformanceWarning: DataFrame is highly fragmented.  This is usually the result of calling `frame.insert` many times, which has poor performance.  Consider joining all columns at once using pd.concat(axis=1) instead. To get a de-fragmented frame, use `newframe = frame.copy()`\n",
      "  Test_df[new_col_name] = Test_df.groupby(gruopby_col)[col].transform(operation)\n"
     ]
    },
    {
     "name": "stdout",
     "output_type": "stream",
     "text": [
      "PerClmDiagnosisCode_2_mean_OPAnnualDeductibleAmt\n",
      "PerClmDiagnosisCode_2_mean_Patient_Age\n",
      "PerClmDiagnosisCode_2_mean_Hospitalization_Duration\n"
     ]
    },
    {
     "name": "stderr",
     "output_type": "stream",
     "text": [
      "C:\\Users\\brajesh\\AppData\\Local\\Temp\\ipykernel_13832\\3862288337.py:10: PerformanceWarning: DataFrame is highly fragmented.  This is usually the result of calling `frame.insert` many times, which has poor performance.  Consider joining all columns at once using pd.concat(axis=1) instead. To get a de-fragmented frame, use `newframe = frame.copy()`\n",
      "  Train_df[new_col_name] = Train_df.groupby(gruopby_col)[col].transform(operation)\n",
      "C:\\Users\\brajesh\\AppData\\Local\\Temp\\ipykernel_13832\\3862288337.py:11: PerformanceWarning: DataFrame is highly fragmented.  This is usually the result of calling `frame.insert` many times, which has poor performance.  Consider joining all columns at once using pd.concat(axis=1) instead. To get a de-fragmented frame, use `newframe = frame.copy()`\n",
      "  Test_df[new_col_name] = Test_df.groupby(gruopby_col)[col].transform(operation)\n",
      "C:\\Users\\brajesh\\AppData\\Local\\Temp\\ipykernel_13832\\3862288337.py:10: PerformanceWarning: DataFrame is highly fragmented.  This is usually the result of calling `frame.insert` many times, which has poor performance.  Consider joining all columns at once using pd.concat(axis=1) instead. To get a de-fragmented frame, use `newframe = frame.copy()`\n",
      "  Train_df[new_col_name] = Train_df.groupby(gruopby_col)[col].transform(operation)\n",
      "C:\\Users\\brajesh\\AppData\\Local\\Temp\\ipykernel_13832\\3862288337.py:11: PerformanceWarning: DataFrame is highly fragmented.  This is usually the result of calling `frame.insert` many times, which has poor performance.  Consider joining all columns at once using pd.concat(axis=1) instead. To get a de-fragmented frame, use `newframe = frame.copy()`\n",
      "  Test_df[new_col_name] = Test_df.groupby(gruopby_col)[col].transform(operation)\n",
      "C:\\Users\\brajesh\\AppData\\Local\\Temp\\ipykernel_13832\\3862288337.py:10: PerformanceWarning: DataFrame is highly fragmented.  This is usually the result of calling `frame.insert` many times, which has poor performance.  Consider joining all columns at once using pd.concat(axis=1) instead. To get a de-fragmented frame, use `newframe = frame.copy()`\n",
      "  Train_df[new_col_name] = Train_df.groupby(gruopby_col)[col].transform(operation)\n"
     ]
    },
    {
     "name": "stdout",
     "output_type": "stream",
     "text": [
      "PerClmDiagnosisCode_2_mean_Claim_Period\n",
      "PerClmDiagnosisCode_2_mean_Patient_Risk_Score\n"
     ]
    },
    {
     "name": "stderr",
     "output_type": "stream",
     "text": [
      "C:\\Users\\brajesh\\AppData\\Local\\Temp\\ipykernel_13832\\3862288337.py:11: PerformanceWarning: DataFrame is highly fragmented.  This is usually the result of calling `frame.insert` many times, which has poor performance.  Consider joining all columns at once using pd.concat(axis=1) instead. To get a de-fragmented frame, use `newframe = frame.copy()`\n",
      "  Test_df[new_col_name] = Test_df.groupby(gruopby_col)[col].transform(operation)\n",
      "C:\\Users\\brajesh\\AppData\\Local\\Temp\\ipykernel_13832\\3862288337.py:10: PerformanceWarning: DataFrame is highly fragmented.  This is usually the result of calling `frame.insert` many times, which has poor performance.  Consider joining all columns at once using pd.concat(axis=1) instead. To get a de-fragmented frame, use `newframe = frame.copy()`\n",
      "  Train_df[new_col_name] = Train_df.groupby(gruopby_col)[col].transform(operation)\n",
      "C:\\Users\\brajesh\\AppData\\Local\\Temp\\ipykernel_13832\\3862288337.py:11: PerformanceWarning: DataFrame is highly fragmented.  This is usually the result of calling `frame.insert` many times, which has poor performance.  Consider joining all columns at once using pd.concat(axis=1) instead. To get a de-fragmented frame, use `newframe = frame.copy()`\n",
      "  Test_df[new_col_name] = Test_df.groupby(gruopby_col)[col].transform(operation)\n",
      "C:\\Users\\brajesh\\AppData\\Local\\Temp\\ipykernel_13832\\3862288337.py:10: PerformanceWarning: DataFrame is highly fragmented.  This is usually the result of calling `frame.insert` many times, which has poor performance.  Consider joining all columns at once using pd.concat(axis=1) instead. To get a de-fragmented frame, use `newframe = frame.copy()`\n",
      "  Train_df[new_col_name] = Train_df.groupby(gruopby_col)[col].transform(operation)\n",
      "C:\\Users\\brajesh\\AppData\\Local\\Temp\\ipykernel_13832\\3862288337.py:11: PerformanceWarning: DataFrame is highly fragmented.  This is usually the result of calling `frame.insert` many times, which has poor performance.  Consider joining all columns at once using pd.concat(axis=1) instead. To get a de-fragmented frame, use `newframe = frame.copy()`\n",
      "  Test_df[new_col_name] = Test_df.groupby(gruopby_col)[col].transform(operation)\n",
      "C:\\Users\\brajesh\\AppData\\Local\\Temp\\ipykernel_13832\\3862288337.py:10: PerformanceWarning: DataFrame is highly fragmented.  This is usually the result of calling `frame.insert` many times, which has poor performance.  Consider joining all columns at once using pd.concat(axis=1) instead. To get a de-fragmented frame, use `newframe = frame.copy()`\n",
      "  Train_df[new_col_name] = Train_df.groupby(gruopby_col)[col].transform(operation)\n"
     ]
    },
    {
     "name": "stdout",
     "output_type": "stream",
     "text": [
      "ClmDiagnosisCode_3\n",
      "PerClmDiagnosisCode_3_mean_InscClaimAmtReimbursed\n",
      "PerClmDiagnosisCode_3_mean_DeductibleAmtPaid\n",
      "PerClmDiagnosisCode_3_mean_IPAnnualReimbursementAmt\n"
     ]
    },
    {
     "name": "stderr",
     "output_type": "stream",
     "text": [
      "C:\\Users\\brajesh\\AppData\\Local\\Temp\\ipykernel_13832\\3862288337.py:11: PerformanceWarning: DataFrame is highly fragmented.  This is usually the result of calling `frame.insert` many times, which has poor performance.  Consider joining all columns at once using pd.concat(axis=1) instead. To get a de-fragmented frame, use `newframe = frame.copy()`\n",
      "  Test_df[new_col_name] = Test_df.groupby(gruopby_col)[col].transform(operation)\n",
      "C:\\Users\\brajesh\\AppData\\Local\\Temp\\ipykernel_13832\\3862288337.py:10: PerformanceWarning: DataFrame is highly fragmented.  This is usually the result of calling `frame.insert` many times, which has poor performance.  Consider joining all columns at once using pd.concat(axis=1) instead. To get a de-fragmented frame, use `newframe = frame.copy()`\n",
      "  Train_df[new_col_name] = Train_df.groupby(gruopby_col)[col].transform(operation)\n",
      "C:\\Users\\brajesh\\AppData\\Local\\Temp\\ipykernel_13832\\3862288337.py:11: PerformanceWarning: DataFrame is highly fragmented.  This is usually the result of calling `frame.insert` many times, which has poor performance.  Consider joining all columns at once using pd.concat(axis=1) instead. To get a de-fragmented frame, use `newframe = frame.copy()`\n",
      "  Test_df[new_col_name] = Test_df.groupby(gruopby_col)[col].transform(operation)\n",
      "C:\\Users\\brajesh\\AppData\\Local\\Temp\\ipykernel_13832\\3862288337.py:10: PerformanceWarning: DataFrame is highly fragmented.  This is usually the result of calling `frame.insert` many times, which has poor performance.  Consider joining all columns at once using pd.concat(axis=1) instead. To get a de-fragmented frame, use `newframe = frame.copy()`\n",
      "  Train_df[new_col_name] = Train_df.groupby(gruopby_col)[col].transform(operation)\n",
      "C:\\Users\\brajesh\\AppData\\Local\\Temp\\ipykernel_13832\\3862288337.py:11: PerformanceWarning: DataFrame is highly fragmented.  This is usually the result of calling `frame.insert` many times, which has poor performance.  Consider joining all columns at once using pd.concat(axis=1) instead. To get a de-fragmented frame, use `newframe = frame.copy()`\n",
      "  Test_df[new_col_name] = Test_df.groupby(gruopby_col)[col].transform(operation)\n"
     ]
    },
    {
     "name": "stdout",
     "output_type": "stream",
     "text": [
      "PerClmDiagnosisCode_3_mean_IPAnnualDeductibleAmt\n",
      "PerClmDiagnosisCode_3_mean_OPAnnualReimbursementAmt\n",
      "PerClmDiagnosisCode_3_mean_OPAnnualDeductibleAmt\n"
     ]
    },
    {
     "name": "stderr",
     "output_type": "stream",
     "text": [
      "C:\\Users\\brajesh\\AppData\\Local\\Temp\\ipykernel_13832\\3862288337.py:10: PerformanceWarning: DataFrame is highly fragmented.  This is usually the result of calling `frame.insert` many times, which has poor performance.  Consider joining all columns at once using pd.concat(axis=1) instead. To get a de-fragmented frame, use `newframe = frame.copy()`\n",
      "  Train_df[new_col_name] = Train_df.groupby(gruopby_col)[col].transform(operation)\n",
      "C:\\Users\\brajesh\\AppData\\Local\\Temp\\ipykernel_13832\\3862288337.py:11: PerformanceWarning: DataFrame is highly fragmented.  This is usually the result of calling `frame.insert` many times, which has poor performance.  Consider joining all columns at once using pd.concat(axis=1) instead. To get a de-fragmented frame, use `newframe = frame.copy()`\n",
      "  Test_df[new_col_name] = Test_df.groupby(gruopby_col)[col].transform(operation)\n",
      "C:\\Users\\brajesh\\AppData\\Local\\Temp\\ipykernel_13832\\3862288337.py:10: PerformanceWarning: DataFrame is highly fragmented.  This is usually the result of calling `frame.insert` many times, which has poor performance.  Consider joining all columns at once using pd.concat(axis=1) instead. To get a de-fragmented frame, use `newframe = frame.copy()`\n",
      "  Train_df[new_col_name] = Train_df.groupby(gruopby_col)[col].transform(operation)\n",
      "C:\\Users\\brajesh\\AppData\\Local\\Temp\\ipykernel_13832\\3862288337.py:11: PerformanceWarning: DataFrame is highly fragmented.  This is usually the result of calling `frame.insert` many times, which has poor performance.  Consider joining all columns at once using pd.concat(axis=1) instead. To get a de-fragmented frame, use `newframe = frame.copy()`\n",
      "  Test_df[new_col_name] = Test_df.groupby(gruopby_col)[col].transform(operation)\n",
      "C:\\Users\\brajesh\\AppData\\Local\\Temp\\ipykernel_13832\\3862288337.py:10: PerformanceWarning: DataFrame is highly fragmented.  This is usually the result of calling `frame.insert` many times, which has poor performance.  Consider joining all columns at once using pd.concat(axis=1) instead. To get a de-fragmented frame, use `newframe = frame.copy()`\n",
      "  Train_df[new_col_name] = Train_df.groupby(gruopby_col)[col].transform(operation)\n",
      "C:\\Users\\brajesh\\AppData\\Local\\Temp\\ipykernel_13832\\3862288337.py:11: PerformanceWarning: DataFrame is highly fragmented.  This is usually the result of calling `frame.insert` many times, which has poor performance.  Consider joining all columns at once using pd.concat(axis=1) instead. To get a de-fragmented frame, use `newframe = frame.copy()`\n",
      "  Test_df[new_col_name] = Test_df.groupby(gruopby_col)[col].transform(operation)\n"
     ]
    },
    {
     "name": "stdout",
     "output_type": "stream",
     "text": [
      "PerClmDiagnosisCode_3_mean_Patient_Age\n",
      "PerClmDiagnosisCode_3_mean_Hospitalization_Duration\n",
      "PerClmDiagnosisCode_3_mean_Claim_Period\n",
      "PerClmDiagnosisCode_3_mean_Patient_Risk_Score\n"
     ]
    },
    {
     "name": "stderr",
     "output_type": "stream",
     "text": [
      "C:\\Users\\brajesh\\AppData\\Local\\Temp\\ipykernel_13832\\3862288337.py:10: PerformanceWarning: DataFrame is highly fragmented.  This is usually the result of calling `frame.insert` many times, which has poor performance.  Consider joining all columns at once using pd.concat(axis=1) instead. To get a de-fragmented frame, use `newframe = frame.copy()`\n",
      "  Train_df[new_col_name] = Train_df.groupby(gruopby_col)[col].transform(operation)\n",
      "C:\\Users\\brajesh\\AppData\\Local\\Temp\\ipykernel_13832\\3862288337.py:11: PerformanceWarning: DataFrame is highly fragmented.  This is usually the result of calling `frame.insert` many times, which has poor performance.  Consider joining all columns at once using pd.concat(axis=1) instead. To get a de-fragmented frame, use `newframe = frame.copy()`\n",
      "  Test_df[new_col_name] = Test_df.groupby(gruopby_col)[col].transform(operation)\n",
      "C:\\Users\\brajesh\\AppData\\Local\\Temp\\ipykernel_13832\\3862288337.py:10: PerformanceWarning: DataFrame is highly fragmented.  This is usually the result of calling `frame.insert` many times, which has poor performance.  Consider joining all columns at once using pd.concat(axis=1) instead. To get a de-fragmented frame, use `newframe = frame.copy()`\n",
      "  Train_df[new_col_name] = Train_df.groupby(gruopby_col)[col].transform(operation)\n",
      "C:\\Users\\brajesh\\AppData\\Local\\Temp\\ipykernel_13832\\3862288337.py:11: PerformanceWarning: DataFrame is highly fragmented.  This is usually the result of calling `frame.insert` many times, which has poor performance.  Consider joining all columns at once using pd.concat(axis=1) instead. To get a de-fragmented frame, use `newframe = frame.copy()`\n",
      "  Test_df[new_col_name] = Test_df.groupby(gruopby_col)[col].transform(operation)\n",
      "C:\\Users\\brajesh\\AppData\\Local\\Temp\\ipykernel_13832\\3862288337.py:10: PerformanceWarning: DataFrame is highly fragmented.  This is usually the result of calling `frame.insert` many times, which has poor performance.  Consider joining all columns at once using pd.concat(axis=1) instead. To get a de-fragmented frame, use `newframe = frame.copy()`\n",
      "  Train_df[new_col_name] = Train_df.groupby(gruopby_col)[col].transform(operation)\n",
      "C:\\Users\\brajesh\\AppData\\Local\\Temp\\ipykernel_13832\\3862288337.py:11: PerformanceWarning: DataFrame is highly fragmented.  This is usually the result of calling `frame.insert` many times, which has poor performance.  Consider joining all columns at once using pd.concat(axis=1) instead. To get a de-fragmented frame, use `newframe = frame.copy()`\n",
      "  Test_df[new_col_name] = Test_df.groupby(gruopby_col)[col].transform(operation)\n"
     ]
    },
    {
     "name": "stdout",
     "output_type": "stream",
     "text": [
      "ClmDiagnosisCode_4\n",
      "PerClmDiagnosisCode_4_mean_InscClaimAmtReimbursed\n",
      "PerClmDiagnosisCode_4_mean_DeductibleAmtPaid\n",
      "PerClmDiagnosisCode_4_mean_IPAnnualReimbursementAmt\n",
      "PerClmDiagnosisCode_4_mean_IPAnnualDeductibleAmt\n"
     ]
    },
    {
     "name": "stderr",
     "output_type": "stream",
     "text": [
      "C:\\Users\\brajesh\\AppData\\Local\\Temp\\ipykernel_13832\\3862288337.py:10: PerformanceWarning: DataFrame is highly fragmented.  This is usually the result of calling `frame.insert` many times, which has poor performance.  Consider joining all columns at once using pd.concat(axis=1) instead. To get a de-fragmented frame, use `newframe = frame.copy()`\n",
      "  Train_df[new_col_name] = Train_df.groupby(gruopby_col)[col].transform(operation)\n",
      "C:\\Users\\brajesh\\AppData\\Local\\Temp\\ipykernel_13832\\3862288337.py:11: PerformanceWarning: DataFrame is highly fragmented.  This is usually the result of calling `frame.insert` many times, which has poor performance.  Consider joining all columns at once using pd.concat(axis=1) instead. To get a de-fragmented frame, use `newframe = frame.copy()`\n",
      "  Test_df[new_col_name] = Test_df.groupby(gruopby_col)[col].transform(operation)\n",
      "C:\\Users\\brajesh\\AppData\\Local\\Temp\\ipykernel_13832\\3862288337.py:10: PerformanceWarning: DataFrame is highly fragmented.  This is usually the result of calling `frame.insert` many times, which has poor performance.  Consider joining all columns at once using pd.concat(axis=1) instead. To get a de-fragmented frame, use `newframe = frame.copy()`\n",
      "  Train_df[new_col_name] = Train_df.groupby(gruopby_col)[col].transform(operation)\n",
      "C:\\Users\\brajesh\\AppData\\Local\\Temp\\ipykernel_13832\\3862288337.py:11: PerformanceWarning: DataFrame is highly fragmented.  This is usually the result of calling `frame.insert` many times, which has poor performance.  Consider joining all columns at once using pd.concat(axis=1) instead. To get a de-fragmented frame, use `newframe = frame.copy()`\n",
      "  Test_df[new_col_name] = Test_df.groupby(gruopby_col)[col].transform(operation)\n",
      "C:\\Users\\brajesh\\AppData\\Local\\Temp\\ipykernel_13832\\3862288337.py:10: PerformanceWarning: DataFrame is highly fragmented.  This is usually the result of calling `frame.insert` many times, which has poor performance.  Consider joining all columns at once using pd.concat(axis=1) instead. To get a de-fragmented frame, use `newframe = frame.copy()`\n",
      "  Train_df[new_col_name] = Train_df.groupby(gruopby_col)[col].transform(operation)\n",
      "C:\\Users\\brajesh\\AppData\\Local\\Temp\\ipykernel_13832\\3862288337.py:11: PerformanceWarning: DataFrame is highly fragmented.  This is usually the result of calling `frame.insert` many times, which has poor performance.  Consider joining all columns at once using pd.concat(axis=1) instead. To get a de-fragmented frame, use `newframe = frame.copy()`\n",
      "  Test_df[new_col_name] = Test_df.groupby(gruopby_col)[col].transform(operation)\n",
      "C:\\Users\\brajesh\\AppData\\Local\\Temp\\ipykernel_13832\\3862288337.py:10: PerformanceWarning: DataFrame is highly fragmented.  This is usually the result of calling `frame.insert` many times, which has poor performance.  Consider joining all columns at once using pd.concat(axis=1) instead. To get a de-fragmented frame, use `newframe = frame.copy()`\n",
      "  Train_df[new_col_name] = Train_df.groupby(gruopby_col)[col].transform(operation)\n",
      "C:\\Users\\brajesh\\AppData\\Local\\Temp\\ipykernel_13832\\3862288337.py:11: PerformanceWarning: DataFrame is highly fragmented.  This is usually the result of calling `frame.insert` many times, which has poor performance.  Consider joining all columns at once using pd.concat(axis=1) instead. To get a de-fragmented frame, use `newframe = frame.copy()`\n",
      "  Test_df[new_col_name] = Test_df.groupby(gruopby_col)[col].transform(operation)\n",
      "C:\\Users\\brajesh\\AppData\\Local\\Temp\\ipykernel_13832\\3862288337.py:10: PerformanceWarning: DataFrame is highly fragmented.  This is usually the result of calling `frame.insert` many times, which has poor performance.  Consider joining all columns at once using pd.concat(axis=1) instead. To get a de-fragmented frame, use `newframe = frame.copy()`\n",
      "  Train_df[new_col_name] = Train_df.groupby(gruopby_col)[col].transform(operation)\n",
      "C:\\Users\\brajesh\\AppData\\Local\\Temp\\ipykernel_13832\\3862288337.py:11: PerformanceWarning: DataFrame is highly fragmented.  This is usually the result of calling `frame.insert` many times, which has poor performance.  Consider joining all columns at once using pd.concat(axis=1) instead. To get a de-fragmented frame, use `newframe = frame.copy()`\n",
      "  Test_df[new_col_name] = Test_df.groupby(gruopby_col)[col].transform(operation)\n",
      "C:\\Users\\brajesh\\AppData\\Local\\Temp\\ipykernel_13832\\3862288337.py:10: PerformanceWarning: DataFrame is highly fragmented.  This is usually the result of calling `frame.insert` many times, which has poor performance.  Consider joining all columns at once using pd.concat(axis=1) instead. To get a de-fragmented frame, use `newframe = frame.copy()`\n",
      "  Train_df[new_col_name] = Train_df.groupby(gruopby_col)[col].transform(operation)\n",
      "C:\\Users\\brajesh\\AppData\\Local\\Temp\\ipykernel_13832\\3862288337.py:11: PerformanceWarning: DataFrame is highly fragmented.  This is usually the result of calling `frame.insert` many times, which has poor performance.  Consider joining all columns at once using pd.concat(axis=1) instead. To get a de-fragmented frame, use `newframe = frame.copy()`\n",
      "  Test_df[new_col_name] = Test_df.groupby(gruopby_col)[col].transform(operation)\n"
     ]
    },
    {
     "name": "stdout",
     "output_type": "stream",
     "text": [
      "PerClmDiagnosisCode_4_mean_OPAnnualReimbursementAmt\n",
      "PerClmDiagnosisCode_4_mean_OPAnnualDeductibleAmt\n",
      "PerClmDiagnosisCode_4_mean_Patient_Age\n",
      "PerClmDiagnosisCode_4_mean_Hospitalization_Duration\n"
     ]
    },
    {
     "name": "stderr",
     "output_type": "stream",
     "text": [
      "C:\\Users\\brajesh\\AppData\\Local\\Temp\\ipykernel_13832\\3862288337.py:10: PerformanceWarning: DataFrame is highly fragmented.  This is usually the result of calling `frame.insert` many times, which has poor performance.  Consider joining all columns at once using pd.concat(axis=1) instead. To get a de-fragmented frame, use `newframe = frame.copy()`\n",
      "  Train_df[new_col_name] = Train_df.groupby(gruopby_col)[col].transform(operation)\n",
      "C:\\Users\\brajesh\\AppData\\Local\\Temp\\ipykernel_13832\\3862288337.py:11: PerformanceWarning: DataFrame is highly fragmented.  This is usually the result of calling `frame.insert` many times, which has poor performance.  Consider joining all columns at once using pd.concat(axis=1) instead. To get a de-fragmented frame, use `newframe = frame.copy()`\n",
      "  Test_df[new_col_name] = Test_df.groupby(gruopby_col)[col].transform(operation)\n",
      "C:\\Users\\brajesh\\AppData\\Local\\Temp\\ipykernel_13832\\3862288337.py:10: PerformanceWarning: DataFrame is highly fragmented.  This is usually the result of calling `frame.insert` many times, which has poor performance.  Consider joining all columns at once using pd.concat(axis=1) instead. To get a de-fragmented frame, use `newframe = frame.copy()`\n",
      "  Train_df[new_col_name] = Train_df.groupby(gruopby_col)[col].transform(operation)\n",
      "C:\\Users\\brajesh\\AppData\\Local\\Temp\\ipykernel_13832\\3862288337.py:11: PerformanceWarning: DataFrame is highly fragmented.  This is usually the result of calling `frame.insert` many times, which has poor performance.  Consider joining all columns at once using pd.concat(axis=1) instead. To get a de-fragmented frame, use `newframe = frame.copy()`\n",
      "  Test_df[new_col_name] = Test_df.groupby(gruopby_col)[col].transform(operation)\n",
      "C:\\Users\\brajesh\\AppData\\Local\\Temp\\ipykernel_13832\\3862288337.py:10: PerformanceWarning: DataFrame is highly fragmented.  This is usually the result of calling `frame.insert` many times, which has poor performance.  Consider joining all columns at once using pd.concat(axis=1) instead. To get a de-fragmented frame, use `newframe = frame.copy()`\n",
      "  Train_df[new_col_name] = Train_df.groupby(gruopby_col)[col].transform(operation)\n",
      "C:\\Users\\brajesh\\AppData\\Local\\Temp\\ipykernel_13832\\3862288337.py:11: PerformanceWarning: DataFrame is highly fragmented.  This is usually the result of calling `frame.insert` many times, which has poor performance.  Consider joining all columns at once using pd.concat(axis=1) instead. To get a de-fragmented frame, use `newframe = frame.copy()`\n",
      "  Test_df[new_col_name] = Test_df.groupby(gruopby_col)[col].transform(operation)\n"
     ]
    },
    {
     "name": "stdout",
     "output_type": "stream",
     "text": [
      "PerClmDiagnosisCode_4_mean_Claim_Period\n",
      "PerClmDiagnosisCode_4_mean_Patient_Risk_Score\n",
      "ClmDiagnosisCode_5\n",
      "PerClmDiagnosisCode_5_mean_InscClaimAmtReimbursed\n",
      "PerClmDiagnosisCode_5_mean_DeductibleAmtPaid\n"
     ]
    },
    {
     "name": "stderr",
     "output_type": "stream",
     "text": [
      "C:\\Users\\brajesh\\AppData\\Local\\Temp\\ipykernel_13832\\3862288337.py:10: PerformanceWarning: DataFrame is highly fragmented.  This is usually the result of calling `frame.insert` many times, which has poor performance.  Consider joining all columns at once using pd.concat(axis=1) instead. To get a de-fragmented frame, use `newframe = frame.copy()`\n",
      "  Train_df[new_col_name] = Train_df.groupby(gruopby_col)[col].transform(operation)\n",
      "C:\\Users\\brajesh\\AppData\\Local\\Temp\\ipykernel_13832\\3862288337.py:11: PerformanceWarning: DataFrame is highly fragmented.  This is usually the result of calling `frame.insert` many times, which has poor performance.  Consider joining all columns at once using pd.concat(axis=1) instead. To get a de-fragmented frame, use `newframe = frame.copy()`\n",
      "  Test_df[new_col_name] = Test_df.groupby(gruopby_col)[col].transform(operation)\n",
      "C:\\Users\\brajesh\\AppData\\Local\\Temp\\ipykernel_13832\\3862288337.py:10: PerformanceWarning: DataFrame is highly fragmented.  This is usually the result of calling `frame.insert` many times, which has poor performance.  Consider joining all columns at once using pd.concat(axis=1) instead. To get a de-fragmented frame, use `newframe = frame.copy()`\n",
      "  Train_df[new_col_name] = Train_df.groupby(gruopby_col)[col].transform(operation)\n",
      "C:\\Users\\brajesh\\AppData\\Local\\Temp\\ipykernel_13832\\3862288337.py:11: PerformanceWarning: DataFrame is highly fragmented.  This is usually the result of calling `frame.insert` many times, which has poor performance.  Consider joining all columns at once using pd.concat(axis=1) instead. To get a de-fragmented frame, use `newframe = frame.copy()`\n",
      "  Test_df[new_col_name] = Test_df.groupby(gruopby_col)[col].transform(operation)\n",
      "C:\\Users\\brajesh\\AppData\\Local\\Temp\\ipykernel_13832\\3862288337.py:10: PerformanceWarning: DataFrame is highly fragmented.  This is usually the result of calling `frame.insert` many times, which has poor performance.  Consider joining all columns at once using pd.concat(axis=1) instead. To get a de-fragmented frame, use `newframe = frame.copy()`\n",
      "  Train_df[new_col_name] = Train_df.groupby(gruopby_col)[col].transform(operation)\n",
      "C:\\Users\\brajesh\\AppData\\Local\\Temp\\ipykernel_13832\\3862288337.py:11: PerformanceWarning: DataFrame is highly fragmented.  This is usually the result of calling `frame.insert` many times, which has poor performance.  Consider joining all columns at once using pd.concat(axis=1) instead. To get a de-fragmented frame, use `newframe = frame.copy()`\n",
      "  Test_df[new_col_name] = Test_df.groupby(gruopby_col)[col].transform(operation)\n"
     ]
    },
    {
     "name": "stdout",
     "output_type": "stream",
     "text": [
      "PerClmDiagnosisCode_5_mean_IPAnnualReimbursementAmt\n",
      "PerClmDiagnosisCode_5_mean_IPAnnualDeductibleAmt\n",
      "PerClmDiagnosisCode_5_mean_OPAnnualReimbursementAmt\n",
      "PerClmDiagnosisCode_5_mean_OPAnnualDeductibleAmt\n"
     ]
    },
    {
     "name": "stderr",
     "output_type": "stream",
     "text": [
      "C:\\Users\\brajesh\\AppData\\Local\\Temp\\ipykernel_13832\\3862288337.py:10: PerformanceWarning: DataFrame is highly fragmented.  This is usually the result of calling `frame.insert` many times, which has poor performance.  Consider joining all columns at once using pd.concat(axis=1) instead. To get a de-fragmented frame, use `newframe = frame.copy()`\n",
      "  Train_df[new_col_name] = Train_df.groupby(gruopby_col)[col].transform(operation)\n",
      "C:\\Users\\brajesh\\AppData\\Local\\Temp\\ipykernel_13832\\3862288337.py:11: PerformanceWarning: DataFrame is highly fragmented.  This is usually the result of calling `frame.insert` many times, which has poor performance.  Consider joining all columns at once using pd.concat(axis=1) instead. To get a de-fragmented frame, use `newframe = frame.copy()`\n",
      "  Test_df[new_col_name] = Test_df.groupby(gruopby_col)[col].transform(operation)\n",
      "C:\\Users\\brajesh\\AppData\\Local\\Temp\\ipykernel_13832\\3862288337.py:10: PerformanceWarning: DataFrame is highly fragmented.  This is usually the result of calling `frame.insert` many times, which has poor performance.  Consider joining all columns at once using pd.concat(axis=1) instead. To get a de-fragmented frame, use `newframe = frame.copy()`\n",
      "  Train_df[new_col_name] = Train_df.groupby(gruopby_col)[col].transform(operation)\n",
      "C:\\Users\\brajesh\\AppData\\Local\\Temp\\ipykernel_13832\\3862288337.py:11: PerformanceWarning: DataFrame is highly fragmented.  This is usually the result of calling `frame.insert` many times, which has poor performance.  Consider joining all columns at once using pd.concat(axis=1) instead. To get a de-fragmented frame, use `newframe = frame.copy()`\n",
      "  Test_df[new_col_name] = Test_df.groupby(gruopby_col)[col].transform(operation)\n",
      "C:\\Users\\brajesh\\AppData\\Local\\Temp\\ipykernel_13832\\3862288337.py:10: PerformanceWarning: DataFrame is highly fragmented.  This is usually the result of calling `frame.insert` many times, which has poor performance.  Consider joining all columns at once using pd.concat(axis=1) instead. To get a de-fragmented frame, use `newframe = frame.copy()`\n",
      "  Train_df[new_col_name] = Train_df.groupby(gruopby_col)[col].transform(operation)\n",
      "C:\\Users\\brajesh\\AppData\\Local\\Temp\\ipykernel_13832\\3862288337.py:11: PerformanceWarning: DataFrame is highly fragmented.  This is usually the result of calling `frame.insert` many times, which has poor performance.  Consider joining all columns at once using pd.concat(axis=1) instead. To get a de-fragmented frame, use `newframe = frame.copy()`\n",
      "  Test_df[new_col_name] = Test_df.groupby(gruopby_col)[col].transform(operation)\n",
      "C:\\Users\\brajesh\\AppData\\Local\\Temp\\ipykernel_13832\\3862288337.py:10: PerformanceWarning: DataFrame is highly fragmented.  This is usually the result of calling `frame.insert` many times, which has poor performance.  Consider joining all columns at once using pd.concat(axis=1) instead. To get a de-fragmented frame, use `newframe = frame.copy()`\n",
      "  Train_df[new_col_name] = Train_df.groupby(gruopby_col)[col].transform(operation)\n",
      "C:\\Users\\brajesh\\AppData\\Local\\Temp\\ipykernel_13832\\3862288337.py:11: PerformanceWarning: DataFrame is highly fragmented.  This is usually the result of calling `frame.insert` many times, which has poor performance.  Consider joining all columns at once using pd.concat(axis=1) instead. To get a de-fragmented frame, use `newframe = frame.copy()`\n",
      "  Test_df[new_col_name] = Test_df.groupby(gruopby_col)[col].transform(operation)\n",
      "C:\\Users\\brajesh\\AppData\\Local\\Temp\\ipykernel_13832\\3862288337.py:10: PerformanceWarning: DataFrame is highly fragmented.  This is usually the result of calling `frame.insert` many times, which has poor performance.  Consider joining all columns at once using pd.concat(axis=1) instead. To get a de-fragmented frame, use `newframe = frame.copy()`\n",
      "  Train_df[new_col_name] = Train_df.groupby(gruopby_col)[col].transform(operation)\n",
      "C:\\Users\\brajesh\\AppData\\Local\\Temp\\ipykernel_13832\\3862288337.py:11: PerformanceWarning: DataFrame is highly fragmented.  This is usually the result of calling `frame.insert` many times, which has poor performance.  Consider joining all columns at once using pd.concat(axis=1) instead. To get a de-fragmented frame, use `newframe = frame.copy()`\n",
      "  Test_df[new_col_name] = Test_df.groupby(gruopby_col)[col].transform(operation)\n",
      "C:\\Users\\brajesh\\AppData\\Local\\Temp\\ipykernel_13832\\3862288337.py:10: PerformanceWarning: DataFrame is highly fragmented.  This is usually the result of calling `frame.insert` many times, which has poor performance.  Consider joining all columns at once using pd.concat(axis=1) instead. To get a de-fragmented frame, use `newframe = frame.copy()`\n",
      "  Train_df[new_col_name] = Train_df.groupby(gruopby_col)[col].transform(operation)\n",
      "C:\\Users\\brajesh\\AppData\\Local\\Temp\\ipykernel_13832\\3862288337.py:11: PerformanceWarning: DataFrame is highly fragmented.  This is usually the result of calling `frame.insert` many times, which has poor performance.  Consider joining all columns at once using pd.concat(axis=1) instead. To get a de-fragmented frame, use `newframe = frame.copy()`\n",
      "  Test_df[new_col_name] = Test_df.groupby(gruopby_col)[col].transform(operation)\n"
     ]
    },
    {
     "name": "stdout",
     "output_type": "stream",
     "text": [
      "PerClmDiagnosisCode_5_mean_Patient_Age\n",
      "PerClmDiagnosisCode_5_mean_Hospitalization_Duration\n",
      "PerClmDiagnosisCode_5_mean_Claim_Period\n",
      "PerClmDiagnosisCode_5_mean_Patient_Risk_Score\n"
     ]
    },
    {
     "name": "stderr",
     "output_type": "stream",
     "text": [
      "C:\\Users\\brajesh\\AppData\\Local\\Temp\\ipykernel_13832\\3862288337.py:10: PerformanceWarning: DataFrame is highly fragmented.  This is usually the result of calling `frame.insert` many times, which has poor performance.  Consider joining all columns at once using pd.concat(axis=1) instead. To get a de-fragmented frame, use `newframe = frame.copy()`\n",
      "  Train_df[new_col_name] = Train_df.groupby(gruopby_col)[col].transform(operation)\n",
      "C:\\Users\\brajesh\\AppData\\Local\\Temp\\ipykernel_13832\\3862288337.py:11: PerformanceWarning: DataFrame is highly fragmented.  This is usually the result of calling `frame.insert` many times, which has poor performance.  Consider joining all columns at once using pd.concat(axis=1) instead. To get a de-fragmented frame, use `newframe = frame.copy()`\n",
      "  Test_df[new_col_name] = Test_df.groupby(gruopby_col)[col].transform(operation)\n",
      "C:\\Users\\brajesh\\AppData\\Local\\Temp\\ipykernel_13832\\3862288337.py:10: PerformanceWarning: DataFrame is highly fragmented.  This is usually the result of calling `frame.insert` many times, which has poor performance.  Consider joining all columns at once using pd.concat(axis=1) instead. To get a de-fragmented frame, use `newframe = frame.copy()`\n",
      "  Train_df[new_col_name] = Train_df.groupby(gruopby_col)[col].transform(operation)\n",
      "C:\\Users\\brajesh\\AppData\\Local\\Temp\\ipykernel_13832\\3862288337.py:11: PerformanceWarning: DataFrame is highly fragmented.  This is usually the result of calling `frame.insert` many times, which has poor performance.  Consider joining all columns at once using pd.concat(axis=1) instead. To get a de-fragmented frame, use `newframe = frame.copy()`\n",
      "  Test_df[new_col_name] = Test_df.groupby(gruopby_col)[col].transform(operation)\n",
      "C:\\Users\\brajesh\\AppData\\Local\\Temp\\ipykernel_13832\\3862288337.py:10: PerformanceWarning: DataFrame is highly fragmented.  This is usually the result of calling `frame.insert` many times, which has poor performance.  Consider joining all columns at once using pd.concat(axis=1) instead. To get a de-fragmented frame, use `newframe = frame.copy()`\n",
      "  Train_df[new_col_name] = Train_df.groupby(gruopby_col)[col].transform(operation)\n",
      "C:\\Users\\brajesh\\AppData\\Local\\Temp\\ipykernel_13832\\3862288337.py:11: PerformanceWarning: DataFrame is highly fragmented.  This is usually the result of calling `frame.insert` many times, which has poor performance.  Consider joining all columns at once using pd.concat(axis=1) instead. To get a de-fragmented frame, use `newframe = frame.copy()`\n",
      "  Test_df[new_col_name] = Test_df.groupby(gruopby_col)[col].transform(operation)\n",
      "C:\\Users\\brajesh\\AppData\\Local\\Temp\\ipykernel_13832\\3862288337.py:10: PerformanceWarning: DataFrame is highly fragmented.  This is usually the result of calling `frame.insert` many times, which has poor performance.  Consider joining all columns at once using pd.concat(axis=1) instead. To get a de-fragmented frame, use `newframe = frame.copy()`\n",
      "  Train_df[new_col_name] = Train_df.groupby(gruopby_col)[col].transform(operation)\n"
     ]
    },
    {
     "name": "stdout",
     "output_type": "stream",
     "text": [
      "ClmDiagnosisCode_6\n",
      "PerClmDiagnosisCode_6_mean_InscClaimAmtReimbursed\n",
      "PerClmDiagnosisCode_6_mean_DeductibleAmtPaid\n",
      "PerClmDiagnosisCode_6_mean_IPAnnualReimbursementAmt\n",
      "PerClmDiagnosisCode_6_mean_IPAnnualDeductibleAmt\n"
     ]
    },
    {
     "name": "stderr",
     "output_type": "stream",
     "text": [
      "C:\\Users\\brajesh\\AppData\\Local\\Temp\\ipykernel_13832\\3862288337.py:11: PerformanceWarning: DataFrame is highly fragmented.  This is usually the result of calling `frame.insert` many times, which has poor performance.  Consider joining all columns at once using pd.concat(axis=1) instead. To get a de-fragmented frame, use `newframe = frame.copy()`\n",
      "  Test_df[new_col_name] = Test_df.groupby(gruopby_col)[col].transform(operation)\n",
      "C:\\Users\\brajesh\\AppData\\Local\\Temp\\ipykernel_13832\\3862288337.py:10: PerformanceWarning: DataFrame is highly fragmented.  This is usually the result of calling `frame.insert` many times, which has poor performance.  Consider joining all columns at once using pd.concat(axis=1) instead. To get a de-fragmented frame, use `newframe = frame.copy()`\n",
      "  Train_df[new_col_name] = Train_df.groupby(gruopby_col)[col].transform(operation)\n",
      "C:\\Users\\brajesh\\AppData\\Local\\Temp\\ipykernel_13832\\3862288337.py:11: PerformanceWarning: DataFrame is highly fragmented.  This is usually the result of calling `frame.insert` many times, which has poor performance.  Consider joining all columns at once using pd.concat(axis=1) instead. To get a de-fragmented frame, use `newframe = frame.copy()`\n",
      "  Test_df[new_col_name] = Test_df.groupby(gruopby_col)[col].transform(operation)\n",
      "C:\\Users\\brajesh\\AppData\\Local\\Temp\\ipykernel_13832\\3862288337.py:10: PerformanceWarning: DataFrame is highly fragmented.  This is usually the result of calling `frame.insert` many times, which has poor performance.  Consider joining all columns at once using pd.concat(axis=1) instead. To get a de-fragmented frame, use `newframe = frame.copy()`\n",
      "  Train_df[new_col_name] = Train_df.groupby(gruopby_col)[col].transform(operation)\n",
      "C:\\Users\\brajesh\\AppData\\Local\\Temp\\ipykernel_13832\\3862288337.py:11: PerformanceWarning: DataFrame is highly fragmented.  This is usually the result of calling `frame.insert` many times, which has poor performance.  Consider joining all columns at once using pd.concat(axis=1) instead. To get a de-fragmented frame, use `newframe = frame.copy()`\n",
      "  Test_df[new_col_name] = Test_df.groupby(gruopby_col)[col].transform(operation)\n"
     ]
    },
    {
     "name": "stdout",
     "output_type": "stream",
     "text": [
      "PerClmDiagnosisCode_6_mean_OPAnnualReimbursementAmt\n",
      "PerClmDiagnosisCode_6_mean_OPAnnualDeductibleAmt\n",
      "PerClmDiagnosisCode_6_mean_Patient_Age\n",
      "PerClmDiagnosisCode_6_mean_Hospitalization_Duration\n"
     ]
    },
    {
     "name": "stderr",
     "output_type": "stream",
     "text": [
      "C:\\Users\\brajesh\\AppData\\Local\\Temp\\ipykernel_13832\\3862288337.py:10: PerformanceWarning: DataFrame is highly fragmented.  This is usually the result of calling `frame.insert` many times, which has poor performance.  Consider joining all columns at once using pd.concat(axis=1) instead. To get a de-fragmented frame, use `newframe = frame.copy()`\n",
      "  Train_df[new_col_name] = Train_df.groupby(gruopby_col)[col].transform(operation)\n",
      "C:\\Users\\brajesh\\AppData\\Local\\Temp\\ipykernel_13832\\3862288337.py:11: PerformanceWarning: DataFrame is highly fragmented.  This is usually the result of calling `frame.insert` many times, which has poor performance.  Consider joining all columns at once using pd.concat(axis=1) instead. To get a de-fragmented frame, use `newframe = frame.copy()`\n",
      "  Test_df[new_col_name] = Test_df.groupby(gruopby_col)[col].transform(operation)\n",
      "C:\\Users\\brajesh\\AppData\\Local\\Temp\\ipykernel_13832\\3862288337.py:10: PerformanceWarning: DataFrame is highly fragmented.  This is usually the result of calling `frame.insert` many times, which has poor performance.  Consider joining all columns at once using pd.concat(axis=1) instead. To get a de-fragmented frame, use `newframe = frame.copy()`\n",
      "  Train_df[new_col_name] = Train_df.groupby(gruopby_col)[col].transform(operation)\n",
      "C:\\Users\\brajesh\\AppData\\Local\\Temp\\ipykernel_13832\\3862288337.py:11: PerformanceWarning: DataFrame is highly fragmented.  This is usually the result of calling `frame.insert` many times, which has poor performance.  Consider joining all columns at once using pd.concat(axis=1) instead. To get a de-fragmented frame, use `newframe = frame.copy()`\n",
      "  Test_df[new_col_name] = Test_df.groupby(gruopby_col)[col].transform(operation)\n",
      "C:\\Users\\brajesh\\AppData\\Local\\Temp\\ipykernel_13832\\3862288337.py:10: PerformanceWarning: DataFrame is highly fragmented.  This is usually the result of calling `frame.insert` many times, which has poor performance.  Consider joining all columns at once using pd.concat(axis=1) instead. To get a de-fragmented frame, use `newframe = frame.copy()`\n",
      "  Train_df[new_col_name] = Train_df.groupby(gruopby_col)[col].transform(operation)\n",
      "C:\\Users\\brajesh\\AppData\\Local\\Temp\\ipykernel_13832\\3862288337.py:11: PerformanceWarning: DataFrame is highly fragmented.  This is usually the result of calling `frame.insert` many times, which has poor performance.  Consider joining all columns at once using pd.concat(axis=1) instead. To get a de-fragmented frame, use `newframe = frame.copy()`\n",
      "  Test_df[new_col_name] = Test_df.groupby(gruopby_col)[col].transform(operation)\n"
     ]
    },
    {
     "name": "stdout",
     "output_type": "stream",
     "text": [
      "PerClmDiagnosisCode_6_mean_Claim_Period\n",
      "PerClmDiagnosisCode_6_mean_Patient_Risk_Score\n"
     ]
    },
    {
     "name": "stderr",
     "output_type": "stream",
     "text": [
      "C:\\Users\\brajesh\\AppData\\Local\\Temp\\ipykernel_13832\\3862288337.py:10: PerformanceWarning: DataFrame is highly fragmented.  This is usually the result of calling `frame.insert` many times, which has poor performance.  Consider joining all columns at once using pd.concat(axis=1) instead. To get a de-fragmented frame, use `newframe = frame.copy()`\n",
      "  Train_df[new_col_name] = Train_df.groupby(gruopby_col)[col].transform(operation)\n",
      "C:\\Users\\brajesh\\AppData\\Local\\Temp\\ipykernel_13832\\3862288337.py:11: PerformanceWarning: DataFrame is highly fragmented.  This is usually the result of calling `frame.insert` many times, which has poor performance.  Consider joining all columns at once using pd.concat(axis=1) instead. To get a de-fragmented frame, use `newframe = frame.copy()`\n",
      "  Test_df[new_col_name] = Test_df.groupby(gruopby_col)[col].transform(operation)\n",
      "C:\\Users\\brajesh\\AppData\\Local\\Temp\\ipykernel_13832\\3862288337.py:10: PerformanceWarning: DataFrame is highly fragmented.  This is usually the result of calling `frame.insert` many times, which has poor performance.  Consider joining all columns at once using pd.concat(axis=1) instead. To get a de-fragmented frame, use `newframe = frame.copy()`\n",
      "  Train_df[new_col_name] = Train_df.groupby(gruopby_col)[col].transform(operation)\n",
      "C:\\Users\\brajesh\\AppData\\Local\\Temp\\ipykernel_13832\\3862288337.py:11: PerformanceWarning: DataFrame is highly fragmented.  This is usually the result of calling `frame.insert` many times, which has poor performance.  Consider joining all columns at once using pd.concat(axis=1) instead. To get a de-fragmented frame, use `newframe = frame.copy()`\n",
      "  Test_df[new_col_name] = Test_df.groupby(gruopby_col)[col].transform(operation)\n",
      "C:\\Users\\brajesh\\AppData\\Local\\Temp\\ipykernel_13832\\3862288337.py:10: PerformanceWarning: DataFrame is highly fragmented.  This is usually the result of calling `frame.insert` many times, which has poor performance.  Consider joining all columns at once using pd.concat(axis=1) instead. To get a de-fragmented frame, use `newframe = frame.copy()`\n",
      "  Train_df[new_col_name] = Train_df.groupby(gruopby_col)[col].transform(operation)\n",
      "C:\\Users\\brajesh\\AppData\\Local\\Temp\\ipykernel_13832\\3862288337.py:11: PerformanceWarning: DataFrame is highly fragmented.  This is usually the result of calling `frame.insert` many times, which has poor performance.  Consider joining all columns at once using pd.concat(axis=1) instead. To get a de-fragmented frame, use `newframe = frame.copy()`\n",
      "  Test_df[new_col_name] = Test_df.groupby(gruopby_col)[col].transform(operation)\n"
     ]
    }
   ],
   "source": [
    "for i in col1:\n",
    "    print(i)\n",
    "    Final_Dataset_Train,Final_Dataset_Test = \\\n",
    "        create_feature_using_groupby(Final_Dataset_Train, Final_Dataset_Test, [i], columns, 'mean')"
   ]
  },
  {
   "cell_type": "code",
   "execution_count": 70,
   "id": "27279879",
   "metadata": {},
   "outputs": [
    {
     "name": "stdout",
     "output_type": "stream",
     "text": [
      "PerProvider_count_ClaimID\n"
     ]
    },
    {
     "name": "stderr",
     "output_type": "stream",
     "text": [
      "C:\\Users\\brajesh\\AppData\\Local\\Temp\\ipykernel_13832\\3862288337.py:10: PerformanceWarning: DataFrame is highly fragmented.  This is usually the result of calling `frame.insert` many times, which has poor performance.  Consider joining all columns at once using pd.concat(axis=1) instead. To get a de-fragmented frame, use `newframe = frame.copy()`\n",
      "  Train_df[new_col_name] = Train_df.groupby(gruopby_col)[col].transform(operation)\n",
      "C:\\Users\\brajesh\\AppData\\Local\\Temp\\ipykernel_13832\\3862288337.py:11: PerformanceWarning: DataFrame is highly fragmented.  This is usually the result of calling `frame.insert` many times, which has poor performance.  Consider joining all columns at once using pd.concat(axis=1) instead. To get a de-fragmented frame, use `newframe = frame.copy()`\n",
      "  Test_df[new_col_name] = Test_df.groupby(gruopby_col)[col].transform(operation)\n"
     ]
    }
   ],
   "source": [
    "# Count the claims per provider\n",
    "Final_Dataset_Train, Final_Dataset_Test =  create_feature_using_groupby(Final_Dataset_Train, Final_Dataset_Test, ['Provider'], ['ClaimID'], 'count')"
   ]
  },
  {
   "cell_type": "code",
   "execution_count": 71,
   "id": "024b1f8a",
   "metadata": {},
   "outputs": [
    {
     "name": "stdout",
     "output_type": "stream",
     "text": [
      "PerProviderBeneID_count_ClaimID\n"
     ]
    },
    {
     "name": "stderr",
     "output_type": "stream",
     "text": [
      "C:\\Users\\brajesh\\AppData\\Local\\Temp\\ipykernel_13832\\3862288337.py:10: PerformanceWarning: DataFrame is highly fragmented.  This is usually the result of calling `frame.insert` many times, which has poor performance.  Consider joining all columns at once using pd.concat(axis=1) instead. To get a de-fragmented frame, use `newframe = frame.copy()`\n",
      "  Train_df[new_col_name] = Train_df.groupby(gruopby_col)[col].transform(operation)\n",
      "C:\\Users\\brajesh\\AppData\\Local\\Temp\\ipykernel_13832\\3862288337.py:11: PerformanceWarning: DataFrame is highly fragmented.  This is usually the result of calling `frame.insert` many times, which has poor performance.  Consider joining all columns at once using pd.concat(axis=1) instead. To get a de-fragmented frame, use `newframe = frame.copy()`\n",
      "  Test_df[new_col_name] = Test_df.groupby(gruopby_col)[col].transform(operation)\n"
     ]
    },
    {
     "name": "stdout",
     "output_type": "stream",
     "text": [
      "PerProviderAttendingPhysician_count_ClaimID\n"
     ]
    },
    {
     "name": "stderr",
     "output_type": "stream",
     "text": [
      "C:\\Users\\brajesh\\AppData\\Local\\Temp\\ipykernel_13832\\3862288337.py:10: PerformanceWarning: DataFrame is highly fragmented.  This is usually the result of calling `frame.insert` many times, which has poor performance.  Consider joining all columns at once using pd.concat(axis=1) instead. To get a de-fragmented frame, use `newframe = frame.copy()`\n",
      "  Train_df[new_col_name] = Train_df.groupby(gruopby_col)[col].transform(operation)\n",
      "C:\\Users\\brajesh\\AppData\\Local\\Temp\\ipykernel_13832\\3862288337.py:11: PerformanceWarning: DataFrame is highly fragmented.  This is usually the result of calling `frame.insert` many times, which has poor performance.  Consider joining all columns at once using pd.concat(axis=1) instead. To get a de-fragmented frame, use `newframe = frame.copy()`\n",
      "  Test_df[new_col_name] = Test_df.groupby(gruopby_col)[col].transform(operation)\n"
     ]
    },
    {
     "name": "stdout",
     "output_type": "stream",
     "text": [
      "PerProviderOtherPhysician_count_ClaimID\n"
     ]
    },
    {
     "name": "stderr",
     "output_type": "stream",
     "text": [
      "C:\\Users\\brajesh\\AppData\\Local\\Temp\\ipykernel_13832\\3862288337.py:10: PerformanceWarning: DataFrame is highly fragmented.  This is usually the result of calling `frame.insert` many times, which has poor performance.  Consider joining all columns at once using pd.concat(axis=1) instead. To get a de-fragmented frame, use `newframe = frame.copy()`\n",
      "  Train_df[new_col_name] = Train_df.groupby(gruopby_col)[col].transform(operation)\n",
      "C:\\Users\\brajesh\\AppData\\Local\\Temp\\ipykernel_13832\\3862288337.py:11: PerformanceWarning: DataFrame is highly fragmented.  This is usually the result of calling `frame.insert` many times, which has poor performance.  Consider joining all columns at once using pd.concat(axis=1) instead. To get a de-fragmented frame, use `newframe = frame.copy()`\n",
      "  Test_df[new_col_name] = Test_df.groupby(gruopby_col)[col].transform(operation)\n"
     ]
    },
    {
     "name": "stdout",
     "output_type": "stream",
     "text": [
      "PerProviderOperatingPhysician_count_ClaimID\n"
     ]
    },
    {
     "name": "stderr",
     "output_type": "stream",
     "text": [
      "C:\\Users\\brajesh\\AppData\\Local\\Temp\\ipykernel_13832\\3862288337.py:10: PerformanceWarning: DataFrame is highly fragmented.  This is usually the result of calling `frame.insert` many times, which has poor performance.  Consider joining all columns at once using pd.concat(axis=1) instead. To get a de-fragmented frame, use `newframe = frame.copy()`\n",
      "  Train_df[new_col_name] = Train_df.groupby(gruopby_col)[col].transform(operation)\n",
      "C:\\Users\\brajesh\\AppData\\Local\\Temp\\ipykernel_13832\\3862288337.py:11: PerformanceWarning: DataFrame is highly fragmented.  This is usually the result of calling `frame.insert` many times, which has poor performance.  Consider joining all columns at once using pd.concat(axis=1) instead. To get a de-fragmented frame, use `newframe = frame.copy()`\n",
      "  Test_df[new_col_name] = Test_df.groupby(gruopby_col)[col].transform(operation)\n"
     ]
    },
    {
     "name": "stdout",
     "output_type": "stream",
     "text": [
      "PerProviderClmAdmitDiagnosisCode_count_ClaimID\n"
     ]
    },
    {
     "name": "stderr",
     "output_type": "stream",
     "text": [
      "C:\\Users\\brajesh\\AppData\\Local\\Temp\\ipykernel_13832\\3862288337.py:10: PerformanceWarning: DataFrame is highly fragmented.  This is usually the result of calling `frame.insert` many times, which has poor performance.  Consider joining all columns at once using pd.concat(axis=1) instead. To get a de-fragmented frame, use `newframe = frame.copy()`\n",
      "  Train_df[new_col_name] = Train_df.groupby(gruopby_col)[col].transform(operation)\n",
      "C:\\Users\\brajesh\\AppData\\Local\\Temp\\ipykernel_13832\\3862288337.py:11: PerformanceWarning: DataFrame is highly fragmented.  This is usually the result of calling `frame.insert` many times, which has poor performance.  Consider joining all columns at once using pd.concat(axis=1) instead. To get a de-fragmented frame, use `newframe = frame.copy()`\n",
      "  Test_df[new_col_name] = Test_df.groupby(gruopby_col)[col].transform(operation)\n",
      "C:\\Users\\brajesh\\AppData\\Local\\Temp\\ipykernel_13832\\3862288337.py:10: PerformanceWarning: DataFrame is highly fragmented.  This is usually the result of calling `frame.insert` many times, which has poor performance.  Consider joining all columns at once using pd.concat(axis=1) instead. To get a de-fragmented frame, use `newframe = frame.copy()`\n",
      "  Train_df[new_col_name] = Train_df.groupby(gruopby_col)[col].transform(operation)\n"
     ]
    },
    {
     "name": "stdout",
     "output_type": "stream",
     "text": [
      "PerProviderClmProcedureCode_1_count_ClaimID\n",
      "PerProviderClmProcedureCode_2_count_ClaimID\n"
     ]
    },
    {
     "name": "stderr",
     "output_type": "stream",
     "text": [
      "C:\\Users\\brajesh\\AppData\\Local\\Temp\\ipykernel_13832\\3862288337.py:11: PerformanceWarning: DataFrame is highly fragmented.  This is usually the result of calling `frame.insert` many times, which has poor performance.  Consider joining all columns at once using pd.concat(axis=1) instead. To get a de-fragmented frame, use `newframe = frame.copy()`\n",
      "  Test_df[new_col_name] = Test_df.groupby(gruopby_col)[col].transform(operation)\n",
      "C:\\Users\\brajesh\\AppData\\Local\\Temp\\ipykernel_13832\\3862288337.py:10: PerformanceWarning: DataFrame is highly fragmented.  This is usually the result of calling `frame.insert` many times, which has poor performance.  Consider joining all columns at once using pd.concat(axis=1) instead. To get a de-fragmented frame, use `newframe = frame.copy()`\n",
      "  Train_df[new_col_name] = Train_df.groupby(gruopby_col)[col].transform(operation)\n",
      "C:\\Users\\brajesh\\AppData\\Local\\Temp\\ipykernel_13832\\3862288337.py:11: PerformanceWarning: DataFrame is highly fragmented.  This is usually the result of calling `frame.insert` many times, which has poor performance.  Consider joining all columns at once using pd.concat(axis=1) instead. To get a de-fragmented frame, use `newframe = frame.copy()`\n",
      "  Test_df[new_col_name] = Test_df.groupby(gruopby_col)[col].transform(operation)\n"
     ]
    },
    {
     "name": "stdout",
     "output_type": "stream",
     "text": [
      "PerProviderClmProcedureCode_3_count_ClaimID\n",
      "PerProviderClmProcedureCode_4_count_ClaimID\n"
     ]
    },
    {
     "name": "stderr",
     "output_type": "stream",
     "text": [
      "C:\\Users\\brajesh\\AppData\\Local\\Temp\\ipykernel_13832\\3862288337.py:10: PerformanceWarning: DataFrame is highly fragmented.  This is usually the result of calling `frame.insert` many times, which has poor performance.  Consider joining all columns at once using pd.concat(axis=1) instead. To get a de-fragmented frame, use `newframe = frame.copy()`\n",
      "  Train_df[new_col_name] = Train_df.groupby(gruopby_col)[col].transform(operation)\n",
      "C:\\Users\\brajesh\\AppData\\Local\\Temp\\ipykernel_13832\\3862288337.py:11: PerformanceWarning: DataFrame is highly fragmented.  This is usually the result of calling `frame.insert` many times, which has poor performance.  Consider joining all columns at once using pd.concat(axis=1) instead. To get a de-fragmented frame, use `newframe = frame.copy()`\n",
      "  Test_df[new_col_name] = Test_df.groupby(gruopby_col)[col].transform(operation)\n",
      "C:\\Users\\brajesh\\AppData\\Local\\Temp\\ipykernel_13832\\3862288337.py:10: PerformanceWarning: DataFrame is highly fragmented.  This is usually the result of calling `frame.insert` many times, which has poor performance.  Consider joining all columns at once using pd.concat(axis=1) instead. To get a de-fragmented frame, use `newframe = frame.copy()`\n",
      "  Train_df[new_col_name] = Train_df.groupby(gruopby_col)[col].transform(operation)\n",
      "C:\\Users\\brajesh\\AppData\\Local\\Temp\\ipykernel_13832\\3862288337.py:11: PerformanceWarning: DataFrame is highly fragmented.  This is usually the result of calling `frame.insert` many times, which has poor performance.  Consider joining all columns at once using pd.concat(axis=1) instead. To get a de-fragmented frame, use `newframe = frame.copy()`\n",
      "  Test_df[new_col_name] = Test_df.groupby(gruopby_col)[col].transform(operation)\n"
     ]
    },
    {
     "name": "stdout",
     "output_type": "stream",
     "text": [
      "PerProviderClmProcedureCode_5_count_ClaimID\n",
      "PerProviderClmDiagnosisCode_1_count_ClaimID\n"
     ]
    },
    {
     "name": "stderr",
     "output_type": "stream",
     "text": [
      "C:\\Users\\brajesh\\AppData\\Local\\Temp\\ipykernel_13832\\3862288337.py:10: PerformanceWarning: DataFrame is highly fragmented.  This is usually the result of calling `frame.insert` many times, which has poor performance.  Consider joining all columns at once using pd.concat(axis=1) instead. To get a de-fragmented frame, use `newframe = frame.copy()`\n",
      "  Train_df[new_col_name] = Train_df.groupby(gruopby_col)[col].transform(operation)\n",
      "C:\\Users\\brajesh\\AppData\\Local\\Temp\\ipykernel_13832\\3862288337.py:11: PerformanceWarning: DataFrame is highly fragmented.  This is usually the result of calling `frame.insert` many times, which has poor performance.  Consider joining all columns at once using pd.concat(axis=1) instead. To get a de-fragmented frame, use `newframe = frame.copy()`\n",
      "  Test_df[new_col_name] = Test_df.groupby(gruopby_col)[col].transform(operation)\n",
      "C:\\Users\\brajesh\\AppData\\Local\\Temp\\ipykernel_13832\\3862288337.py:10: PerformanceWarning: DataFrame is highly fragmented.  This is usually the result of calling `frame.insert` many times, which has poor performance.  Consider joining all columns at once using pd.concat(axis=1) instead. To get a de-fragmented frame, use `newframe = frame.copy()`\n",
      "  Train_df[new_col_name] = Train_df.groupby(gruopby_col)[col].transform(operation)\n",
      "C:\\Users\\brajesh\\AppData\\Local\\Temp\\ipykernel_13832\\3862288337.py:11: PerformanceWarning: DataFrame is highly fragmented.  This is usually the result of calling `frame.insert` many times, which has poor performance.  Consider joining all columns at once using pd.concat(axis=1) instead. To get a de-fragmented frame, use `newframe = frame.copy()`\n",
      "  Test_df[new_col_name] = Test_df.groupby(gruopby_col)[col].transform(operation)\n"
     ]
    },
    {
     "name": "stdout",
     "output_type": "stream",
     "text": [
      "PerProviderClmDiagnosisCode_2_count_ClaimID\n"
     ]
    },
    {
     "name": "stderr",
     "output_type": "stream",
     "text": [
      "C:\\Users\\brajesh\\AppData\\Local\\Temp\\ipykernel_13832\\3862288337.py:10: PerformanceWarning: DataFrame is highly fragmented.  This is usually the result of calling `frame.insert` many times, which has poor performance.  Consider joining all columns at once using pd.concat(axis=1) instead. To get a de-fragmented frame, use `newframe = frame.copy()`\n",
      "  Train_df[new_col_name] = Train_df.groupby(gruopby_col)[col].transform(operation)\n",
      "C:\\Users\\brajesh\\AppData\\Local\\Temp\\ipykernel_13832\\3862288337.py:11: PerformanceWarning: DataFrame is highly fragmented.  This is usually the result of calling `frame.insert` many times, which has poor performance.  Consider joining all columns at once using pd.concat(axis=1) instead. To get a de-fragmented frame, use `newframe = frame.copy()`\n",
      "  Test_df[new_col_name] = Test_df.groupby(gruopby_col)[col].transform(operation)\n"
     ]
    },
    {
     "name": "stdout",
     "output_type": "stream",
     "text": [
      "PerProviderClmDiagnosisCode_3_count_ClaimID\n"
     ]
    },
    {
     "name": "stderr",
     "output_type": "stream",
     "text": [
      "C:\\Users\\brajesh\\AppData\\Local\\Temp\\ipykernel_13832\\3862288337.py:10: PerformanceWarning: DataFrame is highly fragmented.  This is usually the result of calling `frame.insert` many times, which has poor performance.  Consider joining all columns at once using pd.concat(axis=1) instead. To get a de-fragmented frame, use `newframe = frame.copy()`\n",
      "  Train_df[new_col_name] = Train_df.groupby(gruopby_col)[col].transform(operation)\n",
      "C:\\Users\\brajesh\\AppData\\Local\\Temp\\ipykernel_13832\\3862288337.py:11: PerformanceWarning: DataFrame is highly fragmented.  This is usually the result of calling `frame.insert` many times, which has poor performance.  Consider joining all columns at once using pd.concat(axis=1) instead. To get a de-fragmented frame, use `newframe = frame.copy()`\n",
      "  Test_df[new_col_name] = Test_df.groupby(gruopby_col)[col].transform(operation)\n"
     ]
    },
    {
     "name": "stdout",
     "output_type": "stream",
     "text": [
      "PerProviderClmDiagnosisCode_4_count_ClaimID\n"
     ]
    },
    {
     "name": "stderr",
     "output_type": "stream",
     "text": [
      "C:\\Users\\brajesh\\AppData\\Local\\Temp\\ipykernel_13832\\3862288337.py:10: PerformanceWarning: DataFrame is highly fragmented.  This is usually the result of calling `frame.insert` many times, which has poor performance.  Consider joining all columns at once using pd.concat(axis=1) instead. To get a de-fragmented frame, use `newframe = frame.copy()`\n",
      "  Train_df[new_col_name] = Train_df.groupby(gruopby_col)[col].transform(operation)\n",
      "C:\\Users\\brajesh\\AppData\\Local\\Temp\\ipykernel_13832\\3862288337.py:11: PerformanceWarning: DataFrame is highly fragmented.  This is usually the result of calling `frame.insert` many times, which has poor performance.  Consider joining all columns at once using pd.concat(axis=1) instead. To get a de-fragmented frame, use `newframe = frame.copy()`\n",
      "  Test_df[new_col_name] = Test_df.groupby(gruopby_col)[col].transform(operation)\n"
     ]
    },
    {
     "name": "stdout",
     "output_type": "stream",
     "text": [
      "PerProviderClmDiagnosisCode_5_count_ClaimID\n"
     ]
    },
    {
     "name": "stderr",
     "output_type": "stream",
     "text": [
      "C:\\Users\\brajesh\\AppData\\Local\\Temp\\ipykernel_13832\\3862288337.py:10: PerformanceWarning: DataFrame is highly fragmented.  This is usually the result of calling `frame.insert` many times, which has poor performance.  Consider joining all columns at once using pd.concat(axis=1) instead. To get a de-fragmented frame, use `newframe = frame.copy()`\n",
      "  Train_df[new_col_name] = Train_df.groupby(gruopby_col)[col].transform(operation)\n",
      "C:\\Users\\brajesh\\AppData\\Local\\Temp\\ipykernel_13832\\3862288337.py:11: PerformanceWarning: DataFrame is highly fragmented.  This is usually the result of calling `frame.insert` many times, which has poor performance.  Consider joining all columns at once using pd.concat(axis=1) instead. To get a de-fragmented frame, use `newframe = frame.copy()`\n",
      "  Test_df[new_col_name] = Test_df.groupby(gruopby_col)[col].transform(operation)\n"
     ]
    },
    {
     "name": "stdout",
     "output_type": "stream",
     "text": [
      "PerProviderClmDiagnosisCode_6_count_ClaimID\n",
      "PerProviderDiagnosisGroupCode_count_ClaimID\n"
     ]
    },
    {
     "name": "stderr",
     "output_type": "stream",
     "text": [
      "C:\\Users\\brajesh\\AppData\\Local\\Temp\\ipykernel_13832\\3862288337.py:10: PerformanceWarning: DataFrame is highly fragmented.  This is usually the result of calling `frame.insert` many times, which has poor performance.  Consider joining all columns at once using pd.concat(axis=1) instead. To get a de-fragmented frame, use `newframe = frame.copy()`\n",
      "  Train_df[new_col_name] = Train_df.groupby(gruopby_col)[col].transform(operation)\n",
      "C:\\Users\\brajesh\\AppData\\Local\\Temp\\ipykernel_13832\\3862288337.py:11: PerformanceWarning: DataFrame is highly fragmented.  This is usually the result of calling `frame.insert` many times, which has poor performance.  Consider joining all columns at once using pd.concat(axis=1) instead. To get a de-fragmented frame, use `newframe = frame.copy()`\n",
      "  Test_df[new_col_name] = Test_df.groupby(gruopby_col)[col].transform(operation)\n",
      "C:\\Users\\brajesh\\AppData\\Local\\Temp\\ipykernel_13832\\3862288337.py:10: PerformanceWarning: DataFrame is highly fragmented.  This is usually the result of calling `frame.insert` many times, which has poor performance.  Consider joining all columns at once using pd.concat(axis=1) instead. To get a de-fragmented frame, use `newframe = frame.copy()`\n",
      "  Train_df[new_col_name] = Train_df.groupby(gruopby_col)[col].transform(operation)\n",
      "C:\\Users\\brajesh\\AppData\\Local\\Temp\\ipykernel_13832\\3862288337.py:11: PerformanceWarning: DataFrame is highly fragmented.  This is usually the result of calling `frame.insert` many times, which has poor performance.  Consider joining all columns at once using pd.concat(axis=1) instead. To get a de-fragmented frame, use `newframe = frame.copy()`\n",
      "  Test_df[new_col_name] = Test_df.groupby(gruopby_col)[col].transform(operation)\n"
     ]
    }
   ],
   "source": [
    "columns = ['ClaimID']\n",
    "grp_by_cols = ['BeneID', 'AttendingPhysician', 'OtherPhysician', 'OperatingPhysician', 'ClmAdmitDiagnosisCode', 'ClmProcedureCode_1',\n",
    "               'ClmProcedureCode_2', 'ClmProcedureCode_3', 'ClmProcedureCode_4', 'ClmProcedureCode_5', 'ClmDiagnosisCode_1', 'ClmDiagnosisCode_2',\n",
    "               'ClmDiagnosisCode_3', 'ClmDiagnosisCode_4', 'ClmDiagnosisCode_5', 'ClmDiagnosisCode_6', 'DiagnosisGroupCode']\n",
    "for ele in grp_by_cols:\n",
    "    lst = ['Provider', ele]\n",
    "    Final_Dataset_Train,Final_Dataset_Test =  create_feature_using_groupby(Final_Dataset_Train, Final_Dataset_Test, lst, columns, 'count')"
   ]
  },
  {
   "cell_type": "code",
   "execution_count": 72,
   "id": "769af121",
   "metadata": {},
   "outputs": [
    {
     "name": "stdout",
     "output_type": "stream",
     "text": [
      "PotentialFraud\n"
     ]
    }
   ],
   "source": [
    "for col in Final_Dataset_Train.columns:\n",
    "    if col not in Final_Dataset_Test.columns:\n",
    "        print(col)"
   ]
  },
  {
   "cell_type": "code",
   "execution_count": 73,
   "id": "1176e6e8",
   "metadata": {},
   "outputs": [],
   "source": [
    "remove_columns=['BeneID', 'ClaimID', 'ClaimStartDt','ClaimEndDt','AttendingPhysician','OperatingPhysician', 'OtherPhysician',\n",
    "                'ClmDiagnosisCode_1','ClmDiagnosisCode_2', 'ClmDiagnosisCode_3', 'ClmDiagnosisCode_4','ClmDiagnosisCode_5',\n",
    "                'ClmDiagnosisCode_6', 'ClmDiagnosisCode_7','ClmDiagnosisCode_8', 'ClmDiagnosisCode_9', 'ClmDiagnosisCode_10',\n",
    "                'ClmProcedureCode_1', 'ClmProcedureCode_2', 'ClmProcedureCode_3','ClmProcedureCode_4', 'ClmProcedureCode_5',\n",
    "                'ClmProcedureCode_6','ClmAdmitDiagnosisCode', 'AdmissionDt','ClaimStart_Year', 'ClaimStart_Year', 'ClaimStart_Month',\n",
    "                'ClaimEnd_Year', 'ClaimEnd_Month', 'Admission_Year', 'Admission_Month', 'Discharge_Year', 'Discharge_Month',\n",
    "                'DischargeDt', 'DiagnosisGroupCode','DOB', 'DOD','Birth_Year', 'Birth_Month','State', 'County']\n",
    "\n",
    "Final_Dataset_Train_FE=Final_Dataset_Train.drop(columns=remove_columns, axis=1)\n",
    "Final_Dataset_Test_FE=Final_Dataset_Test.drop(columns=remove_columns, axis=1)"
   ]
  },
  {
   "cell_type": "code",
   "execution_count": 74,
   "id": "a3f979bc",
   "metadata": {},
   "outputs": [],
   "source": [
    "# Convert type of Gender and Race to categorical\n",
    "Final_Dataset_Train_FE.Gender=Final_Dataset_Train_FE.Gender.astype('category')\n",
    "Final_Dataset_Test_FE.Gender=Final_Dataset_Test_FE.Gender.astype('category')\n",
    "\n",
    "Final_Dataset_Train_FE.Race=Final_Dataset_Train_FE.Race.astype('category')\n",
    "Final_Dataset_Test_FE.Race=Final_Dataset_Test_FE.Race.astype('category')"
   ]
  },
  {
   "cell_type": "code",
   "execution_count": 75,
   "id": "0c0beab7",
   "metadata": {},
   "outputs": [],
   "source": [
    "# Do one hot encoding for gender and Race\n",
    "Final_Dataset_Train_FE=pd.get_dummies(Final_Dataset_Train_FE,columns=['Gender','Race'])\n",
    "Final_Dataset_Test_FE=pd.get_dummies(Final_Dataset_Test_FE,columns=['Gender','Race'])"
   ]
  },
  {
   "cell_type": "code",
   "execution_count": 76,
   "id": "52f38c03",
   "metadata": {},
   "outputs": [],
   "source": [
    "Final_Dataset_Provider_Train = Final_Dataset_Train_FE.groupby(['Provider','PotentialFraud'],as_index=False).agg('sum')\n",
    "Final_Dataset_Provider_Test  = Final_Dataset_Test_FE.groupby(['Provider'],as_index=False).agg('sum')"
   ]
  },
  {
   "cell_type": "code",
   "execution_count": 77,
   "id": "c36ac751",
   "metadata": {},
   "outputs": [],
   "source": [
    "Final_Dataset_Provider_Train.PotentialFraud.replace(['Yes','No'],['1','0'],inplace=True)\n",
    "Final_Dataset_Provider_Train.PotentialFraud=Final_Dataset_Provider_Train.PotentialFraud.astype('int64')"
   ]
  },
  {
   "cell_type": "code",
   "execution_count": 78,
   "id": "8cfe1acc",
   "metadata": {},
   "outputs": [],
   "source": [
    "Final_Dataset_Provider_Train.to_csv('Final_Train.csv')\n",
    "Final_Dataset_Provider_Test.to_csv('Final_Test.csv')"
   ]
  },
  {
   "cell_type": "code",
   "execution_count": null,
   "id": "2748f9fd",
   "metadata": {},
   "outputs": [],
   "source": []
  }
 ],
 "metadata": {
  "kernelspec": {
   "display_name": "Python 3 (ipykernel)",
   "language": "python",
   "name": "python3"
  },
  "language_info": {
   "codemirror_mode": {
    "name": "ipython",
    "version": 3
   },
   "file_extension": ".py",
   "mimetype": "text/x-python",
   "name": "python",
   "nbconvert_exporter": "python",
   "pygments_lexer": "ipython3",
   "version": "3.10.5"
  }
 },
 "nbformat": 4,
 "nbformat_minor": 5
}
