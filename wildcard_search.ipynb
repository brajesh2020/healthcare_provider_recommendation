{
 "cells": [
  {
   "cell_type": "code",
   "execution_count": 4,
   "id": "5bd1fc36-4985-43d4-b4ef-591e7640aa20",
   "metadata": {},
   "outputs": [
    {
     "name": "stdout",
     "output_type": "stream",
     "text": [
      "                                 Text\n",
      "0  This is a sample text satish pondu\n",
      "1   Another example text pondu satish\n",
      "2  Some other words here satish-pondu\n",
      "3              Multiple words example\n",
      "4             Case-insensitive search\n"
     ]
    }
   ],
   "source": [
    "import pandas as pd\n",
    "import re\n",
    "\n",
    "# Sample DataFrame\n",
    "data = {'Text': ['This is a sample text satish pondu',\n",
    "                 'Another example text pondu satish',\n",
    "                 'Some other words here satish-pondu',\n",
    "                 'Multiple words example',\n",
    "                 'Case-insensitive search']}\n",
    "df = pd.DataFrame(data)\n",
    "\n",
    "# Sample phrase\n",
    "phrase = \"Hello, this is a sample phrase with some 123 numbers and punctuation!\"\n",
    "\n",
    "# Remove non-text characters using regular expression\n",
    "cleaned_phrase = re.sub(r'[^a-zA-Z\\s]', '', phrase)\n",
    "\n",
    "# Split the cleaned phrase into a list of words\n",
    "word_list = cleaned_phrase.split()\n",
    "\n",
    "# Define the list of words you want to search for\n",
    "# words_to_search = ['satish', 'pondu']\n",
    "words_to_search = word_list\n",
    "\n",
    "# Create a regular expression pattern for the search\n",
    "pattern = '|'.join(words_to_search)\n",
    "\n",
    "# Use str.contains with case=False for case-insensitive search\n",
    "filtered_df = df[df['Text'].str.contains(pattern, case=False, na=False)]\n",
    "\n",
    "# Print the filtered DataFrame\n",
    "print(filtered_df)\n"
   ]
  },
  {
   "cell_type": "code",
   "execution_count": null,
   "id": "5ddfface-a413-4b08-be5a-e1907cca707c",
   "metadata": {},
   "outputs": [],
   "source": []
  }
 ],
 "metadata": {
  "kernelspec": {
   "display_name": "Python 3 (ipykernel)",
   "language": "python",
   "name": "python3"
  },
  "language_info": {
   "codemirror_mode": {
    "name": "ipython",
    "version": 3
   },
   "file_extension": ".py",
   "mimetype": "text/x-python",
   "name": "python",
   "nbconvert_exporter": "python",
   "pygments_lexer": "ipython3",
   "version": "3.10.5"
  }
 },
 "nbformat": 4,
 "nbformat_minor": 5
}
